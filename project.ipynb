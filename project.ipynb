{
 "cells": [
  {
   "cell_type": "markdown",
   "id": "6528efb3-6918-4d2d-b6d8-9c12c2e1a829",
   "metadata": {},
   "source": [
    "## Import Libraries"
   ]
  },
  {
   "cell_type": "code",
   "execution_count": 2,
   "id": "43c24321-9c3a-474b-ab36-e2122b2320b3",
   "metadata": {},
   "outputs": [],
   "source": [
    "import pandas as pd\n",
    "import numpy as np\n",
    "import matplotlib.pyplot as plt\n",
    "import seaborn as sns\n",
    "\n",
    "%matplotlib inline\n",
    "\n",
    "from sklearn.model_selection import train_test_split\n",
    "from sklearn.feature_extraction import DictVectorizer\n",
    "from sklearn.linear_model import LogisticRegression\n",
    "from sklearn.tree import DecisionTreeClassifier\n",
    "from sklearn.ensemble import RandomForestClassifier\n",
    "from sklearn.metrics import roc_auc_score\n",
    "\n",
    "import xgboost as xgb\n",
    "\n",
    "import warnings\n",
    "warnings.filterwarnings(\"ignore\")"
   ]
  },
  {
   "cell_type": "markdown",
   "id": "36c6e67c-19d1-4c46-bf99-97bc322d5452",
   "metadata": {},
   "source": [
    "## Import Data"
   ]
  },
  {
   "cell_type": "code",
   "execution_count": 3,
   "id": "332aa1b5-95a8-4cba-a2c4-1b221469951d",
   "metadata": {},
   "outputs": [],
   "source": [
    "url = 'data/train.csv'"
   ]
  },
  {
   "cell_type": "code",
   "execution_count": 4,
   "id": "cebfd99e-1d15-4d5a-a302-42e20847ec6f",
   "metadata": {},
   "outputs": [],
   "source": [
    "df = pd.read_csv(url)"
   ]
  },
  {
   "cell_type": "code",
   "execution_count": 10,
   "id": "3126c321-3850-4527-b7ed-ddc8c7ec9cdd",
   "metadata": {
    "scrolled": true
   },
   "outputs": [
    {
     "data": {
      "text/html": [
       "<div>\n",
       "<style scoped>\n",
       "    .dataframe tbody tr th:only-of-type {\n",
       "        vertical-align: middle;\n",
       "    }\n",
       "\n",
       "    .dataframe tbody tr th {\n",
       "        vertical-align: top;\n",
       "    }\n",
       "\n",
       "    .dataframe thead th {\n",
       "        text-align: right;\n",
       "    }\n",
       "</style>\n",
       "<table border=\"1\" class=\"dataframe\">\n",
       "  <thead>\n",
       "    <tr style=\"text-align: right;\">\n",
       "      <th></th>\n",
       "      <th>0</th>\n",
       "      <th>1</th>\n",
       "      <th>2</th>\n",
       "      <th>3</th>\n",
       "      <th>4</th>\n",
       "    </tr>\n",
       "  </thead>\n",
       "  <tbody>\n",
       "    <tr>\n",
       "      <th>patient_id</th>\n",
       "      <td>RDG0550</td>\n",
       "      <td>NMA3851</td>\n",
       "      <td>TUI5807</td>\n",
       "      <td>YYT5016</td>\n",
       "      <td>ZAC5937</td>\n",
       "    </tr>\n",
       "    <tr>\n",
       "      <th>age</th>\n",
       "      <td>33</td>\n",
       "      <td>56</td>\n",
       "      <td>19</td>\n",
       "      <td>50</td>\n",
       "      <td>89</td>\n",
       "    </tr>\n",
       "    <tr>\n",
       "      <th>sex</th>\n",
       "      <td>Male</td>\n",
       "      <td>Female</td>\n",
       "      <td>Female</td>\n",
       "      <td>Female</td>\n",
       "      <td>Female</td>\n",
       "    </tr>\n",
       "    <tr>\n",
       "      <th>cholesterol</th>\n",
       "      <td>200</td>\n",
       "      <td>262</td>\n",
       "      <td>140</td>\n",
       "      <td>163</td>\n",
       "      <td>144</td>\n",
       "    </tr>\n",
       "    <tr>\n",
       "      <th>blood_pressure</th>\n",
       "      <td>129/90</td>\n",
       "      <td>159/105</td>\n",
       "      <td>161/109</td>\n",
       "      <td>120/62</td>\n",
       "      <td>153/110</td>\n",
       "    </tr>\n",
       "    <tr>\n",
       "      <th>heart_rate</th>\n",
       "      <td>48</td>\n",
       "      <td>46</td>\n",
       "      <td>54</td>\n",
       "      <td>53</td>\n",
       "      <td>92</td>\n",
       "    </tr>\n",
       "    <tr>\n",
       "      <th>diabetes</th>\n",
       "      <td>0</td>\n",
       "      <td>1</td>\n",
       "      <td>0</td>\n",
       "      <td>0</td>\n",
       "      <td>1</td>\n",
       "    </tr>\n",
       "    <tr>\n",
       "      <th>family_history</th>\n",
       "      <td>1</td>\n",
       "      <td>0</td>\n",
       "      <td>1</td>\n",
       "      <td>1</td>\n",
       "      <td>0</td>\n",
       "    </tr>\n",
       "    <tr>\n",
       "      <th>smoking</th>\n",
       "      <td>1</td>\n",
       "      <td>1</td>\n",
       "      <td>0</td>\n",
       "      <td>1</td>\n",
       "      <td>1</td>\n",
       "    </tr>\n",
       "    <tr>\n",
       "      <th>obesity</th>\n",
       "      <td>1</td>\n",
       "      <td>0</td>\n",
       "      <td>0</td>\n",
       "      <td>1</td>\n",
       "      <td>0</td>\n",
       "    </tr>\n",
       "    <tr>\n",
       "      <th>alcohol_consumption</th>\n",
       "      <td>1</td>\n",
       "      <td>0</td>\n",
       "      <td>1</td>\n",
       "      <td>1</td>\n",
       "      <td>1</td>\n",
       "    </tr>\n",
       "    <tr>\n",
       "      <th>exercise_hours_per_week</th>\n",
       "      <td>7.80769</td>\n",
       "      <td>17.297628</td>\n",
       "      <td>8.695288</td>\n",
       "      <td>10.161587</td>\n",
       "      <td>16.436787</td>\n",
       "    </tr>\n",
       "    <tr>\n",
       "      <th>diet</th>\n",
       "      <td>Unhealthy</td>\n",
       "      <td>Average</td>\n",
       "      <td>Average</td>\n",
       "      <td>Healthy</td>\n",
       "      <td>Healthy</td>\n",
       "    </tr>\n",
       "    <tr>\n",
       "      <th>previous_heart_problems</th>\n",
       "      <td>0</td>\n",
       "      <td>1</td>\n",
       "      <td>1</td>\n",
       "      <td>0</td>\n",
       "      <td>1</td>\n",
       "    </tr>\n",
       "    <tr>\n",
       "      <th>medication_use</th>\n",
       "      <td>1</td>\n",
       "      <td>0</td>\n",
       "      <td>1</td>\n",
       "      <td>1</td>\n",
       "      <td>0</td>\n",
       "    </tr>\n",
       "    <tr>\n",
       "      <th>stress_level</th>\n",
       "      <td>2</td>\n",
       "      <td>8</td>\n",
       "      <td>3</td>\n",
       "      <td>7</td>\n",
       "      <td>1</td>\n",
       "    </tr>\n",
       "    <tr>\n",
       "      <th>sedentary_hours_per_day</th>\n",
       "      <td>0.138443</td>\n",
       "      <td>0.369552</td>\n",
       "      <td>8.646334</td>\n",
       "      <td>1.107884</td>\n",
       "      <td>1.33757</td>\n",
       "    </tr>\n",
       "    <tr>\n",
       "      <th>income</th>\n",
       "      <td>184066</td>\n",
       "      <td>211755</td>\n",
       "      <td>252203</td>\n",
       "      <td>121954</td>\n",
       "      <td>180121</td>\n",
       "    </tr>\n",
       "    <tr>\n",
       "      <th>bmi</th>\n",
       "      <td>30.449815</td>\n",
       "      <td>34.973685</td>\n",
       "      <td>30.554246</td>\n",
       "      <td>35.390265</td>\n",
       "      <td>39.575483</td>\n",
       "    </tr>\n",
       "    <tr>\n",
       "      <th>triglycerides</th>\n",
       "      <td>63</td>\n",
       "      <td>333</td>\n",
       "      <td>537</td>\n",
       "      <td>591</td>\n",
       "      <td>145</td>\n",
       "    </tr>\n",
       "    <tr>\n",
       "      <th>physical_activity_days_per_week</th>\n",
       "      <td>6</td>\n",
       "      <td>7</td>\n",
       "      <td>2</td>\n",
       "      <td>0</td>\n",
       "      <td>2</td>\n",
       "    </tr>\n",
       "    <tr>\n",
       "      <th>sleep_hours_per_day</th>\n",
       "      <td>7</td>\n",
       "      <td>8</td>\n",
       "      <td>10</td>\n",
       "      <td>9</td>\n",
       "      <td>5</td>\n",
       "    </tr>\n",
       "    <tr>\n",
       "      <th>country</th>\n",
       "      <td>Argentina</td>\n",
       "      <td>Nigeria</td>\n",
       "      <td>Thailand</td>\n",
       "      <td>Spain</td>\n",
       "      <td>Germany</td>\n",
       "    </tr>\n",
       "    <tr>\n",
       "      <th>continent</th>\n",
       "      <td>South America</td>\n",
       "      <td>Africa</td>\n",
       "      <td>Asia</td>\n",
       "      <td>Europe</td>\n",
       "      <td>Europe</td>\n",
       "    </tr>\n",
       "    <tr>\n",
       "      <th>hemisphere</th>\n",
       "      <td>Southern Hemisphere</td>\n",
       "      <td>Northern Hemisphere</td>\n",
       "      <td>Northern Hemisphere</td>\n",
       "      <td>Southern Hemisphere</td>\n",
       "      <td>Northern Hemisphere</td>\n",
       "    </tr>\n",
       "    <tr>\n",
       "      <th>heart_attack_risk</th>\n",
       "      <td>1</td>\n",
       "      <td>1</td>\n",
       "      <td>0</td>\n",
       "      <td>1</td>\n",
       "      <td>1</td>\n",
       "    </tr>\n",
       "  </tbody>\n",
       "</table>\n",
       "</div>"
      ],
      "text/plain": [
       "                                                   0                    1  \\\n",
       "patient_id                                   RDG0550              NMA3851   \n",
       "age                                               33                   56   \n",
       "sex                                             Male               Female   \n",
       "cholesterol                                      200                  262   \n",
       "blood_pressure                                129/90              159/105   \n",
       "heart_rate                                        48                   46   \n",
       "diabetes                                           0                    1   \n",
       "family_history                                     1                    0   \n",
       "smoking                                            1                    1   \n",
       "obesity                                            1                    0   \n",
       "alcohol_consumption                                1                    0   \n",
       "exercise_hours_per_week                      7.80769            17.297628   \n",
       "diet                                       Unhealthy              Average   \n",
       "previous_heart_problems                            0                    1   \n",
       "medication_use                                     1                    0   \n",
       "stress_level                                       2                    8   \n",
       "sedentary_hours_per_day                     0.138443             0.369552   \n",
       "income                                        184066               211755   \n",
       "bmi                                        30.449815            34.973685   \n",
       "triglycerides                                     63                  333   \n",
       "physical_activity_days_per_week                    6                    7   \n",
       "sleep_hours_per_day                                7                    8   \n",
       "country                                    Argentina              Nigeria   \n",
       "continent                              South America               Africa   \n",
       "hemisphere                       Southern Hemisphere  Northern Hemisphere   \n",
       "heart_attack_risk                                  1                    1   \n",
       "\n",
       "                                                   2                    3  \\\n",
       "patient_id                                   TUI5807              YYT5016   \n",
       "age                                               19                   50   \n",
       "sex                                           Female               Female   \n",
       "cholesterol                                      140                  163   \n",
       "blood_pressure                               161/109               120/62   \n",
       "heart_rate                                        54                   53   \n",
       "diabetes                                           0                    0   \n",
       "family_history                                     1                    1   \n",
       "smoking                                            0                    1   \n",
       "obesity                                            0                    1   \n",
       "alcohol_consumption                                1                    1   \n",
       "exercise_hours_per_week                     8.695288            10.161587   \n",
       "diet                                         Average              Healthy   \n",
       "previous_heart_problems                            1                    0   \n",
       "medication_use                                     1                    1   \n",
       "stress_level                                       3                    7   \n",
       "sedentary_hours_per_day                     8.646334             1.107884   \n",
       "income                                        252203               121954   \n",
       "bmi                                        30.554246            35.390265   \n",
       "triglycerides                                    537                  591   \n",
       "physical_activity_days_per_week                    2                    0   \n",
       "sleep_hours_per_day                               10                    9   \n",
       "country                                     Thailand                Spain   \n",
       "continent                                       Asia               Europe   \n",
       "hemisphere                       Northern Hemisphere  Southern Hemisphere   \n",
       "heart_attack_risk                                  0                    1   \n",
       "\n",
       "                                                   4  \n",
       "patient_id                                   ZAC5937  \n",
       "age                                               89  \n",
       "sex                                           Female  \n",
       "cholesterol                                      144  \n",
       "blood_pressure                               153/110  \n",
       "heart_rate                                        92  \n",
       "diabetes                                           1  \n",
       "family_history                                     0  \n",
       "smoking                                            1  \n",
       "obesity                                            0  \n",
       "alcohol_consumption                                1  \n",
       "exercise_hours_per_week                    16.436787  \n",
       "diet                                         Healthy  \n",
       "previous_heart_problems                            1  \n",
       "medication_use                                     0  \n",
       "stress_level                                       1  \n",
       "sedentary_hours_per_day                      1.33757  \n",
       "income                                        180121  \n",
       "bmi                                        39.575483  \n",
       "triglycerides                                    145  \n",
       "physical_activity_days_per_week                    2  \n",
       "sleep_hours_per_day                                5  \n",
       "country                                      Germany  \n",
       "continent                                     Europe  \n",
       "hemisphere                       Northern Hemisphere  \n",
       "heart_attack_risk                                  1  "
      ]
     },
     "execution_count": 10,
     "metadata": {},
     "output_type": "execute_result"
    }
   ],
   "source": [
    "df.head().T"
   ]
  },
  {
   "cell_type": "markdown",
   "id": "01d93279-812d-4f16-bac1-1ea68c9d07d5",
   "metadata": {},
   "source": [
    "## Data Description"
   ]
  },
  {
   "cell_type": "markdown",
   "id": "325fde37-7f77-41be-ba4d-f3592c33c96f",
   "metadata": {},
   "source": [
    "The features for preparing the predictors:\n",
    "\n",
    "- `Patient ID`: Unique identifier for each patienttack risk (1: Yes, 0: No)ack risk (1: Yes, 0: No)"
   ]
  },
  {
   "cell_type": "markdown",
   "id": "91698980-a5fc-48dc-9878-316adaaed323",
   "metadata": {},
   "source": [
    "- `Age`: Age of the patient"
   ]
  },
  {
   "cell_type": "markdown",
   "id": "ec479a15-5ba6-4af4-8bb5-fbe4f709bec3",
   "metadata": {},
   "source": [
    "- `Sex`: Gender of the patient (Male/Female)"
   ]
  },
  {
   "cell_type": "markdown",
   "id": "44b9c9ce-9733-47ff-9a59-7f89d2729ce6",
   "metadata": {},
   "source": [
    "- `Cholesterol`: Cholesterol levels of the patient"
   ]
  },
  {
   "cell_type": "markdown",
   "id": "2f432ea0-d232-43b4-ae28-556d6ee02adf",
   "metadata": {},
   "source": [
    "- `Blood Pressure`: Blood pressure of the patient (systolic/diastolic)  "
   ]
  },
  {
   "cell_type": "markdown",
   "id": "5cc7e46a-35e3-48e0-92bf-5511c74a04ea",
   "metadata": {},
   "source": [
    "- `Heart Rate`: Heart rate of the patient"
   ]
  },
  {
   "cell_type": "markdown",
   "id": "6c9ca77b-2979-4457-80e5-c3a5c1ba2bc3",
   "metadata": {},
   "source": [
    "- `Diabetes`: Whether the patient has diabetes (Yes/No)"
   ]
  },
  {
   "cell_type": "markdown",
   "id": "d84a21b8-195d-4ebe-9163-d7e12039f2fc",
   "metadata": {},
   "source": [
    "- `Family History`: Family history of heart-related problems (1: Yes, 0: No)"
   ]
  },
  {
   "cell_type": "markdown",
   "id": "b656c7ee-ff06-4bf4-8e1a-fe53d06210ce",
   "metadata": {},
   "source": [
    "- `Smoking`: Smoking status of the patient (1: Smoker, 0: Non-smoker)"
   ]
  },
  {
   "cell_type": "markdown",
   "id": "71d6253a-2822-40ab-b02a-747b4b918d1e",
   "metadata": {},
   "source": [
    "- `Obesity`: Obesity status of the patient (1: Obese, 0: Not obese)"
   ]
  },
  {
   "cell_type": "markdown",
   "id": "1c6639c5-0ebc-48ef-9520-2b463476fa77",
   "metadata": {},
   "source": [
    "- `Alcohol Consumption`: Patient consumes alcohol (Yes/No)"
   ]
  },
  {
   "cell_type": "markdown",
   "id": "c0857185-160e-45c7-994e-3e6116fa13ae",
   "metadata": {},
   "source": [
    "- `Exercise Hours Per Week`: Number of exercise hours per week"
   ]
  },
  {
   "cell_type": "markdown",
   "id": "71fd2a71-0cb5-44c4-a05b-463e90a9ac14",
   "metadata": {},
   "source": [
    "- `Diet`: Dietary habits of the patient (Healthy/Average/Unhealthy)"
   ]
  },
  {
   "cell_type": "markdown",
   "id": "0ecfe8da-8ba4-4cce-9d1d-38a89bc787bc",
   "metadata": {},
   "source": [
    "- `Previous Heart Problems`: Previous heart problems of the patient (1: Yes, 0: No)"
   ]
  },
  {
   "cell_type": "markdown",
   "id": "d079ece2-3a42-4d94-ab5c-322f8878edf2",
   "metadata": {},
   "source": [
    "- `Medication Use`: Medication usage by the patient (1: Yes, 0: No)"
   ]
  },
  {
   "cell_type": "markdown",
   "id": "9da10a59-3c55-4c2e-b64c-834d2329a7d8",
   "metadata": {},
   "source": [
    "- `Stress Level`: Stress level reported by the patient (1-10)"
   ]
  },
  {
   "cell_type": "markdown",
   "id": "fbc54137-fe7b-451c-bce9-c475b0b3ad44",
   "metadata": {},
   "source": [
    "- `Sedentary Hours Per Day`: Hours of sedentary activity per day"
   ]
  },
  {
   "cell_type": "markdown",
   "id": "eba27980-b2de-4159-9c60-9d7208f4e44b",
   "metadata": {},
   "source": [
    "- `Income`: Income level of the patient"
   ]
  },
  {
   "cell_type": "markdown",
   "id": "5abc8abe-b02e-4ca2-82c6-7bf10a90444d",
   "metadata": {},
   "source": [
    "- `BMI`: Body Mass Index (BMI) of the patient"
   ]
  },
  {
   "cell_type": "markdown",
   "id": "ae914396-ac3b-464c-8a9d-b243df3b2ed7",
   "metadata": {},
   "source": [
    "- `Triglycerides`: Triglyceride levels of the patient"
   ]
  },
  {
   "cell_type": "markdown",
   "id": "ff52f552-eff2-43de-a211-44a5b37834a2",
   "metadata": {},
   "source": [
    "- `Physical Activity Days Per Week`: Days of physical activity per week"
   ]
  },
  {
   "cell_type": "markdown",
   "id": "efdaafeb-3cc3-44a0-bac5-8fe12e52607a",
   "metadata": {},
   "source": [
    "- `Sleep Hours Per Day`: Hours of sleep per day"
   ]
  },
  {
   "cell_type": "markdown",
   "id": "c7b59484-ef09-47c3-be4e-fc7641826d59",
   "metadata": {},
   "source": [
    "- `Country`: Country of the patient"
   ]
  },
  {
   "cell_type": "markdown",
   "id": "36c9f7b6-0700-4fa3-8af2-d4fe8746811d",
   "metadata": {},
   "source": [
    "- `Continent`: Continent where the patient resides"
   ]
  },
  {
   "cell_type": "markdown",
   "id": "f55e7bc2-bce3-488f-9c55-24d0def99b8d",
   "metadata": {},
   "source": [
    "- `Hemisphere`: Hemisphere where the patient resides"
   ]
  },
  {
   "cell_type": "markdown",
   "id": "4921cede-906b-4122-a4ae-cb5dec0cbfb9",
   "metadata": {},
   "source": [
    "Target Feature:\n",
    "\n",
    "`Heart Attack Risk`: Presence of heart attack risk (1: Yes, 0: No)"
   ]
  },
  {
   "cell_type": "markdown",
   "id": "896eafc2-424a-4e19-ad26-f5998324a087",
   "metadata": {},
   "source": [
    "## Data Preparation\n",
    "\n",
    "- Rename Columns to remove spaces and capital letters\n",
    "- Lowercase string entries in rows and replace spaces with underscores\n",
    "- Convert numeric categoric entries to stings"
   ]
  },
  {
   "cell_type": "code",
   "execution_count": 9,
   "id": "2f42a7ca-7c04-4132-aef0-0ef3f387d150",
   "metadata": {},
   "outputs": [],
   "source": [
    "df.columns = df.columns.str.replace(\" \", '_').str.lower()"
   ]
  },
  {
   "cell_type": "code",
   "execution_count": 12,
   "id": "41394fda-6eb1-4545-b64e-431cdd5d7739",
   "metadata": {},
   "outputs": [],
   "source": [
    "categorical = [x for x in df.columns if df[x].dtype == 'O']"
   ]
  },
  {
   "cell_type": "code",
   "execution_count": 13,
   "id": "720c82b8-5f4d-4abb-bb74-67dfbd4194eb",
   "metadata": {},
   "outputs": [],
   "source": [
    "for c in categorical:\n",
    "    df[c] = df[c].str.replace(\" \", '_').str.lower()"
   ]
  },
  {
   "cell_type": "code",
   "execution_count": 14,
   "id": "26e7913f-8514-499c-9ff6-29b5dd80c2fb",
   "metadata": {
    "scrolled": true
   },
   "outputs": [
    {
     "data": {
      "text/html": [
       "<div>\n",
       "<style scoped>\n",
       "    .dataframe tbody tr th:only-of-type {\n",
       "        vertical-align: middle;\n",
       "    }\n",
       "\n",
       "    .dataframe tbody tr th {\n",
       "        vertical-align: top;\n",
       "    }\n",
       "\n",
       "    .dataframe thead th {\n",
       "        text-align: right;\n",
       "    }\n",
       "</style>\n",
       "<table border=\"1\" class=\"dataframe\">\n",
       "  <thead>\n",
       "    <tr style=\"text-align: right;\">\n",
       "      <th></th>\n",
       "      <th>0</th>\n",
       "      <th>1</th>\n",
       "      <th>2</th>\n",
       "      <th>3</th>\n",
       "      <th>4</th>\n",
       "    </tr>\n",
       "  </thead>\n",
       "  <tbody>\n",
       "    <tr>\n",
       "      <th>patient_id</th>\n",
       "      <td>rdg0550</td>\n",
       "      <td>nma3851</td>\n",
       "      <td>tui5807</td>\n",
       "      <td>yyt5016</td>\n",
       "      <td>zac5937</td>\n",
       "    </tr>\n",
       "    <tr>\n",
       "      <th>age</th>\n",
       "      <td>33</td>\n",
       "      <td>56</td>\n",
       "      <td>19</td>\n",
       "      <td>50</td>\n",
       "      <td>89</td>\n",
       "    </tr>\n",
       "    <tr>\n",
       "      <th>sex</th>\n",
       "      <td>male</td>\n",
       "      <td>female</td>\n",
       "      <td>female</td>\n",
       "      <td>female</td>\n",
       "      <td>female</td>\n",
       "    </tr>\n",
       "    <tr>\n",
       "      <th>cholesterol</th>\n",
       "      <td>200</td>\n",
       "      <td>262</td>\n",
       "      <td>140</td>\n",
       "      <td>163</td>\n",
       "      <td>144</td>\n",
       "    </tr>\n",
       "    <tr>\n",
       "      <th>blood_pressure</th>\n",
       "      <td>129/90</td>\n",
       "      <td>159/105</td>\n",
       "      <td>161/109</td>\n",
       "      <td>120/62</td>\n",
       "      <td>153/110</td>\n",
       "    </tr>\n",
       "    <tr>\n",
       "      <th>heart_rate</th>\n",
       "      <td>48</td>\n",
       "      <td>46</td>\n",
       "      <td>54</td>\n",
       "      <td>53</td>\n",
       "      <td>92</td>\n",
       "    </tr>\n",
       "    <tr>\n",
       "      <th>diabetes</th>\n",
       "      <td>0</td>\n",
       "      <td>1</td>\n",
       "      <td>0</td>\n",
       "      <td>0</td>\n",
       "      <td>1</td>\n",
       "    </tr>\n",
       "    <tr>\n",
       "      <th>family_history</th>\n",
       "      <td>1</td>\n",
       "      <td>0</td>\n",
       "      <td>1</td>\n",
       "      <td>1</td>\n",
       "      <td>0</td>\n",
       "    </tr>\n",
       "    <tr>\n",
       "      <th>smoking</th>\n",
       "      <td>1</td>\n",
       "      <td>1</td>\n",
       "      <td>0</td>\n",
       "      <td>1</td>\n",
       "      <td>1</td>\n",
       "    </tr>\n",
       "    <tr>\n",
       "      <th>obesity</th>\n",
       "      <td>1</td>\n",
       "      <td>0</td>\n",
       "      <td>0</td>\n",
       "      <td>1</td>\n",
       "      <td>0</td>\n",
       "    </tr>\n",
       "    <tr>\n",
       "      <th>alcohol_consumption</th>\n",
       "      <td>1</td>\n",
       "      <td>0</td>\n",
       "      <td>1</td>\n",
       "      <td>1</td>\n",
       "      <td>1</td>\n",
       "    </tr>\n",
       "    <tr>\n",
       "      <th>exercise_hours_per_week</th>\n",
       "      <td>7.80769</td>\n",
       "      <td>17.297628</td>\n",
       "      <td>8.695288</td>\n",
       "      <td>10.161587</td>\n",
       "      <td>16.436787</td>\n",
       "    </tr>\n",
       "    <tr>\n",
       "      <th>diet</th>\n",
       "      <td>unhealthy</td>\n",
       "      <td>average</td>\n",
       "      <td>average</td>\n",
       "      <td>healthy</td>\n",
       "      <td>healthy</td>\n",
       "    </tr>\n",
       "    <tr>\n",
       "      <th>previous_heart_problems</th>\n",
       "      <td>0</td>\n",
       "      <td>1</td>\n",
       "      <td>1</td>\n",
       "      <td>0</td>\n",
       "      <td>1</td>\n",
       "    </tr>\n",
       "    <tr>\n",
       "      <th>medication_use</th>\n",
       "      <td>1</td>\n",
       "      <td>0</td>\n",
       "      <td>1</td>\n",
       "      <td>1</td>\n",
       "      <td>0</td>\n",
       "    </tr>\n",
       "    <tr>\n",
       "      <th>stress_level</th>\n",
       "      <td>2</td>\n",
       "      <td>8</td>\n",
       "      <td>3</td>\n",
       "      <td>7</td>\n",
       "      <td>1</td>\n",
       "    </tr>\n",
       "    <tr>\n",
       "      <th>sedentary_hours_per_day</th>\n",
       "      <td>0.138443</td>\n",
       "      <td>0.369552</td>\n",
       "      <td>8.646334</td>\n",
       "      <td>1.107884</td>\n",
       "      <td>1.33757</td>\n",
       "    </tr>\n",
       "    <tr>\n",
       "      <th>income</th>\n",
       "      <td>184066</td>\n",
       "      <td>211755</td>\n",
       "      <td>252203</td>\n",
       "      <td>121954</td>\n",
       "      <td>180121</td>\n",
       "    </tr>\n",
       "    <tr>\n",
       "      <th>bmi</th>\n",
       "      <td>30.449815</td>\n",
       "      <td>34.973685</td>\n",
       "      <td>30.554246</td>\n",
       "      <td>35.390265</td>\n",
       "      <td>39.575483</td>\n",
       "    </tr>\n",
       "    <tr>\n",
       "      <th>triglycerides</th>\n",
       "      <td>63</td>\n",
       "      <td>333</td>\n",
       "      <td>537</td>\n",
       "      <td>591</td>\n",
       "      <td>145</td>\n",
       "    </tr>\n",
       "    <tr>\n",
       "      <th>physical_activity_days_per_week</th>\n",
       "      <td>6</td>\n",
       "      <td>7</td>\n",
       "      <td>2</td>\n",
       "      <td>0</td>\n",
       "      <td>2</td>\n",
       "    </tr>\n",
       "    <tr>\n",
       "      <th>sleep_hours_per_day</th>\n",
       "      <td>7</td>\n",
       "      <td>8</td>\n",
       "      <td>10</td>\n",
       "      <td>9</td>\n",
       "      <td>5</td>\n",
       "    </tr>\n",
       "    <tr>\n",
       "      <th>country</th>\n",
       "      <td>argentina</td>\n",
       "      <td>nigeria</td>\n",
       "      <td>thailand</td>\n",
       "      <td>spain</td>\n",
       "      <td>germany</td>\n",
       "    </tr>\n",
       "    <tr>\n",
       "      <th>continent</th>\n",
       "      <td>south_america</td>\n",
       "      <td>africa</td>\n",
       "      <td>asia</td>\n",
       "      <td>europe</td>\n",
       "      <td>europe</td>\n",
       "    </tr>\n",
       "    <tr>\n",
       "      <th>hemisphere</th>\n",
       "      <td>southern_hemisphere</td>\n",
       "      <td>northern_hemisphere</td>\n",
       "      <td>northern_hemisphere</td>\n",
       "      <td>southern_hemisphere</td>\n",
       "      <td>northern_hemisphere</td>\n",
       "    </tr>\n",
       "    <tr>\n",
       "      <th>heart_attack_risk</th>\n",
       "      <td>1</td>\n",
       "      <td>1</td>\n",
       "      <td>0</td>\n",
       "      <td>1</td>\n",
       "      <td>1</td>\n",
       "    </tr>\n",
       "  </tbody>\n",
       "</table>\n",
       "</div>"
      ],
      "text/plain": [
       "                                                   0                    1  \\\n",
       "patient_id                                   rdg0550              nma3851   \n",
       "age                                               33                   56   \n",
       "sex                                             male               female   \n",
       "cholesterol                                      200                  262   \n",
       "blood_pressure                                129/90              159/105   \n",
       "heart_rate                                        48                   46   \n",
       "diabetes                                           0                    1   \n",
       "family_history                                     1                    0   \n",
       "smoking                                            1                    1   \n",
       "obesity                                            1                    0   \n",
       "alcohol_consumption                                1                    0   \n",
       "exercise_hours_per_week                      7.80769            17.297628   \n",
       "diet                                       unhealthy              average   \n",
       "previous_heart_problems                            0                    1   \n",
       "medication_use                                     1                    0   \n",
       "stress_level                                       2                    8   \n",
       "sedentary_hours_per_day                     0.138443             0.369552   \n",
       "income                                        184066               211755   \n",
       "bmi                                        30.449815            34.973685   \n",
       "triglycerides                                     63                  333   \n",
       "physical_activity_days_per_week                    6                    7   \n",
       "sleep_hours_per_day                                7                    8   \n",
       "country                                    argentina              nigeria   \n",
       "continent                              south_america               africa   \n",
       "hemisphere                       southern_hemisphere  northern_hemisphere   \n",
       "heart_attack_risk                                  1                    1   \n",
       "\n",
       "                                                   2                    3  \\\n",
       "patient_id                                   tui5807              yyt5016   \n",
       "age                                               19                   50   \n",
       "sex                                           female               female   \n",
       "cholesterol                                      140                  163   \n",
       "blood_pressure                               161/109               120/62   \n",
       "heart_rate                                        54                   53   \n",
       "diabetes                                           0                    0   \n",
       "family_history                                     1                    1   \n",
       "smoking                                            0                    1   \n",
       "obesity                                            0                    1   \n",
       "alcohol_consumption                                1                    1   \n",
       "exercise_hours_per_week                     8.695288            10.161587   \n",
       "diet                                         average              healthy   \n",
       "previous_heart_problems                            1                    0   \n",
       "medication_use                                     1                    1   \n",
       "stress_level                                       3                    7   \n",
       "sedentary_hours_per_day                     8.646334             1.107884   \n",
       "income                                        252203               121954   \n",
       "bmi                                        30.554246            35.390265   \n",
       "triglycerides                                    537                  591   \n",
       "physical_activity_days_per_week                    2                    0   \n",
       "sleep_hours_per_day                               10                    9   \n",
       "country                                     thailand                spain   \n",
       "continent                                       asia               europe   \n",
       "hemisphere                       northern_hemisphere  southern_hemisphere   \n",
       "heart_attack_risk                                  0                    1   \n",
       "\n",
       "                                                   4  \n",
       "patient_id                                   zac5937  \n",
       "age                                               89  \n",
       "sex                                           female  \n",
       "cholesterol                                      144  \n",
       "blood_pressure                               153/110  \n",
       "heart_rate                                        92  \n",
       "diabetes                                           1  \n",
       "family_history                                     0  \n",
       "smoking                                            1  \n",
       "obesity                                            0  \n",
       "alcohol_consumption                                1  \n",
       "exercise_hours_per_week                    16.436787  \n",
       "diet                                         healthy  \n",
       "previous_heart_problems                            1  \n",
       "medication_use                                     0  \n",
       "stress_level                                       1  \n",
       "sedentary_hours_per_day                      1.33757  \n",
       "income                                        180121  \n",
       "bmi                                        39.575483  \n",
       "triglycerides                                    145  \n",
       "physical_activity_days_per_week                    2  \n",
       "sleep_hours_per_day                                5  \n",
       "country                                      germany  \n",
       "continent                                     europe  \n",
       "hemisphere                       northern_hemisphere  \n",
       "heart_attack_risk                                  1  "
      ]
     },
     "execution_count": 14,
     "metadata": {},
     "output_type": "execute_result"
    }
   ],
   "source": [
    "df.head().T"
   ]
  },
  {
   "cell_type": "code",
   "execution_count": 15,
   "id": "f4533e42-ee1e-44b9-bfa6-0a3ddfeb25e8",
   "metadata": {},
   "outputs": [
    {
     "data": {
      "text/plain": [
       "diabetes\n",
       "1    4576\n",
       "0    2434\n",
       "Name: count, dtype: int64"
      ]
     },
     "execution_count": 15,
     "metadata": {},
     "output_type": "execute_result"
    }
   ],
   "source": [
    "df.diabetes.value_counts()"
   ]
  },
  {
   "cell_type": "code",
   "execution_count": 16,
   "id": "78542c6f-ca21-4eb4-9052-fe55ca035ee1",
   "metadata": {},
   "outputs": [
    {
     "data": {
      "text/plain": [
       "0    yes\n",
       "1     no\n",
       "2    yes\n",
       "3    yes\n",
       "4     no\n",
       "Name: diabetes, dtype: object"
      ]
     },
     "execution_count": 16,
     "metadata": {},
     "output_type": "execute_result"
    }
   ],
   "source": [
    "# Diabetes: Whether the patient has diabetes (Yes/No)\n",
    "\n",
    "diabetes_values = {\n",
    "    0: 'yes',\n",
    "    1: 'no'\n",
    "}\n",
    "df.diabetes = df.diabetes.map(diabetes_values)\n",
    "df.diabetes.head()"
   ]
  },
  {
   "cell_type": "code",
   "execution_count": 17,
   "id": "04a6b49d-4bc8-458b-b8c1-c182a8c5f5eb",
   "metadata": {},
   "outputs": [
    {
     "data": {
      "text/plain": [
       "family_history\n",
       "0    3562\n",
       "1    3448\n",
       "Name: count, dtype: int64"
      ]
     },
     "execution_count": 17,
     "metadata": {},
     "output_type": "execute_result"
    }
   ],
   "source": [
    "df.family_history.value_counts()"
   ]
  },
  {
   "cell_type": "code",
   "execution_count": 18,
   "id": "2f8c6942-8630-4a91-b585-812371cf13d3",
   "metadata": {},
   "outputs": [
    {
     "data": {
      "text/plain": [
       "0    yes\n",
       "1     no\n",
       "2    yes\n",
       "3    yes\n",
       "4     no\n",
       "Name: family_history, dtype: object"
      ]
     },
     "execution_count": 18,
     "metadata": {},
     "output_type": "execute_result"
    }
   ],
   "source": [
    "# Family History: Family history of heart-related problems (1: Yes, 0: No)\n",
    "\n",
    "family_values = {\n",
    "    1: 'yes',\n",
    "    0: 'no'\n",
    "}\n",
    "df.family_history = df.family_history.map(family_values)\n",
    "df.family_history.head()"
   ]
  },
  {
   "cell_type": "code",
   "execution_count": 19,
   "id": "bb76707c-a4e2-4188-ba84-812b732d4555",
   "metadata": {},
   "outputs": [
    {
     "data": {
      "text/plain": [
       "smoking\n",
       "1    6283\n",
       "0     727\n",
       "Name: count, dtype: int64"
      ]
     },
     "execution_count": 19,
     "metadata": {},
     "output_type": "execute_result"
    }
   ],
   "source": [
    "df.smoking.value_counts()"
   ]
  },
  {
   "cell_type": "code",
   "execution_count": 20,
   "id": "57a810d5-3509-4dc8-9830-949860d6eb86",
   "metadata": {},
   "outputs": [
    {
     "data": {
      "text/plain": [
       "0    yes\n",
       "1    yes\n",
       "2     no\n",
       "3    yes\n",
       "4    yes\n",
       "Name: smoking, dtype: object"
      ]
     },
     "execution_count": 20,
     "metadata": {},
     "output_type": "execute_result"
    }
   ],
   "source": [
    "# Smoking: Smoking status of the patient (1: Smoker, 0: Non-smoker)\n",
    "\n",
    "smoking_values = {\n",
    "    1: 'yes',\n",
    "    0: 'no'\n",
    "}\n",
    "df.smoking = df.smoking.map(smoking_values)\n",
    "df.smoking.head()"
   ]
  },
  {
   "cell_type": "code",
   "execution_count": 21,
   "id": "aab2d0c3-85ba-4111-ac31-63e99c47e08d",
   "metadata": {},
   "outputs": [
    {
     "data": {
      "text/plain": [
       "obesity\n",
       "0    3506\n",
       "1    3504\n",
       "Name: count, dtype: int64"
      ]
     },
     "execution_count": 21,
     "metadata": {},
     "output_type": "execute_result"
    }
   ],
   "source": [
    "df.obesity.value_counts()"
   ]
  },
  {
   "cell_type": "code",
   "execution_count": 22,
   "id": "a85b1742-f194-46f0-946c-bf3773a8d901",
   "metadata": {},
   "outputs": [
    {
     "data": {
      "text/plain": [
       "0    yes\n",
       "1     no\n",
       "2     no\n",
       "3    yes\n",
       "4     no\n",
       "Name: obesity, dtype: object"
      ]
     },
     "execution_count": 22,
     "metadata": {},
     "output_type": "execute_result"
    }
   ],
   "source": [
    "# Obesity: Obesity status of the patient (1: Obese, 0: Not obese)\n",
    "\n",
    "obesity_values = {\n",
    "    1: 'yes',\n",
    "    0: 'no'\n",
    "}\n",
    "df.obesity = df.obesity.map(obesity_values)\n",
    "df.obesity.head()"
   ]
  },
  {
   "cell_type": "code",
   "execution_count": 23,
   "id": "6d7ad7ae-4fa1-47db-b6f7-e8ae1e72019d",
   "metadata": {},
   "outputs": [
    {
     "data": {
      "text/plain": [
       "alcohol_consumption\n",
       "1    4177\n",
       "0    2833\n",
       "Name: count, dtype: int64"
      ]
     },
     "execution_count": 23,
     "metadata": {},
     "output_type": "execute_result"
    }
   ],
   "source": [
    "df.alcohol_consumption.value_counts()"
   ]
  },
  {
   "cell_type": "code",
   "execution_count": 24,
   "id": "1c9286cd-7703-4efc-8d94-b7b1901a17ed",
   "metadata": {},
   "outputs": [
    {
     "data": {
      "text/plain": [
       "0    yes\n",
       "1     no\n",
       "2    yes\n",
       "3    yes\n",
       "4    yes\n",
       "Name: alcohol_consumption, dtype: object"
      ]
     },
     "execution_count": 24,
     "metadata": {},
     "output_type": "execute_result"
    }
   ],
   "source": [
    "# Alcohol Consumption: Patient consumes alcohol (Yes/No)\n",
    "\n",
    "alcohol_values = {\n",
    "    1: 'yes',\n",
    "    0: 'no'\n",
    "}\n",
    "\n",
    "df.alcohol_consumption = df.alcohol_consumption.map(alcohol_values)\n",
    "df.alcohol_consumption.head()"
   ]
  },
  {
   "cell_type": "code",
   "execution_count": 25,
   "id": "86f54e28-1f80-49b1-bf9f-da8069538e34",
   "metadata": {},
   "outputs": [
    {
     "data": {
      "text/plain": [
       "previous_heart_problems\n",
       "0    3518\n",
       "1    3492\n",
       "Name: count, dtype: int64"
      ]
     },
     "execution_count": 25,
     "metadata": {},
     "output_type": "execute_result"
    }
   ],
   "source": [
    "df.previous_heart_problems.value_counts()"
   ]
  },
  {
   "cell_type": "code",
   "execution_count": 26,
   "id": "d826f8ee-340b-4079-b34c-ecc2a1dea405",
   "metadata": {},
   "outputs": [
    {
     "data": {
      "text/plain": [
       "0     no\n",
       "1    yes\n",
       "2    yes\n",
       "3     no\n",
       "4    yes\n",
       "Name: previous_heart_problems, dtype: object"
      ]
     },
     "execution_count": 26,
     "metadata": {},
     "output_type": "execute_result"
    }
   ],
   "source": [
    "# Previous Heart Problems: Previous heart problems of the patient (1: Yes, 0: No)\n",
    "\n",
    "values = {\n",
    "    1: 'yes',\n",
    "    0: 'no'\n",
    "}\n",
    "df.previous_heart_problems = df.previous_heart_problems.map(values)\n",
    "df.previous_heart_problems.head()"
   ]
  },
  {
   "cell_type": "code",
   "execution_count": 27,
   "id": "48d75b2f-1b79-4c0d-8a4e-2264543af437",
   "metadata": {},
   "outputs": [
    {
     "data": {
      "text/plain": [
       "medication_use\n",
       "1    3506\n",
       "0    3504\n",
       "Name: count, dtype: int64"
      ]
     },
     "execution_count": 27,
     "metadata": {},
     "output_type": "execute_result"
    }
   ],
   "source": [
    "df.medication_use.value_counts()"
   ]
  },
  {
   "cell_type": "code",
   "execution_count": 28,
   "id": "6e5634be-dbbb-47f2-afac-64e687cf8073",
   "metadata": {},
   "outputs": [
    {
     "data": {
      "text/plain": [
       "0    yes\n",
       "1     no\n",
       "2    yes\n",
       "3    yes\n",
       "4     no\n",
       "Name: medication_use, dtype: object"
      ]
     },
     "execution_count": 28,
     "metadata": {},
     "output_type": "execute_result"
    }
   ],
   "source": [
    "# Medication Use: Medication usage by the patient (1: Yes, 0: No)\n",
    "\n",
    "values = {\n",
    "    1: 'yes',\n",
    "    0: 'no'\n",
    "}\n",
    "df.medication_use = df.medication_use.map(values)\n",
    "df.medication_use.head()"
   ]
  },
  {
   "cell_type": "code",
   "execution_count": 29,
   "id": "fc1543ab-9160-4bf4-b3ae-5914659f3c51",
   "metadata": {
    "scrolled": true
   },
   "outputs": [
    {
     "data": {
      "text/plain": [
       "patient_id                         0\n",
       "age                                0\n",
       "sex                                0\n",
       "cholesterol                        0\n",
       "blood_pressure                     0\n",
       "heart_rate                         0\n",
       "diabetes                           0\n",
       "family_history                     0\n",
       "smoking                            0\n",
       "obesity                            0\n",
       "alcohol_consumption                0\n",
       "exercise_hours_per_week            0\n",
       "diet                               0\n",
       "previous_heart_problems            0\n",
       "medication_use                     0\n",
       "stress_level                       0\n",
       "sedentary_hours_per_day            0\n",
       "income                             0\n",
       "bmi                                0\n",
       "triglycerides                      0\n",
       "physical_activity_days_per_week    0\n",
       "sleep_hours_per_day                0\n",
       "country                            0\n",
       "continent                          0\n",
       "hemisphere                         0\n",
       "heart_attack_risk                  0\n",
       "dtype: int64"
      ]
     },
     "execution_count": 29,
     "metadata": {},
     "output_type": "execute_result"
    }
   ],
   "source": [
    "df.isnull().sum()"
   ]
  },
  {
   "cell_type": "markdown",
   "id": "f7b3b9d8-9e70-4078-91c4-c93b6f473392",
   "metadata": {},
   "source": [
    "We do not have null values"
   ]
  },
  {
   "cell_type": "code",
   "execution_count": 66,
   "id": "6da7e4c3-7e65-4b42-a1db-7c8af725fb53",
   "metadata": {},
   "outputs": [
    {
     "name": "stdout",
     "output_type": "stream",
     "text": [
      "<class 'pandas.core.frame.DataFrame'>\n",
      "RangeIndex: 7010 entries, 0 to 7009\n",
      "Data columns (total 26 columns):\n",
      " #   Column                           Non-Null Count  Dtype  \n",
      "---  ------                           --------------  -----  \n",
      " 0   patient_id                       7010 non-null   object \n",
      " 1   age                              7010 non-null   int64  \n",
      " 2   sex                              7010 non-null   object \n",
      " 3   cholesterol                      7010 non-null   int64  \n",
      " 4   blood_pressure                   7010 non-null   object \n",
      " 5   heart_rate                       7010 non-null   int64  \n",
      " 6   diabetes                         7010 non-null   object \n",
      " 7   family_history                   7010 non-null   object \n",
      " 8   smoking                          7010 non-null   object \n",
      " 9   obesity                          7010 non-null   object \n",
      " 10  alcohol_consumption              7010 non-null   object \n",
      " 11  exercise_hours_per_week          7010 non-null   float64\n",
      " 12  diet                             7010 non-null   object \n",
      " 13  previous_heart_problems          7010 non-null   object \n",
      " 14  medication_use                   7010 non-null   object \n",
      " 15  stress_level                     7010 non-null   int64  \n",
      " 16  sedentary_hours_per_day          7010 non-null   float64\n",
      " 17  income                           7010 non-null   int64  \n",
      " 18  bmi                              7010 non-null   float64\n",
      " 19  triglycerides                    7010 non-null   int64  \n",
      " 20  physical_activity_days_per_week  7010 non-null   int64  \n",
      " 21  sleep_hours_per_day              7010 non-null   int64  \n",
      " 22  country                          7010 non-null   object \n",
      " 23  continent                        7010 non-null   object \n",
      " 24  hemisphere                       7010 non-null   object \n",
      " 25  heart_attack_risk                7010 non-null   int64  \n",
      "dtypes: float64(3), int64(9), object(14)\n",
      "memory usage: 1.4+ MB\n"
     ]
    }
   ],
   "source": [
    "df.info()"
   ]
  },
  {
   "cell_type": "markdown",
   "id": "4e18350a-e286-439e-9b9c-5794c3fd7131",
   "metadata": {},
   "source": [
    "We see that `blood_pressure` is of type `object` whereas it should be `numeric`. We can correct it by splitting the `systolic` and `diastolic` to different columns."
   ]
  },
  {
   "cell_type": "code",
   "execution_count": 69,
   "id": "4113c582-64e6-4c2f-bef0-e11d4be5ecc3",
   "metadata": {},
   "outputs": [],
   "source": [
    "df[['systolic_bp', 'diastolic_bp']] = df['blood_pressure'].str.split('/', expand=True).astype(int)"
   ]
  },
  {
   "cell_type": "code",
   "execution_count": 70,
   "id": "ec845897-abf8-4e96-a90e-d6aff2adf9d6",
   "metadata": {},
   "outputs": [
    {
     "data": {
      "text/html": [
       "<div>\n",
       "<style scoped>\n",
       "    .dataframe tbody tr th:only-of-type {\n",
       "        vertical-align: middle;\n",
       "    }\n",
       "\n",
       "    .dataframe tbody tr th {\n",
       "        vertical-align: top;\n",
       "    }\n",
       "\n",
       "    .dataframe thead th {\n",
       "        text-align: right;\n",
       "    }\n",
       "</style>\n",
       "<table border=\"1\" class=\"dataframe\">\n",
       "  <thead>\n",
       "    <tr style=\"text-align: right;\">\n",
       "      <th></th>\n",
       "      <th>patient_id</th>\n",
       "      <th>age</th>\n",
       "      <th>sex</th>\n",
       "      <th>cholesterol</th>\n",
       "      <th>blood_pressure</th>\n",
       "      <th>heart_rate</th>\n",
       "      <th>diabetes</th>\n",
       "      <th>family_history</th>\n",
       "      <th>smoking</th>\n",
       "      <th>obesity</th>\n",
       "      <th>...</th>\n",
       "      <th>bmi</th>\n",
       "      <th>triglycerides</th>\n",
       "      <th>physical_activity_days_per_week</th>\n",
       "      <th>sleep_hours_per_day</th>\n",
       "      <th>country</th>\n",
       "      <th>continent</th>\n",
       "      <th>hemisphere</th>\n",
       "      <th>heart_attack_risk</th>\n",
       "      <th>systolic_bp</th>\n",
       "      <th>diastolic_bp</th>\n",
       "    </tr>\n",
       "  </thead>\n",
       "  <tbody>\n",
       "    <tr>\n",
       "      <th>0</th>\n",
       "      <td>rdg0550</td>\n",
       "      <td>33</td>\n",
       "      <td>male</td>\n",
       "      <td>200</td>\n",
       "      <td>129/90</td>\n",
       "      <td>48</td>\n",
       "      <td>yes</td>\n",
       "      <td>yes</td>\n",
       "      <td>yes</td>\n",
       "      <td>yes</td>\n",
       "      <td>...</td>\n",
       "      <td>30.449815</td>\n",
       "      <td>63</td>\n",
       "      <td>6</td>\n",
       "      <td>7</td>\n",
       "      <td>argentina</td>\n",
       "      <td>south_america</td>\n",
       "      <td>southern_hemisphere</td>\n",
       "      <td>1</td>\n",
       "      <td>129</td>\n",
       "      <td>90</td>\n",
       "    </tr>\n",
       "    <tr>\n",
       "      <th>1</th>\n",
       "      <td>nma3851</td>\n",
       "      <td>56</td>\n",
       "      <td>female</td>\n",
       "      <td>262</td>\n",
       "      <td>159/105</td>\n",
       "      <td>46</td>\n",
       "      <td>no</td>\n",
       "      <td>no</td>\n",
       "      <td>yes</td>\n",
       "      <td>no</td>\n",
       "      <td>...</td>\n",
       "      <td>34.973685</td>\n",
       "      <td>333</td>\n",
       "      <td>7</td>\n",
       "      <td>8</td>\n",
       "      <td>nigeria</td>\n",
       "      <td>africa</td>\n",
       "      <td>northern_hemisphere</td>\n",
       "      <td>1</td>\n",
       "      <td>159</td>\n",
       "      <td>105</td>\n",
       "    </tr>\n",
       "  </tbody>\n",
       "</table>\n",
       "<p>2 rows × 28 columns</p>\n",
       "</div>"
      ],
      "text/plain": [
       "  patient_id  age     sex  cholesterol blood_pressure  heart_rate diabetes  \\\n",
       "0    rdg0550   33    male          200         129/90          48      yes   \n",
       "1    nma3851   56  female          262        159/105          46       no   \n",
       "\n",
       "  family_history smoking obesity  ...        bmi  triglycerides  \\\n",
       "0            yes     yes     yes  ...  30.449815             63   \n",
       "1             no     yes      no  ...  34.973685            333   \n",
       "\n",
       "  physical_activity_days_per_week sleep_hours_per_day    country  \\\n",
       "0                               6                   7  argentina   \n",
       "1                               7                   8    nigeria   \n",
       "\n",
       "       continent           hemisphere  heart_attack_risk  systolic_bp  \\\n",
       "0  south_america  southern_hemisphere                  1          129   \n",
       "1         africa  northern_hemisphere                  1          159   \n",
       "\n",
       "   diastolic_bp  \n",
       "0            90  \n",
       "1           105  \n",
       "\n",
       "[2 rows x 28 columns]"
      ]
     },
     "execution_count": 70,
     "metadata": {},
     "output_type": "execute_result"
    }
   ],
   "source": [
    "df.head(2)"
   ]
  },
  {
   "cell_type": "code",
   "execution_count": 71,
   "id": "e5835596-a697-41d5-a1b1-5e0aa57d96ea",
   "metadata": {},
   "outputs": [],
   "source": [
    "df.drop(columns = 'blood_pressure', inplace=True)"
   ]
  },
  {
   "cell_type": "code",
   "execution_count": 72,
   "id": "69f36ec8-973c-4c85-be5d-ef336cf771e7",
   "metadata": {},
   "outputs": [
    {
     "name": "stdout",
     "output_type": "stream",
     "text": [
      "<class 'pandas.core.frame.DataFrame'>\n",
      "RangeIndex: 7010 entries, 0 to 7009\n",
      "Data columns (total 27 columns):\n",
      " #   Column                           Non-Null Count  Dtype  \n",
      "---  ------                           --------------  -----  \n",
      " 0   patient_id                       7010 non-null   object \n",
      " 1   age                              7010 non-null   int64  \n",
      " 2   sex                              7010 non-null   object \n",
      " 3   cholesterol                      7010 non-null   int64  \n",
      " 4   heart_rate                       7010 non-null   int64  \n",
      " 5   diabetes                         7010 non-null   object \n",
      " 6   family_history                   7010 non-null   object \n",
      " 7   smoking                          7010 non-null   object \n",
      " 8   obesity                          7010 non-null   object \n",
      " 9   alcohol_consumption              7010 non-null   object \n",
      " 10  exercise_hours_per_week          7010 non-null   float64\n",
      " 11  diet                             7010 non-null   object \n",
      " 12  previous_heart_problems          7010 non-null   object \n",
      " 13  medication_use                   7010 non-null   object \n",
      " 14  stress_level                     7010 non-null   int64  \n",
      " 15  sedentary_hours_per_day          7010 non-null   float64\n",
      " 16  income                           7010 non-null   int64  \n",
      " 17  bmi                              7010 non-null   float64\n",
      " 18  triglycerides                    7010 non-null   int64  \n",
      " 19  physical_activity_days_per_week  7010 non-null   int64  \n",
      " 20  sleep_hours_per_day              7010 non-null   int64  \n",
      " 21  country                          7010 non-null   object \n",
      " 22  continent                        7010 non-null   object \n",
      " 23  hemisphere                       7010 non-null   object \n",
      " 24  heart_attack_risk                7010 non-null   int64  \n",
      " 25  systolic_bp                      7010 non-null   int64  \n",
      " 26  diastolic_bp                     7010 non-null   int64  \n",
      "dtypes: float64(3), int64(11), object(13)\n",
      "memory usage: 1.4+ MB\n"
     ]
    }
   ],
   "source": [
    "df.info()"
   ]
  },
  {
   "cell_type": "markdown",
   "id": "13474b31-92a5-4b58-b749-0827c238fabd",
   "metadata": {},
   "source": [
    "We can get a fairly good idea about `continent` and `hemisphere` from `country`. So we can drop the two features."
   ]
  },
  {
   "cell_type": "code",
   "execution_count": 76,
   "id": "696e62f2-7792-4a3c-ac12-fd9cc10655d6",
   "metadata": {},
   "outputs": [],
   "source": [
    "df.drop(columns = ['continent', 'hemisphere'], inplace=True)"
   ]
  },
  {
   "cell_type": "markdown",
   "id": "1fbcd9a7-d02f-4e63-8b43-726fcf355a16",
   "metadata": {},
   "source": [
    "We can also rename `sex` to `gender`"
   ]
  },
  {
   "cell_type": "code",
   "execution_count": 91,
   "id": "652a15f3-92a9-4463-bd59-888615e14438",
   "metadata": {},
   "outputs": [],
   "source": [
    "df.rename(columns = {'sex': 'gender'}, inplace=True)"
   ]
  },
  {
   "cell_type": "code",
   "execution_count": 92,
   "id": "f0ccc395-1dd4-4e40-ad23-67801e33975e",
   "metadata": {},
   "outputs": [],
   "source": [
    "categorical = [x for x in df.columns if df[x].dtype == 'O']\n",
    "numerical = [x for x in df.columns if x not in categorical]\n",
    "\n",
    "assert len(categorical) + len(numerical) == len(df.columns)"
   ]
  },
  {
   "cell_type": "markdown",
   "id": "c20113f0-c1a4-4717-a235-2eb254f9157f",
   "metadata": {},
   "source": [
    "## Setting up Validation Framework"
   ]
  },
  {
   "cell_type": "code",
   "execution_count": 93,
   "id": "ec8d91f0-190c-478c-8a7c-4868811803c3",
   "metadata": {},
   "outputs": [],
   "source": [
    "df_full_train, df_test = train_test_split(df, test_size=0.2, random_state=12)\n",
    "df_train, df_val = train_test_split(df_full_train, test_size=0.25, random_state=12)"
   ]
  },
  {
   "cell_type": "code",
   "execution_count": 94,
   "id": "bc3ba019-db6b-4f3d-9821-542a68948719",
   "metadata": {},
   "outputs": [],
   "source": [
    "df_train = df_train.reset_index(drop=True)\n",
    "df_val = df_val.reset_index(drop=True)\n",
    "df_test = df_test.reset_index(drop=True)"
   ]
  },
  {
   "cell_type": "code",
   "execution_count": 95,
   "id": "8c2c6692-8514-4d6d-b1c8-6ad0dd1688cc",
   "metadata": {},
   "outputs": [],
   "source": [
    "y_train = df_train.heart_attack_risk.values\n",
    "y_val = df_val.heart_attack_risk.values\n",
    "y_test = df_test.heart_attack_risk.values"
   ]
  },
  {
   "cell_type": "code",
   "execution_count": 96,
   "id": "21c69b42-0df0-4a76-bfe7-fa42f841fafb",
   "metadata": {},
   "outputs": [],
   "source": [
    "del df_train['heart_attack_risk']\n",
    "del df_val['heart_attack_risk']\n",
    "del df_test['heart_attack_risk']"
   ]
  },
  {
   "cell_type": "code",
   "execution_count": 97,
   "id": "43abf276-4cf8-4976-991b-f1140298f8c0",
   "metadata": {},
   "outputs": [
    {
     "data": {
      "text/plain": [
       "(4206, 1402, 1402)"
      ]
     },
     "execution_count": 97,
     "metadata": {},
     "output_type": "execute_result"
    }
   ],
   "source": [
    "len(df_train), len(df_val), len(df_test)"
   ]
  },
  {
   "cell_type": "code",
   "execution_count": 98,
   "id": "bdfd2c72-55b2-4f1f-8f71-6f8797015023",
   "metadata": {},
   "outputs": [
    {
     "data": {
      "text/plain": [
       "(4206, 1402, 1402)"
      ]
     },
     "execution_count": 98,
     "metadata": {},
     "output_type": "execute_result"
    }
   ],
   "source": [
    "len(y_train), len(y_val), len(y_test)"
   ]
  },
  {
   "cell_type": "markdown",
   "id": "811d3dbf-130d-4112-a7d1-22dc383036b1",
   "metadata": {},
   "source": [
    "## Exploratory Data Analysis\n",
    "\n",
    "- Mising Values\n",
    "- Distribution of Target Variable"
   ]
  },
  {
   "cell_type": "code",
   "execution_count": 99,
   "id": "05ab0554-16f9-4dc9-abf6-08c33afe5c82",
   "metadata": {},
   "outputs": [],
   "source": [
    "df_full_train = df_full_train.reset_index(drop=True)"
   ]
  },
  {
   "cell_type": "code",
   "execution_count": 100,
   "id": "0ed64121-078f-4aaa-a907-116c6dff936c",
   "metadata": {},
   "outputs": [
    {
     "data": {
      "text/plain": [
       "patient_id                         0\n",
       "age                                0\n",
       "gender                             0\n",
       "cholesterol                        0\n",
       "heart_rate                         0\n",
       "diabetes                           0\n",
       "family_history                     0\n",
       "smoking                            0\n",
       "obesity                            0\n",
       "alcohol_consumption                0\n",
       "exercise_hours_per_week            0\n",
       "diet                               0\n",
       "previous_heart_problems            0\n",
       "medication_use                     0\n",
       "stress_level                       0\n",
       "sedentary_hours_per_day            0\n",
       "income                             0\n",
       "bmi                                0\n",
       "triglycerides                      0\n",
       "physical_activity_days_per_week    0\n",
       "sleep_hours_per_day                0\n",
       "country                            0\n",
       "heart_attack_risk                  0\n",
       "systolic_bp                        0\n",
       "diastolic_bp                       0\n",
       "dtype: int64"
      ]
     },
     "execution_count": 100,
     "metadata": {},
     "output_type": "execute_result"
    }
   ],
   "source": [
    "df_full_train.isnull().sum()"
   ]
  },
  {
   "cell_type": "code",
   "execution_count": 101,
   "id": "1f6bad7b-7d2f-4627-a843-cf48c6c1384f",
   "metadata": {},
   "outputs": [
    {
     "data": {
      "text/plain": [
       "heart_attack_risk\n",
       "0    0.643723\n",
       "1    0.356277\n",
       "Name: proportion, dtype: float64"
      ]
     },
     "execution_count": 101,
     "metadata": {},
     "output_type": "execute_result"
    }
   ],
   "source": [
    "df_full_train.heart_attack_risk.value_counts(normalize=True)"
   ]
  },
  {
   "cell_type": "markdown",
   "id": "59c460a7-c81e-45a3-9887-a7182e1e7042",
   "metadata": {},
   "source": [
    "We can calculate the global heart attack risk rate. `Global` here refers to the entire dataset."
   ]
  },
  {
   "cell_type": "code",
   "execution_count": 102,
   "id": "6fa81a58-9e31-4602-a8c2-c688007da513",
   "metadata": {},
   "outputs": [
    {
     "data": {
      "text/plain": [
       "0.36"
      ]
     },
     "execution_count": 102,
     "metadata": {},
     "output_type": "execute_result"
    }
   ],
   "source": [
    "global_heart_attack_risk_rate = df_full_train.heart_attack_risk.mean()\n",
    "round(global_heart_attack_risk_rate, 2)"
   ]
  },
  {
   "cell_type": "code",
   "execution_count": 103,
   "id": "038441d0-b157-48f5-8a60-1d0cc0d03603",
   "metadata": {},
   "outputs": [
    {
     "data": {
      "text/plain": [
       "['gender',\n",
       " 'diabetes',\n",
       " 'family_history',\n",
       " 'smoking',\n",
       " 'obesity',\n",
       " 'alcohol_consumption',\n",
       " 'diet',\n",
       " 'previous_heart_problems',\n",
       " 'medication_use',\n",
       " 'country']"
      ]
     },
     "execution_count": 103,
     "metadata": {},
     "output_type": "execute_result"
    }
   ],
   "source": [
    "categorical.remove('patient_id')\n",
    "categorical"
   ]
  },
  {
   "cell_type": "code",
   "execution_count": 104,
   "id": "a9b27c00-37ec-4de0-b962-f269f8610b48",
   "metadata": {},
   "outputs": [
    {
     "data": {
      "text/plain": [
       "['age',\n",
       " 'cholesterol',\n",
       " 'heart_rate',\n",
       " 'exercise_hours_per_week',\n",
       " 'stress_level',\n",
       " 'sedentary_hours_per_day',\n",
       " 'income',\n",
       " 'bmi',\n",
       " 'triglycerides',\n",
       " 'physical_activity_days_per_week',\n",
       " 'sleep_hours_per_day',\n",
       " 'systolic_bp',\n",
       " 'diastolic_bp']"
      ]
     },
     "execution_count": 104,
     "metadata": {},
     "output_type": "execute_result"
    }
   ],
   "source": [
    "numerical.remove('heart_attack_risk')\n",
    "numerical"
   ]
  },
  {
   "cell_type": "code",
   "execution_count": null,
   "id": "f0f072da-9bb8-468c-8ffd-ee72c2e3a592",
   "metadata": {},
   "outputs": [],
   "source": []
  }
 ],
 "metadata": {
  "kernelspec": {
   "display_name": "Python 3 (ipykernel)",
   "language": "python",
   "name": "python3"
  },
  "language_info": {
   "codemirror_mode": {
    "name": "ipython",
    "version": 3
   },
   "file_extension": ".py",
   "mimetype": "text/x-python",
   "name": "python",
   "nbconvert_exporter": "python",
   "pygments_lexer": "ipython3",
   "version": "3.11.5"
  }
 },
 "nbformat": 4,
 "nbformat_minor": 5
}

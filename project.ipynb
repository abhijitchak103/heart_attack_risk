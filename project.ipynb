{
 "cells": [
  {
   "cell_type": "markdown",
   "id": "6528efb3-6918-4d2d-b6d8-9c12c2e1a829",
   "metadata": {},
   "source": [
    "## Import Libraries"
   ]
  },
  {
   "cell_type": "code",
   "execution_count": 1,
   "id": "43c24321-9c3a-474b-ab36-e2122b2320b3",
   "metadata": {},
   "outputs": [],
   "source": [
    "import pandas as pd\n",
    "import numpy as np\n",
    "import matplotlib.pyplot as plt\n",
    "import seaborn as sns\n",
    "\n",
    "%matplotlib inline\n",
    "\n",
    "from sklearn.model_selection import train_test_split\n",
    "from sklearn.feature_extraction import DictVectorizer\n",
    "from sklearn.linear_model import LogisticRegression\n",
    "from sklearn.tree import DecisionTreeClassifier\n",
    "from sklearn.ensemble import RandomForestClassifier\n",
    "from sklearn.metrics import roc_auc_score\n",
    "from sklearn.metrics import mutual_info_score\n",
    "from sklearn.preprocessing import StandardScaler, MinMaxScaler\n",
    "\n",
    "import xgboost as xgb\n",
    "\n",
    "import warnings\n",
    "warnings.filterwarnings(\"ignore\")"
   ]
  },
  {
   "cell_type": "markdown",
   "id": "36c6e67c-19d1-4c46-bf99-97bc322d5452",
   "metadata": {},
   "source": [
    "## Import Data\n",
    "\n",
    "Dataset url: https://github.com/abhijitchak103/heart_attack_risk/blob/main/data/train.csv"
   ]
  },
  {
   "cell_type": "code",
   "execution_count": 2,
   "id": "332aa1b5-95a8-4cba-a2c4-1b221469951d",
   "metadata": {},
   "outputs": [],
   "source": [
    "url = 'data/train.csv'"
   ]
  },
  {
   "cell_type": "code",
   "execution_count": 3,
   "id": "cebfd99e-1d15-4d5a-a302-42e20847ec6f",
   "metadata": {},
   "outputs": [],
   "source": [
    "df = pd.read_csv(url)"
   ]
  },
  {
   "cell_type": "code",
   "execution_count": 4,
   "id": "3126c321-3850-4527-b7ed-ddc8c7ec9cdd",
   "metadata": {
    "scrolled": true
   },
   "outputs": [
    {
     "data": {
      "text/html": [
       "<div>\n",
       "<style scoped>\n",
       "    .dataframe tbody tr th:only-of-type {\n",
       "        vertical-align: middle;\n",
       "    }\n",
       "\n",
       "    .dataframe tbody tr th {\n",
       "        vertical-align: top;\n",
       "    }\n",
       "\n",
       "    .dataframe thead th {\n",
       "        text-align: right;\n",
       "    }\n",
       "</style>\n",
       "<table border=\"1\" class=\"dataframe\">\n",
       "  <thead>\n",
       "    <tr style=\"text-align: right;\">\n",
       "      <th></th>\n",
       "      <th>0</th>\n",
       "      <th>1</th>\n",
       "      <th>2</th>\n",
       "      <th>3</th>\n",
       "      <th>4</th>\n",
       "    </tr>\n",
       "  </thead>\n",
       "  <tbody>\n",
       "    <tr>\n",
       "      <th>Patient ID</th>\n",
       "      <td>RDG0550</td>\n",
       "      <td>NMA3851</td>\n",
       "      <td>TUI5807</td>\n",
       "      <td>YYT5016</td>\n",
       "      <td>ZAC5937</td>\n",
       "    </tr>\n",
       "    <tr>\n",
       "      <th>Age</th>\n",
       "      <td>33</td>\n",
       "      <td>56</td>\n",
       "      <td>19</td>\n",
       "      <td>50</td>\n",
       "      <td>89</td>\n",
       "    </tr>\n",
       "    <tr>\n",
       "      <th>Sex</th>\n",
       "      <td>Male</td>\n",
       "      <td>Female</td>\n",
       "      <td>Female</td>\n",
       "      <td>Female</td>\n",
       "      <td>Female</td>\n",
       "    </tr>\n",
       "    <tr>\n",
       "      <th>Cholesterol</th>\n",
       "      <td>200</td>\n",
       "      <td>262</td>\n",
       "      <td>140</td>\n",
       "      <td>163</td>\n",
       "      <td>144</td>\n",
       "    </tr>\n",
       "    <tr>\n",
       "      <th>Blood Pressure</th>\n",
       "      <td>129/90</td>\n",
       "      <td>159/105</td>\n",
       "      <td>161/109</td>\n",
       "      <td>120/62</td>\n",
       "      <td>153/110</td>\n",
       "    </tr>\n",
       "    <tr>\n",
       "      <th>Heart Rate</th>\n",
       "      <td>48</td>\n",
       "      <td>46</td>\n",
       "      <td>54</td>\n",
       "      <td>53</td>\n",
       "      <td>92</td>\n",
       "    </tr>\n",
       "    <tr>\n",
       "      <th>Diabetes</th>\n",
       "      <td>0</td>\n",
       "      <td>1</td>\n",
       "      <td>0</td>\n",
       "      <td>0</td>\n",
       "      <td>1</td>\n",
       "    </tr>\n",
       "    <tr>\n",
       "      <th>Family History</th>\n",
       "      <td>1</td>\n",
       "      <td>0</td>\n",
       "      <td>1</td>\n",
       "      <td>1</td>\n",
       "      <td>0</td>\n",
       "    </tr>\n",
       "    <tr>\n",
       "      <th>Smoking</th>\n",
       "      <td>1</td>\n",
       "      <td>1</td>\n",
       "      <td>0</td>\n",
       "      <td>1</td>\n",
       "      <td>1</td>\n",
       "    </tr>\n",
       "    <tr>\n",
       "      <th>Obesity</th>\n",
       "      <td>1</td>\n",
       "      <td>0</td>\n",
       "      <td>0</td>\n",
       "      <td>1</td>\n",
       "      <td>0</td>\n",
       "    </tr>\n",
       "    <tr>\n",
       "      <th>Alcohol Consumption</th>\n",
       "      <td>1</td>\n",
       "      <td>0</td>\n",
       "      <td>1</td>\n",
       "      <td>1</td>\n",
       "      <td>1</td>\n",
       "    </tr>\n",
       "    <tr>\n",
       "      <th>Exercise Hours Per Week</th>\n",
       "      <td>7.80769</td>\n",
       "      <td>17.297628</td>\n",
       "      <td>8.695288</td>\n",
       "      <td>10.161587</td>\n",
       "      <td>16.436787</td>\n",
       "    </tr>\n",
       "    <tr>\n",
       "      <th>Diet</th>\n",
       "      <td>Unhealthy</td>\n",
       "      <td>Average</td>\n",
       "      <td>Average</td>\n",
       "      <td>Healthy</td>\n",
       "      <td>Healthy</td>\n",
       "    </tr>\n",
       "    <tr>\n",
       "      <th>Previous Heart Problems</th>\n",
       "      <td>0</td>\n",
       "      <td>1</td>\n",
       "      <td>1</td>\n",
       "      <td>0</td>\n",
       "      <td>1</td>\n",
       "    </tr>\n",
       "    <tr>\n",
       "      <th>Medication Use</th>\n",
       "      <td>1</td>\n",
       "      <td>0</td>\n",
       "      <td>1</td>\n",
       "      <td>1</td>\n",
       "      <td>0</td>\n",
       "    </tr>\n",
       "    <tr>\n",
       "      <th>Stress Level</th>\n",
       "      <td>2</td>\n",
       "      <td>8</td>\n",
       "      <td>3</td>\n",
       "      <td>7</td>\n",
       "      <td>1</td>\n",
       "    </tr>\n",
       "    <tr>\n",
       "      <th>Sedentary Hours Per Day</th>\n",
       "      <td>0.138443</td>\n",
       "      <td>0.369552</td>\n",
       "      <td>8.646334</td>\n",
       "      <td>1.107884</td>\n",
       "      <td>1.33757</td>\n",
       "    </tr>\n",
       "    <tr>\n",
       "      <th>Income</th>\n",
       "      <td>184066</td>\n",
       "      <td>211755</td>\n",
       "      <td>252203</td>\n",
       "      <td>121954</td>\n",
       "      <td>180121</td>\n",
       "    </tr>\n",
       "    <tr>\n",
       "      <th>BMI</th>\n",
       "      <td>30.449815</td>\n",
       "      <td>34.973685</td>\n",
       "      <td>30.554246</td>\n",
       "      <td>35.390265</td>\n",
       "      <td>39.575483</td>\n",
       "    </tr>\n",
       "    <tr>\n",
       "      <th>Triglycerides</th>\n",
       "      <td>63</td>\n",
       "      <td>333</td>\n",
       "      <td>537</td>\n",
       "      <td>591</td>\n",
       "      <td>145</td>\n",
       "    </tr>\n",
       "    <tr>\n",
       "      <th>Physical Activity Days Per Week</th>\n",
       "      <td>6</td>\n",
       "      <td>7</td>\n",
       "      <td>2</td>\n",
       "      <td>0</td>\n",
       "      <td>2</td>\n",
       "    </tr>\n",
       "    <tr>\n",
       "      <th>Sleep Hours Per Day</th>\n",
       "      <td>7</td>\n",
       "      <td>8</td>\n",
       "      <td>10</td>\n",
       "      <td>9</td>\n",
       "      <td>5</td>\n",
       "    </tr>\n",
       "    <tr>\n",
       "      <th>Country</th>\n",
       "      <td>Argentina</td>\n",
       "      <td>Nigeria</td>\n",
       "      <td>Thailand</td>\n",
       "      <td>Spain</td>\n",
       "      <td>Germany</td>\n",
       "    </tr>\n",
       "    <tr>\n",
       "      <th>Continent</th>\n",
       "      <td>South America</td>\n",
       "      <td>Africa</td>\n",
       "      <td>Asia</td>\n",
       "      <td>Europe</td>\n",
       "      <td>Europe</td>\n",
       "    </tr>\n",
       "    <tr>\n",
       "      <th>Hemisphere</th>\n",
       "      <td>Southern Hemisphere</td>\n",
       "      <td>Northern Hemisphere</td>\n",
       "      <td>Northern Hemisphere</td>\n",
       "      <td>Southern Hemisphere</td>\n",
       "      <td>Northern Hemisphere</td>\n",
       "    </tr>\n",
       "    <tr>\n",
       "      <th>Heart Attack Risk</th>\n",
       "      <td>1</td>\n",
       "      <td>1</td>\n",
       "      <td>0</td>\n",
       "      <td>1</td>\n",
       "      <td>1</td>\n",
       "    </tr>\n",
       "  </tbody>\n",
       "</table>\n",
       "</div>"
      ],
      "text/plain": [
       "                                                   0                    1  \\\n",
       "Patient ID                                   RDG0550              NMA3851   \n",
       "Age                                               33                   56   \n",
       "Sex                                             Male               Female   \n",
       "Cholesterol                                      200                  262   \n",
       "Blood Pressure                                129/90              159/105   \n",
       "Heart Rate                                        48                   46   \n",
       "Diabetes                                           0                    1   \n",
       "Family History                                     1                    0   \n",
       "Smoking                                            1                    1   \n",
       "Obesity                                            1                    0   \n",
       "Alcohol Consumption                                1                    0   \n",
       "Exercise Hours Per Week                      7.80769            17.297628   \n",
       "Diet                                       Unhealthy              Average   \n",
       "Previous Heart Problems                            0                    1   \n",
       "Medication Use                                     1                    0   \n",
       "Stress Level                                       2                    8   \n",
       "Sedentary Hours Per Day                     0.138443             0.369552   \n",
       "Income                                        184066               211755   \n",
       "BMI                                        30.449815            34.973685   \n",
       "Triglycerides                                     63                  333   \n",
       "Physical Activity Days Per Week                    6                    7   \n",
       "Sleep Hours Per Day                                7                    8   \n",
       "Country                                    Argentina              Nigeria   \n",
       "Continent                              South America               Africa   \n",
       "Hemisphere                       Southern Hemisphere  Northern Hemisphere   \n",
       "Heart Attack Risk                                  1                    1   \n",
       "\n",
       "                                                   2                    3  \\\n",
       "Patient ID                                   TUI5807              YYT5016   \n",
       "Age                                               19                   50   \n",
       "Sex                                           Female               Female   \n",
       "Cholesterol                                      140                  163   \n",
       "Blood Pressure                               161/109               120/62   \n",
       "Heart Rate                                        54                   53   \n",
       "Diabetes                                           0                    0   \n",
       "Family History                                     1                    1   \n",
       "Smoking                                            0                    1   \n",
       "Obesity                                            0                    1   \n",
       "Alcohol Consumption                                1                    1   \n",
       "Exercise Hours Per Week                     8.695288            10.161587   \n",
       "Diet                                         Average              Healthy   \n",
       "Previous Heart Problems                            1                    0   \n",
       "Medication Use                                     1                    1   \n",
       "Stress Level                                       3                    7   \n",
       "Sedentary Hours Per Day                     8.646334             1.107884   \n",
       "Income                                        252203               121954   \n",
       "BMI                                        30.554246            35.390265   \n",
       "Triglycerides                                    537                  591   \n",
       "Physical Activity Days Per Week                    2                    0   \n",
       "Sleep Hours Per Day                               10                    9   \n",
       "Country                                     Thailand                Spain   \n",
       "Continent                                       Asia               Europe   \n",
       "Hemisphere                       Northern Hemisphere  Southern Hemisphere   \n",
       "Heart Attack Risk                                  0                    1   \n",
       "\n",
       "                                                   4  \n",
       "Patient ID                                   ZAC5937  \n",
       "Age                                               89  \n",
       "Sex                                           Female  \n",
       "Cholesterol                                      144  \n",
       "Blood Pressure                               153/110  \n",
       "Heart Rate                                        92  \n",
       "Diabetes                                           1  \n",
       "Family History                                     0  \n",
       "Smoking                                            1  \n",
       "Obesity                                            0  \n",
       "Alcohol Consumption                                1  \n",
       "Exercise Hours Per Week                    16.436787  \n",
       "Diet                                         Healthy  \n",
       "Previous Heart Problems                            1  \n",
       "Medication Use                                     0  \n",
       "Stress Level                                       1  \n",
       "Sedentary Hours Per Day                      1.33757  \n",
       "Income                                        180121  \n",
       "BMI                                        39.575483  \n",
       "Triglycerides                                    145  \n",
       "Physical Activity Days Per Week                    2  \n",
       "Sleep Hours Per Day                                5  \n",
       "Country                                      Germany  \n",
       "Continent                                     Europe  \n",
       "Hemisphere                       Northern Hemisphere  \n",
       "Heart Attack Risk                                  1  "
      ]
     },
     "execution_count": 4,
     "metadata": {},
     "output_type": "execute_result"
    }
   ],
   "source": [
    "df.head().T"
   ]
  },
  {
   "cell_type": "markdown",
   "id": "01d93279-812d-4f16-bac1-1ea68c9d07d5",
   "metadata": {},
   "source": [
    "## Data Description"
   ]
  },
  {
   "cell_type": "markdown",
   "id": "325fde37-7f77-41be-ba4d-f3592c33c96f",
   "metadata": {},
   "source": [
    "The features for preparing the predictors:\n",
    "\n",
    "- `Patient ID`: Unique identifier for each patienttack risk (1: Yes, 0: No)ack risk (1: Yes, 0: No)"
   ]
  },
  {
   "cell_type": "markdown",
   "id": "91698980-a5fc-48dc-9878-316adaaed323",
   "metadata": {},
   "source": [
    "- `Age`: Age of the patient"
   ]
  },
  {
   "cell_type": "markdown",
   "id": "ec479a15-5ba6-4af4-8bb5-fbe4f709bec3",
   "metadata": {},
   "source": [
    "- `Sex`: Gender of the patient (Male/Female)"
   ]
  },
  {
   "cell_type": "markdown",
   "id": "44b9c9ce-9733-47ff-9a59-7f89d2729ce6",
   "metadata": {},
   "source": [
    "- `Cholesterol`: Cholesterol levels of the patient"
   ]
  },
  {
   "cell_type": "markdown",
   "id": "2f432ea0-d232-43b4-ae28-556d6ee02adf",
   "metadata": {},
   "source": [
    "- `Blood Pressure`: Blood pressure of the patient (systolic/diastolic)  "
   ]
  },
  {
   "cell_type": "markdown",
   "id": "5cc7e46a-35e3-48e0-92bf-5511c74a04ea",
   "metadata": {},
   "source": [
    "- `Heart Rate`: Heart rate of the patient"
   ]
  },
  {
   "cell_type": "markdown",
   "id": "6c9ca77b-2979-4457-80e5-c3a5c1ba2bc3",
   "metadata": {},
   "source": [
    "- `Diabetes`: Whether the patient has diabetes (Yes/No)"
   ]
  },
  {
   "cell_type": "markdown",
   "id": "d84a21b8-195d-4ebe-9163-d7e12039f2fc",
   "metadata": {},
   "source": [
    "- `Family History`: Family history of heart-related problems (1: Yes, 0: No)"
   ]
  },
  {
   "cell_type": "markdown",
   "id": "b656c7ee-ff06-4bf4-8e1a-fe53d06210ce",
   "metadata": {},
   "source": [
    "- `Smoking`: Smoking status of the patient (1: Smoker, 0: Non-smoker)"
   ]
  },
  {
   "cell_type": "markdown",
   "id": "71d6253a-2822-40ab-b02a-747b4b918d1e",
   "metadata": {},
   "source": [
    "- `Obesity`: Obesity status of the patient (1: Obese, 0: Not obese)"
   ]
  },
  {
   "cell_type": "markdown",
   "id": "1c6639c5-0ebc-48ef-9520-2b463476fa77",
   "metadata": {},
   "source": [
    "- `Alcohol Consumption`: Patient consumes alcohol (Yes/No)"
   ]
  },
  {
   "cell_type": "markdown",
   "id": "c0857185-160e-45c7-994e-3e6116fa13ae",
   "metadata": {},
   "source": [
    "- `Exercise Hours Per Week`: Number of exercise hours per week"
   ]
  },
  {
   "cell_type": "markdown",
   "id": "71fd2a71-0cb5-44c4-a05b-463e90a9ac14",
   "metadata": {},
   "source": [
    "- `Diet`: Dietary habits of the patient (Healthy/Average/Unhealthy)"
   ]
  },
  {
   "cell_type": "markdown",
   "id": "0ecfe8da-8ba4-4cce-9d1d-38a89bc787bc",
   "metadata": {},
   "source": [
    "- `Previous Heart Problems`: Previous heart problems of the patient (1: Yes, 0: No)"
   ]
  },
  {
   "cell_type": "markdown",
   "id": "d079ece2-3a42-4d94-ab5c-322f8878edf2",
   "metadata": {},
   "source": [
    "- `Medication Use`: Medication usage by the patient (1: Yes, 0: No)"
   ]
  },
  {
   "cell_type": "markdown",
   "id": "9da10a59-3c55-4c2e-b64c-834d2329a7d8",
   "metadata": {},
   "source": [
    "- `Stress Level`: Stress level reported by the patient (1-10)"
   ]
  },
  {
   "cell_type": "markdown",
   "id": "fbc54137-fe7b-451c-bce9-c475b0b3ad44",
   "metadata": {},
   "source": [
    "- `Sedentary Hours Per Day`: Hours of sedentary activity per day"
   ]
  },
  {
   "cell_type": "markdown",
   "id": "eba27980-b2de-4159-9c60-9d7208f4e44b",
   "metadata": {},
   "source": [
    "- `Income`: Income level of the patient"
   ]
  },
  {
   "cell_type": "markdown",
   "id": "5abc8abe-b02e-4ca2-82c6-7bf10a90444d",
   "metadata": {},
   "source": [
    "- `BMI`: Body Mass Index (BMI) of the patient"
   ]
  },
  {
   "cell_type": "markdown",
   "id": "ae914396-ac3b-464c-8a9d-b243df3b2ed7",
   "metadata": {},
   "source": [
    "- `Triglycerides`: Triglyceride levels of the patient"
   ]
  },
  {
   "cell_type": "markdown",
   "id": "ff52f552-eff2-43de-a211-44a5b37834a2",
   "metadata": {},
   "source": [
    "- `Physical Activity Days Per Week`: Days of physical activity per week"
   ]
  },
  {
   "cell_type": "markdown",
   "id": "efdaafeb-3cc3-44a0-bac5-8fe12e52607a",
   "metadata": {},
   "source": [
    "- `Sleep Hours Per Day`: Hours of sleep per day"
   ]
  },
  {
   "cell_type": "markdown",
   "id": "c7b59484-ef09-47c3-be4e-fc7641826d59",
   "metadata": {},
   "source": [
    "- `Country`: Country of the patient"
   ]
  },
  {
   "cell_type": "markdown",
   "id": "36c9f7b6-0700-4fa3-8af2-d4fe8746811d",
   "metadata": {},
   "source": [
    "- `Continent`: Continent where the patient resides"
   ]
  },
  {
   "cell_type": "markdown",
   "id": "f55e7bc2-bce3-488f-9c55-24d0def99b8d",
   "metadata": {},
   "source": [
    "- `Hemisphere`: Hemisphere where the patient resides"
   ]
  },
  {
   "cell_type": "markdown",
   "id": "4921cede-906b-4122-a4ae-cb5dec0cbfb9",
   "metadata": {},
   "source": [
    "Target Feature:\n",
    "\n",
    "`Heart Attack Risk`: Presence of heart attack risk (1: Yes, 0: No)"
   ]
  },
  {
   "cell_type": "markdown",
   "id": "896eafc2-424a-4e19-ad26-f5998324a087",
   "metadata": {},
   "source": [
    "## Data Preparation\n",
    "\n",
    "- Rename Columns to remove spaces and capital letters\n",
    "- Lowercase string entries in rows and replace spaces with underscores\n",
    "- Convert numeric categoric entries to stings"
   ]
  },
  {
   "cell_type": "code",
   "execution_count": 5,
   "id": "2f42a7ca-7c04-4132-aef0-0ef3f387d150",
   "metadata": {},
   "outputs": [],
   "source": [
    "df.columns = df.columns.str.replace(\" \", '_').str.lower()"
   ]
  },
  {
   "cell_type": "code",
   "execution_count": 6,
   "id": "41394fda-6eb1-4545-b64e-431cdd5d7739",
   "metadata": {},
   "outputs": [],
   "source": [
    "categorical = [x for x in df.columns if df[x].dtype == 'O']"
   ]
  },
  {
   "cell_type": "code",
   "execution_count": 7,
   "id": "720c82b8-5f4d-4abb-bb74-67dfbd4194eb",
   "metadata": {},
   "outputs": [],
   "source": [
    "for c in categorical:\n",
    "    df[c] = df[c].str.replace(\" \", '_').str.lower()"
   ]
  },
  {
   "cell_type": "code",
   "execution_count": 8,
   "id": "26e7913f-8514-499c-9ff6-29b5dd80c2fb",
   "metadata": {
    "scrolled": true
   },
   "outputs": [
    {
     "data": {
      "text/html": [
       "<div>\n",
       "<style scoped>\n",
       "    .dataframe tbody tr th:only-of-type {\n",
       "        vertical-align: middle;\n",
       "    }\n",
       "\n",
       "    .dataframe tbody tr th {\n",
       "        vertical-align: top;\n",
       "    }\n",
       "\n",
       "    .dataframe thead th {\n",
       "        text-align: right;\n",
       "    }\n",
       "</style>\n",
       "<table border=\"1\" class=\"dataframe\">\n",
       "  <thead>\n",
       "    <tr style=\"text-align: right;\">\n",
       "      <th></th>\n",
       "      <th>0</th>\n",
       "      <th>1</th>\n",
       "      <th>2</th>\n",
       "      <th>3</th>\n",
       "      <th>4</th>\n",
       "    </tr>\n",
       "  </thead>\n",
       "  <tbody>\n",
       "    <tr>\n",
       "      <th>patient_id</th>\n",
       "      <td>rdg0550</td>\n",
       "      <td>nma3851</td>\n",
       "      <td>tui5807</td>\n",
       "      <td>yyt5016</td>\n",
       "      <td>zac5937</td>\n",
       "    </tr>\n",
       "    <tr>\n",
       "      <th>age</th>\n",
       "      <td>33</td>\n",
       "      <td>56</td>\n",
       "      <td>19</td>\n",
       "      <td>50</td>\n",
       "      <td>89</td>\n",
       "    </tr>\n",
       "    <tr>\n",
       "      <th>sex</th>\n",
       "      <td>male</td>\n",
       "      <td>female</td>\n",
       "      <td>female</td>\n",
       "      <td>female</td>\n",
       "      <td>female</td>\n",
       "    </tr>\n",
       "    <tr>\n",
       "      <th>cholesterol</th>\n",
       "      <td>200</td>\n",
       "      <td>262</td>\n",
       "      <td>140</td>\n",
       "      <td>163</td>\n",
       "      <td>144</td>\n",
       "    </tr>\n",
       "    <tr>\n",
       "      <th>blood_pressure</th>\n",
       "      <td>129/90</td>\n",
       "      <td>159/105</td>\n",
       "      <td>161/109</td>\n",
       "      <td>120/62</td>\n",
       "      <td>153/110</td>\n",
       "    </tr>\n",
       "    <tr>\n",
       "      <th>heart_rate</th>\n",
       "      <td>48</td>\n",
       "      <td>46</td>\n",
       "      <td>54</td>\n",
       "      <td>53</td>\n",
       "      <td>92</td>\n",
       "    </tr>\n",
       "    <tr>\n",
       "      <th>diabetes</th>\n",
       "      <td>0</td>\n",
       "      <td>1</td>\n",
       "      <td>0</td>\n",
       "      <td>0</td>\n",
       "      <td>1</td>\n",
       "    </tr>\n",
       "    <tr>\n",
       "      <th>family_history</th>\n",
       "      <td>1</td>\n",
       "      <td>0</td>\n",
       "      <td>1</td>\n",
       "      <td>1</td>\n",
       "      <td>0</td>\n",
       "    </tr>\n",
       "    <tr>\n",
       "      <th>smoking</th>\n",
       "      <td>1</td>\n",
       "      <td>1</td>\n",
       "      <td>0</td>\n",
       "      <td>1</td>\n",
       "      <td>1</td>\n",
       "    </tr>\n",
       "    <tr>\n",
       "      <th>obesity</th>\n",
       "      <td>1</td>\n",
       "      <td>0</td>\n",
       "      <td>0</td>\n",
       "      <td>1</td>\n",
       "      <td>0</td>\n",
       "    </tr>\n",
       "    <tr>\n",
       "      <th>alcohol_consumption</th>\n",
       "      <td>1</td>\n",
       "      <td>0</td>\n",
       "      <td>1</td>\n",
       "      <td>1</td>\n",
       "      <td>1</td>\n",
       "    </tr>\n",
       "    <tr>\n",
       "      <th>exercise_hours_per_week</th>\n",
       "      <td>7.80769</td>\n",
       "      <td>17.297628</td>\n",
       "      <td>8.695288</td>\n",
       "      <td>10.161587</td>\n",
       "      <td>16.436787</td>\n",
       "    </tr>\n",
       "    <tr>\n",
       "      <th>diet</th>\n",
       "      <td>unhealthy</td>\n",
       "      <td>average</td>\n",
       "      <td>average</td>\n",
       "      <td>healthy</td>\n",
       "      <td>healthy</td>\n",
       "    </tr>\n",
       "    <tr>\n",
       "      <th>previous_heart_problems</th>\n",
       "      <td>0</td>\n",
       "      <td>1</td>\n",
       "      <td>1</td>\n",
       "      <td>0</td>\n",
       "      <td>1</td>\n",
       "    </tr>\n",
       "    <tr>\n",
       "      <th>medication_use</th>\n",
       "      <td>1</td>\n",
       "      <td>0</td>\n",
       "      <td>1</td>\n",
       "      <td>1</td>\n",
       "      <td>0</td>\n",
       "    </tr>\n",
       "    <tr>\n",
       "      <th>stress_level</th>\n",
       "      <td>2</td>\n",
       "      <td>8</td>\n",
       "      <td>3</td>\n",
       "      <td>7</td>\n",
       "      <td>1</td>\n",
       "    </tr>\n",
       "    <tr>\n",
       "      <th>sedentary_hours_per_day</th>\n",
       "      <td>0.138443</td>\n",
       "      <td>0.369552</td>\n",
       "      <td>8.646334</td>\n",
       "      <td>1.107884</td>\n",
       "      <td>1.33757</td>\n",
       "    </tr>\n",
       "    <tr>\n",
       "      <th>income</th>\n",
       "      <td>184066</td>\n",
       "      <td>211755</td>\n",
       "      <td>252203</td>\n",
       "      <td>121954</td>\n",
       "      <td>180121</td>\n",
       "    </tr>\n",
       "    <tr>\n",
       "      <th>bmi</th>\n",
       "      <td>30.449815</td>\n",
       "      <td>34.973685</td>\n",
       "      <td>30.554246</td>\n",
       "      <td>35.390265</td>\n",
       "      <td>39.575483</td>\n",
       "    </tr>\n",
       "    <tr>\n",
       "      <th>triglycerides</th>\n",
       "      <td>63</td>\n",
       "      <td>333</td>\n",
       "      <td>537</td>\n",
       "      <td>591</td>\n",
       "      <td>145</td>\n",
       "    </tr>\n",
       "    <tr>\n",
       "      <th>physical_activity_days_per_week</th>\n",
       "      <td>6</td>\n",
       "      <td>7</td>\n",
       "      <td>2</td>\n",
       "      <td>0</td>\n",
       "      <td>2</td>\n",
       "    </tr>\n",
       "    <tr>\n",
       "      <th>sleep_hours_per_day</th>\n",
       "      <td>7</td>\n",
       "      <td>8</td>\n",
       "      <td>10</td>\n",
       "      <td>9</td>\n",
       "      <td>5</td>\n",
       "    </tr>\n",
       "    <tr>\n",
       "      <th>country</th>\n",
       "      <td>argentina</td>\n",
       "      <td>nigeria</td>\n",
       "      <td>thailand</td>\n",
       "      <td>spain</td>\n",
       "      <td>germany</td>\n",
       "    </tr>\n",
       "    <tr>\n",
       "      <th>continent</th>\n",
       "      <td>south_america</td>\n",
       "      <td>africa</td>\n",
       "      <td>asia</td>\n",
       "      <td>europe</td>\n",
       "      <td>europe</td>\n",
       "    </tr>\n",
       "    <tr>\n",
       "      <th>hemisphere</th>\n",
       "      <td>southern_hemisphere</td>\n",
       "      <td>northern_hemisphere</td>\n",
       "      <td>northern_hemisphere</td>\n",
       "      <td>southern_hemisphere</td>\n",
       "      <td>northern_hemisphere</td>\n",
       "    </tr>\n",
       "    <tr>\n",
       "      <th>heart_attack_risk</th>\n",
       "      <td>1</td>\n",
       "      <td>1</td>\n",
       "      <td>0</td>\n",
       "      <td>1</td>\n",
       "      <td>1</td>\n",
       "    </tr>\n",
       "  </tbody>\n",
       "</table>\n",
       "</div>"
      ],
      "text/plain": [
       "                                                   0                    1  \\\n",
       "patient_id                                   rdg0550              nma3851   \n",
       "age                                               33                   56   \n",
       "sex                                             male               female   \n",
       "cholesterol                                      200                  262   \n",
       "blood_pressure                                129/90              159/105   \n",
       "heart_rate                                        48                   46   \n",
       "diabetes                                           0                    1   \n",
       "family_history                                     1                    0   \n",
       "smoking                                            1                    1   \n",
       "obesity                                            1                    0   \n",
       "alcohol_consumption                                1                    0   \n",
       "exercise_hours_per_week                      7.80769            17.297628   \n",
       "diet                                       unhealthy              average   \n",
       "previous_heart_problems                            0                    1   \n",
       "medication_use                                     1                    0   \n",
       "stress_level                                       2                    8   \n",
       "sedentary_hours_per_day                     0.138443             0.369552   \n",
       "income                                        184066               211755   \n",
       "bmi                                        30.449815            34.973685   \n",
       "triglycerides                                     63                  333   \n",
       "physical_activity_days_per_week                    6                    7   \n",
       "sleep_hours_per_day                                7                    8   \n",
       "country                                    argentina              nigeria   \n",
       "continent                              south_america               africa   \n",
       "hemisphere                       southern_hemisphere  northern_hemisphere   \n",
       "heart_attack_risk                                  1                    1   \n",
       "\n",
       "                                                   2                    3  \\\n",
       "patient_id                                   tui5807              yyt5016   \n",
       "age                                               19                   50   \n",
       "sex                                           female               female   \n",
       "cholesterol                                      140                  163   \n",
       "blood_pressure                               161/109               120/62   \n",
       "heart_rate                                        54                   53   \n",
       "diabetes                                           0                    0   \n",
       "family_history                                     1                    1   \n",
       "smoking                                            0                    1   \n",
       "obesity                                            0                    1   \n",
       "alcohol_consumption                                1                    1   \n",
       "exercise_hours_per_week                     8.695288            10.161587   \n",
       "diet                                         average              healthy   \n",
       "previous_heart_problems                            1                    0   \n",
       "medication_use                                     1                    1   \n",
       "stress_level                                       3                    7   \n",
       "sedentary_hours_per_day                     8.646334             1.107884   \n",
       "income                                        252203               121954   \n",
       "bmi                                        30.554246            35.390265   \n",
       "triglycerides                                    537                  591   \n",
       "physical_activity_days_per_week                    2                    0   \n",
       "sleep_hours_per_day                               10                    9   \n",
       "country                                     thailand                spain   \n",
       "continent                                       asia               europe   \n",
       "hemisphere                       northern_hemisphere  southern_hemisphere   \n",
       "heart_attack_risk                                  0                    1   \n",
       "\n",
       "                                                   4  \n",
       "patient_id                                   zac5937  \n",
       "age                                               89  \n",
       "sex                                           female  \n",
       "cholesterol                                      144  \n",
       "blood_pressure                               153/110  \n",
       "heart_rate                                        92  \n",
       "diabetes                                           1  \n",
       "family_history                                     0  \n",
       "smoking                                            1  \n",
       "obesity                                            0  \n",
       "alcohol_consumption                                1  \n",
       "exercise_hours_per_week                    16.436787  \n",
       "diet                                         healthy  \n",
       "previous_heart_problems                            1  \n",
       "medication_use                                     0  \n",
       "stress_level                                       1  \n",
       "sedentary_hours_per_day                      1.33757  \n",
       "income                                        180121  \n",
       "bmi                                        39.575483  \n",
       "triglycerides                                    145  \n",
       "physical_activity_days_per_week                    2  \n",
       "sleep_hours_per_day                                5  \n",
       "country                                      germany  \n",
       "continent                                     europe  \n",
       "hemisphere                       northern_hemisphere  \n",
       "heart_attack_risk                                  1  "
      ]
     },
     "execution_count": 8,
     "metadata": {},
     "output_type": "execute_result"
    }
   ],
   "source": [
    "df.head().T"
   ]
  },
  {
   "cell_type": "code",
   "execution_count": 9,
   "id": "f4533e42-ee1e-44b9-bfa6-0a3ddfeb25e8",
   "metadata": {},
   "outputs": [
    {
     "data": {
      "text/plain": [
       "diabetes\n",
       "1    4576\n",
       "0    2434\n",
       "Name: count, dtype: int64"
      ]
     },
     "execution_count": 9,
     "metadata": {},
     "output_type": "execute_result"
    }
   ],
   "source": [
    "df.diabetes.value_counts()"
   ]
  },
  {
   "cell_type": "code",
   "execution_count": 10,
   "id": "78542c6f-ca21-4eb4-9052-fe55ca035ee1",
   "metadata": {},
   "outputs": [
    {
     "data": {
      "text/plain": [
       "0    yes\n",
       "1     no\n",
       "2    yes\n",
       "3    yes\n",
       "4     no\n",
       "Name: diabetes, dtype: object"
      ]
     },
     "execution_count": 10,
     "metadata": {},
     "output_type": "execute_result"
    }
   ],
   "source": [
    "# Diabetes: Whether the patient has diabetes (Yes/No)\n",
    "\n",
    "diabetes_values = {\n",
    "    0: 'yes',\n",
    "    1: 'no'\n",
    "}\n",
    "df.diabetes = df.diabetes.map(diabetes_values)\n",
    "df.diabetes.head()"
   ]
  },
  {
   "cell_type": "code",
   "execution_count": 11,
   "id": "04a6b49d-4bc8-458b-b8c1-c182a8c5f5eb",
   "metadata": {},
   "outputs": [
    {
     "data": {
      "text/plain": [
       "family_history\n",
       "0    3562\n",
       "1    3448\n",
       "Name: count, dtype: int64"
      ]
     },
     "execution_count": 11,
     "metadata": {},
     "output_type": "execute_result"
    }
   ],
   "source": [
    "df.family_history.value_counts()"
   ]
  },
  {
   "cell_type": "code",
   "execution_count": 12,
   "id": "2f8c6942-8630-4a91-b585-812371cf13d3",
   "metadata": {},
   "outputs": [
    {
     "data": {
      "text/plain": [
       "0    yes\n",
       "1     no\n",
       "2    yes\n",
       "3    yes\n",
       "4     no\n",
       "Name: family_history, dtype: object"
      ]
     },
     "execution_count": 12,
     "metadata": {},
     "output_type": "execute_result"
    }
   ],
   "source": [
    "# Family History: Family history of heart-related problems (1: Yes, 0: No)\n",
    "\n",
    "family_values = {\n",
    "    1: 'yes',\n",
    "    0: 'no'\n",
    "}\n",
    "df.family_history = df.family_history.map(family_values)\n",
    "df.family_history.head()"
   ]
  },
  {
   "cell_type": "code",
   "execution_count": 13,
   "id": "bb76707c-a4e2-4188-ba84-812b732d4555",
   "metadata": {},
   "outputs": [
    {
     "data": {
      "text/plain": [
       "smoking\n",
       "1    6283\n",
       "0     727\n",
       "Name: count, dtype: int64"
      ]
     },
     "execution_count": 13,
     "metadata": {},
     "output_type": "execute_result"
    }
   ],
   "source": [
    "df.smoking.value_counts()"
   ]
  },
  {
   "cell_type": "code",
   "execution_count": 14,
   "id": "57a810d5-3509-4dc8-9830-949860d6eb86",
   "metadata": {},
   "outputs": [
    {
     "data": {
      "text/plain": [
       "0    yes\n",
       "1    yes\n",
       "2     no\n",
       "3    yes\n",
       "4    yes\n",
       "Name: smoking, dtype: object"
      ]
     },
     "execution_count": 14,
     "metadata": {},
     "output_type": "execute_result"
    }
   ],
   "source": [
    "# Smoking: Smoking status of the patient (1: Smoker, 0: Non-smoker)\n",
    "\n",
    "smoking_values = {\n",
    "    1: 'yes',\n",
    "    0: 'no'\n",
    "}\n",
    "df.smoking = df.smoking.map(smoking_values)\n",
    "df.smoking.head()"
   ]
  },
  {
   "cell_type": "code",
   "execution_count": 15,
   "id": "aab2d0c3-85ba-4111-ac31-63e99c47e08d",
   "metadata": {},
   "outputs": [
    {
     "data": {
      "text/plain": [
       "obesity\n",
       "0    3506\n",
       "1    3504\n",
       "Name: count, dtype: int64"
      ]
     },
     "execution_count": 15,
     "metadata": {},
     "output_type": "execute_result"
    }
   ],
   "source": [
    "df.obesity.value_counts()"
   ]
  },
  {
   "cell_type": "code",
   "execution_count": 16,
   "id": "a85b1742-f194-46f0-946c-bf3773a8d901",
   "metadata": {},
   "outputs": [
    {
     "data": {
      "text/plain": [
       "0    yes\n",
       "1     no\n",
       "2     no\n",
       "3    yes\n",
       "4     no\n",
       "Name: obesity, dtype: object"
      ]
     },
     "execution_count": 16,
     "metadata": {},
     "output_type": "execute_result"
    }
   ],
   "source": [
    "# Obesity: Obesity status of the patient (1: Obese, 0: Not obese)\n",
    "\n",
    "obesity_values = {\n",
    "    1: 'yes',\n",
    "    0: 'no'\n",
    "}\n",
    "df.obesity = df.obesity.map(obesity_values)\n",
    "df.obesity.head()"
   ]
  },
  {
   "cell_type": "code",
   "execution_count": 17,
   "id": "6d7ad7ae-4fa1-47db-b6f7-e8ae1e72019d",
   "metadata": {},
   "outputs": [
    {
     "data": {
      "text/plain": [
       "alcohol_consumption\n",
       "1    4177\n",
       "0    2833\n",
       "Name: count, dtype: int64"
      ]
     },
     "execution_count": 17,
     "metadata": {},
     "output_type": "execute_result"
    }
   ],
   "source": [
    "df.alcohol_consumption.value_counts()"
   ]
  },
  {
   "cell_type": "code",
   "execution_count": 18,
   "id": "1c9286cd-7703-4efc-8d94-b7b1901a17ed",
   "metadata": {},
   "outputs": [
    {
     "data": {
      "text/plain": [
       "0    yes\n",
       "1     no\n",
       "2    yes\n",
       "3    yes\n",
       "4    yes\n",
       "Name: alcohol_consumption, dtype: object"
      ]
     },
     "execution_count": 18,
     "metadata": {},
     "output_type": "execute_result"
    }
   ],
   "source": [
    "# Alcohol Consumption: Patient consumes alcohol (Yes/No)\n",
    "\n",
    "alcohol_values = {\n",
    "    1: 'yes',\n",
    "    0: 'no'\n",
    "}\n",
    "\n",
    "df.alcohol_consumption = df.alcohol_consumption.map(alcohol_values)\n",
    "df.alcohol_consumption.head()"
   ]
  },
  {
   "cell_type": "code",
   "execution_count": 19,
   "id": "86f54e28-1f80-49b1-bf9f-da8069538e34",
   "metadata": {},
   "outputs": [
    {
     "data": {
      "text/plain": [
       "previous_heart_problems\n",
       "0    3518\n",
       "1    3492\n",
       "Name: count, dtype: int64"
      ]
     },
     "execution_count": 19,
     "metadata": {},
     "output_type": "execute_result"
    }
   ],
   "source": [
    "df.previous_heart_problems.value_counts()"
   ]
  },
  {
   "cell_type": "code",
   "execution_count": 20,
   "id": "d826f8ee-340b-4079-b34c-ecc2a1dea405",
   "metadata": {},
   "outputs": [
    {
     "data": {
      "text/plain": [
       "0     no\n",
       "1    yes\n",
       "2    yes\n",
       "3     no\n",
       "4    yes\n",
       "Name: previous_heart_problems, dtype: object"
      ]
     },
     "execution_count": 20,
     "metadata": {},
     "output_type": "execute_result"
    }
   ],
   "source": [
    "# Previous Heart Problems: Previous heart problems of the patient (1: Yes, 0: No)\n",
    "\n",
    "values = {\n",
    "    1: 'yes',\n",
    "    0: 'no'\n",
    "}\n",
    "df.previous_heart_problems = df.previous_heart_problems.map(values)\n",
    "df.previous_heart_problems.head()"
   ]
  },
  {
   "cell_type": "code",
   "execution_count": 21,
   "id": "48d75b2f-1b79-4c0d-8a4e-2264543af437",
   "metadata": {},
   "outputs": [
    {
     "data": {
      "text/plain": [
       "medication_use\n",
       "1    3506\n",
       "0    3504\n",
       "Name: count, dtype: int64"
      ]
     },
     "execution_count": 21,
     "metadata": {},
     "output_type": "execute_result"
    }
   ],
   "source": [
    "df.medication_use.value_counts()"
   ]
  },
  {
   "cell_type": "code",
   "execution_count": 22,
   "id": "6e5634be-dbbb-47f2-afac-64e687cf8073",
   "metadata": {},
   "outputs": [
    {
     "data": {
      "text/plain": [
       "0    yes\n",
       "1     no\n",
       "2    yes\n",
       "3    yes\n",
       "4     no\n",
       "Name: medication_use, dtype: object"
      ]
     },
     "execution_count": 22,
     "metadata": {},
     "output_type": "execute_result"
    }
   ],
   "source": [
    "# Medication Use: Medication usage by the patient (1: Yes, 0: No)\n",
    "\n",
    "values = {\n",
    "    1: 'yes',\n",
    "    0: 'no'\n",
    "}\n",
    "df.medication_use = df.medication_use.map(values)\n",
    "df.medication_use.head()"
   ]
  },
  {
   "cell_type": "code",
   "execution_count": 23,
   "id": "fc1543ab-9160-4bf4-b3ae-5914659f3c51",
   "metadata": {
    "scrolled": true
   },
   "outputs": [
    {
     "data": {
      "text/plain": [
       "patient_id                         0\n",
       "age                                0\n",
       "sex                                0\n",
       "cholesterol                        0\n",
       "blood_pressure                     0\n",
       "heart_rate                         0\n",
       "diabetes                           0\n",
       "family_history                     0\n",
       "smoking                            0\n",
       "obesity                            0\n",
       "alcohol_consumption                0\n",
       "exercise_hours_per_week            0\n",
       "diet                               0\n",
       "previous_heart_problems            0\n",
       "medication_use                     0\n",
       "stress_level                       0\n",
       "sedentary_hours_per_day            0\n",
       "income                             0\n",
       "bmi                                0\n",
       "triglycerides                      0\n",
       "physical_activity_days_per_week    0\n",
       "sleep_hours_per_day                0\n",
       "country                            0\n",
       "continent                          0\n",
       "hemisphere                         0\n",
       "heart_attack_risk                  0\n",
       "dtype: int64"
      ]
     },
     "execution_count": 23,
     "metadata": {},
     "output_type": "execute_result"
    }
   ],
   "source": [
    "df.isnull().sum()"
   ]
  },
  {
   "cell_type": "markdown",
   "id": "f7b3b9d8-9e70-4078-91c4-c93b6f473392",
   "metadata": {},
   "source": [
    "We do not have null values"
   ]
  },
  {
   "cell_type": "code",
   "execution_count": 24,
   "id": "6da7e4c3-7e65-4b42-a1db-7c8af725fb53",
   "metadata": {},
   "outputs": [
    {
     "name": "stdout",
     "output_type": "stream",
     "text": [
      "<class 'pandas.core.frame.DataFrame'>\n",
      "RangeIndex: 7010 entries, 0 to 7009\n",
      "Data columns (total 26 columns):\n",
      " #   Column                           Non-Null Count  Dtype  \n",
      "---  ------                           --------------  -----  \n",
      " 0   patient_id                       7010 non-null   object \n",
      " 1   age                              7010 non-null   int64  \n",
      " 2   sex                              7010 non-null   object \n",
      " 3   cholesterol                      7010 non-null   int64  \n",
      " 4   blood_pressure                   7010 non-null   object \n",
      " 5   heart_rate                       7010 non-null   int64  \n",
      " 6   diabetes                         7010 non-null   object \n",
      " 7   family_history                   7010 non-null   object \n",
      " 8   smoking                          7010 non-null   object \n",
      " 9   obesity                          7010 non-null   object \n",
      " 10  alcohol_consumption              7010 non-null   object \n",
      " 11  exercise_hours_per_week          7010 non-null   float64\n",
      " 12  diet                             7010 non-null   object \n",
      " 13  previous_heart_problems          7010 non-null   object \n",
      " 14  medication_use                   7010 non-null   object \n",
      " 15  stress_level                     7010 non-null   int64  \n",
      " 16  sedentary_hours_per_day          7010 non-null   float64\n",
      " 17  income                           7010 non-null   int64  \n",
      " 18  bmi                              7010 non-null   float64\n",
      " 19  triglycerides                    7010 non-null   int64  \n",
      " 20  physical_activity_days_per_week  7010 non-null   int64  \n",
      " 21  sleep_hours_per_day              7010 non-null   int64  \n",
      " 22  country                          7010 non-null   object \n",
      " 23  continent                        7010 non-null   object \n",
      " 24  hemisphere                       7010 non-null   object \n",
      " 25  heart_attack_risk                7010 non-null   int64  \n",
      "dtypes: float64(3), int64(9), object(14)\n",
      "memory usage: 1.4+ MB\n"
     ]
    }
   ],
   "source": [
    "df.info()"
   ]
  },
  {
   "cell_type": "markdown",
   "id": "4e18350a-e286-439e-9b9c-5794c3fd7131",
   "metadata": {},
   "source": [
    "We see that `blood_pressure` is of type `object` whereas it should be `numeric`. We can correct it by splitting the `systolic` and `diastolic` to different columns."
   ]
  },
  {
   "cell_type": "code",
   "execution_count": 25,
   "id": "4113c582-64e6-4c2f-bef0-e11d4be5ecc3",
   "metadata": {},
   "outputs": [],
   "source": [
    "df[['systolic_bp', 'diastolic_bp']] = df['blood_pressure'].str.split('/', expand=True).astype(int)"
   ]
  },
  {
   "cell_type": "code",
   "execution_count": 26,
   "id": "ec845897-abf8-4e96-a90e-d6aff2adf9d6",
   "metadata": {},
   "outputs": [
    {
     "data": {
      "text/html": [
       "<div>\n",
       "<style scoped>\n",
       "    .dataframe tbody tr th:only-of-type {\n",
       "        vertical-align: middle;\n",
       "    }\n",
       "\n",
       "    .dataframe tbody tr th {\n",
       "        vertical-align: top;\n",
       "    }\n",
       "\n",
       "    .dataframe thead th {\n",
       "        text-align: right;\n",
       "    }\n",
       "</style>\n",
       "<table border=\"1\" class=\"dataframe\">\n",
       "  <thead>\n",
       "    <tr style=\"text-align: right;\">\n",
       "      <th></th>\n",
       "      <th>patient_id</th>\n",
       "      <th>age</th>\n",
       "      <th>sex</th>\n",
       "      <th>cholesterol</th>\n",
       "      <th>blood_pressure</th>\n",
       "      <th>heart_rate</th>\n",
       "      <th>diabetes</th>\n",
       "      <th>family_history</th>\n",
       "      <th>smoking</th>\n",
       "      <th>obesity</th>\n",
       "      <th>...</th>\n",
       "      <th>bmi</th>\n",
       "      <th>triglycerides</th>\n",
       "      <th>physical_activity_days_per_week</th>\n",
       "      <th>sleep_hours_per_day</th>\n",
       "      <th>country</th>\n",
       "      <th>continent</th>\n",
       "      <th>hemisphere</th>\n",
       "      <th>heart_attack_risk</th>\n",
       "      <th>systolic_bp</th>\n",
       "      <th>diastolic_bp</th>\n",
       "    </tr>\n",
       "  </thead>\n",
       "  <tbody>\n",
       "    <tr>\n",
       "      <th>0</th>\n",
       "      <td>rdg0550</td>\n",
       "      <td>33</td>\n",
       "      <td>male</td>\n",
       "      <td>200</td>\n",
       "      <td>129/90</td>\n",
       "      <td>48</td>\n",
       "      <td>yes</td>\n",
       "      <td>yes</td>\n",
       "      <td>yes</td>\n",
       "      <td>yes</td>\n",
       "      <td>...</td>\n",
       "      <td>30.449815</td>\n",
       "      <td>63</td>\n",
       "      <td>6</td>\n",
       "      <td>7</td>\n",
       "      <td>argentina</td>\n",
       "      <td>south_america</td>\n",
       "      <td>southern_hemisphere</td>\n",
       "      <td>1</td>\n",
       "      <td>129</td>\n",
       "      <td>90</td>\n",
       "    </tr>\n",
       "    <tr>\n",
       "      <th>1</th>\n",
       "      <td>nma3851</td>\n",
       "      <td>56</td>\n",
       "      <td>female</td>\n",
       "      <td>262</td>\n",
       "      <td>159/105</td>\n",
       "      <td>46</td>\n",
       "      <td>no</td>\n",
       "      <td>no</td>\n",
       "      <td>yes</td>\n",
       "      <td>no</td>\n",
       "      <td>...</td>\n",
       "      <td>34.973685</td>\n",
       "      <td>333</td>\n",
       "      <td>7</td>\n",
       "      <td>8</td>\n",
       "      <td>nigeria</td>\n",
       "      <td>africa</td>\n",
       "      <td>northern_hemisphere</td>\n",
       "      <td>1</td>\n",
       "      <td>159</td>\n",
       "      <td>105</td>\n",
       "    </tr>\n",
       "  </tbody>\n",
       "</table>\n",
       "<p>2 rows × 28 columns</p>\n",
       "</div>"
      ],
      "text/plain": [
       "  patient_id  age     sex  cholesterol blood_pressure  heart_rate diabetes  \\\n",
       "0    rdg0550   33    male          200         129/90          48      yes   \n",
       "1    nma3851   56  female          262        159/105          46       no   \n",
       "\n",
       "  family_history smoking obesity  ...        bmi  triglycerides  \\\n",
       "0            yes     yes     yes  ...  30.449815             63   \n",
       "1             no     yes      no  ...  34.973685            333   \n",
       "\n",
       "  physical_activity_days_per_week sleep_hours_per_day    country  \\\n",
       "0                               6                   7  argentina   \n",
       "1                               7                   8    nigeria   \n",
       "\n",
       "       continent           hemisphere  heart_attack_risk  systolic_bp  \\\n",
       "0  south_america  southern_hemisphere                  1          129   \n",
       "1         africa  northern_hemisphere                  1          159   \n",
       "\n",
       "   diastolic_bp  \n",
       "0            90  \n",
       "1           105  \n",
       "\n",
       "[2 rows x 28 columns]"
      ]
     },
     "execution_count": 26,
     "metadata": {},
     "output_type": "execute_result"
    }
   ],
   "source": [
    "df.head(2)"
   ]
  },
  {
   "cell_type": "code",
   "execution_count": 27,
   "id": "e5835596-a697-41d5-a1b1-5e0aa57d96ea",
   "metadata": {},
   "outputs": [],
   "source": [
    "df.drop(columns = 'blood_pressure', inplace=True)"
   ]
  },
  {
   "cell_type": "code",
   "execution_count": 28,
   "id": "69f36ec8-973c-4c85-be5d-ef336cf771e7",
   "metadata": {},
   "outputs": [
    {
     "name": "stdout",
     "output_type": "stream",
     "text": [
      "<class 'pandas.core.frame.DataFrame'>\n",
      "RangeIndex: 7010 entries, 0 to 7009\n",
      "Data columns (total 27 columns):\n",
      " #   Column                           Non-Null Count  Dtype  \n",
      "---  ------                           --------------  -----  \n",
      " 0   patient_id                       7010 non-null   object \n",
      " 1   age                              7010 non-null   int64  \n",
      " 2   sex                              7010 non-null   object \n",
      " 3   cholesterol                      7010 non-null   int64  \n",
      " 4   heart_rate                       7010 non-null   int64  \n",
      " 5   diabetes                         7010 non-null   object \n",
      " 6   family_history                   7010 non-null   object \n",
      " 7   smoking                          7010 non-null   object \n",
      " 8   obesity                          7010 non-null   object \n",
      " 9   alcohol_consumption              7010 non-null   object \n",
      " 10  exercise_hours_per_week          7010 non-null   float64\n",
      " 11  diet                             7010 non-null   object \n",
      " 12  previous_heart_problems          7010 non-null   object \n",
      " 13  medication_use                   7010 non-null   object \n",
      " 14  stress_level                     7010 non-null   int64  \n",
      " 15  sedentary_hours_per_day          7010 non-null   float64\n",
      " 16  income                           7010 non-null   int64  \n",
      " 17  bmi                              7010 non-null   float64\n",
      " 18  triglycerides                    7010 non-null   int64  \n",
      " 19  physical_activity_days_per_week  7010 non-null   int64  \n",
      " 20  sleep_hours_per_day              7010 non-null   int64  \n",
      " 21  country                          7010 non-null   object \n",
      " 22  continent                        7010 non-null   object \n",
      " 23  hemisphere                       7010 non-null   object \n",
      " 24  heart_attack_risk                7010 non-null   int64  \n",
      " 25  systolic_bp                      7010 non-null   int64  \n",
      " 26  diastolic_bp                     7010 non-null   int64  \n",
      "dtypes: float64(3), int64(11), object(13)\n",
      "memory usage: 1.4+ MB\n"
     ]
    }
   ],
   "source": [
    "df.info()"
   ]
  },
  {
   "cell_type": "markdown",
   "id": "13474b31-92a5-4b58-b749-0827c238fabd",
   "metadata": {},
   "source": [
    "We can get a fairly good idea about `continent` and `hemisphere` from `country`. So we can drop the two features. Also, we can drop `patient_id`."
   ]
  },
  {
   "cell_type": "code",
   "execution_count": 29,
   "id": "696e62f2-7792-4a3c-ac12-fd9cc10655d6",
   "metadata": {},
   "outputs": [],
   "source": [
    "df.drop(columns = ['continent', 'hemisphere', 'patient_id'], inplace=True)"
   ]
  },
  {
   "cell_type": "markdown",
   "id": "1fbcd9a7-d02f-4e63-8b43-726fcf355a16",
   "metadata": {},
   "source": [
    "We can also rename `sex` to `gender`"
   ]
  },
  {
   "cell_type": "code",
   "execution_count": 30,
   "id": "652a15f3-92a9-4463-bd59-888615e14438",
   "metadata": {},
   "outputs": [],
   "source": [
    "df.rename(columns = {'sex': 'gender'}, inplace=True)"
   ]
  },
  {
   "cell_type": "code",
   "execution_count": 31,
   "id": "f0ccc395-1dd4-4e40-ad23-67801e33975e",
   "metadata": {},
   "outputs": [],
   "source": [
    "categorical = [x for x in df.columns if df[x].dtype == 'O']\n",
    "numerical = [x for x in df.columns if x not in categorical]\n",
    "\n",
    "assert len(categorical) + len(numerical) == len(df.columns)"
   ]
  },
  {
   "cell_type": "markdown",
   "id": "c20113f0-c1a4-4717-a235-2eb254f9157f",
   "metadata": {},
   "source": [
    "## Setting up Validation Framework"
   ]
  },
  {
   "cell_type": "code",
   "execution_count": 32,
   "id": "ec8d91f0-190c-478c-8a7c-4868811803c3",
   "metadata": {},
   "outputs": [],
   "source": [
    "df_full_train, df_test = train_test_split(df, test_size=0.2, random_state=12)\n",
    "df_train, df_val = train_test_split(df_full_train, test_size=0.25, random_state=12)"
   ]
  },
  {
   "cell_type": "code",
   "execution_count": 33,
   "id": "bc3ba019-db6b-4f3d-9821-542a68948719",
   "metadata": {},
   "outputs": [],
   "source": [
    "df_train = df_train.reset_index(drop=True)\n",
    "df_val = df_val.reset_index(drop=True)\n",
    "df_test = df_test.reset_index(drop=True)"
   ]
  },
  {
   "cell_type": "code",
   "execution_count": 34,
   "id": "8c2c6692-8514-4d6d-b1c8-6ad0dd1688cc",
   "metadata": {},
   "outputs": [],
   "source": [
    "y_train = df_train.heart_attack_risk.values\n",
    "y_val = df_val.heart_attack_risk.values\n",
    "y_test = df_test.heart_attack_risk.values"
   ]
  },
  {
   "cell_type": "code",
   "execution_count": 35,
   "id": "21c69b42-0df0-4a76-bfe7-fa42f841fafb",
   "metadata": {},
   "outputs": [],
   "source": [
    "del df_train['heart_attack_risk']\n",
    "del df_val['heart_attack_risk']\n",
    "del df_test['heart_attack_risk']"
   ]
  },
  {
   "cell_type": "code",
   "execution_count": 36,
   "id": "43abf276-4cf8-4976-991b-f1140298f8c0",
   "metadata": {},
   "outputs": [
    {
     "data": {
      "text/plain": [
       "(4206, 1402, 1402)"
      ]
     },
     "execution_count": 36,
     "metadata": {},
     "output_type": "execute_result"
    }
   ],
   "source": [
    "len(df_train), len(df_val), len(df_test)"
   ]
  },
  {
   "cell_type": "code",
   "execution_count": 37,
   "id": "bdfd2c72-55b2-4f1f-8f71-6f8797015023",
   "metadata": {},
   "outputs": [
    {
     "data": {
      "text/plain": [
       "(4206, 1402, 1402)"
      ]
     },
     "execution_count": 37,
     "metadata": {},
     "output_type": "execute_result"
    }
   ],
   "source": [
    "len(y_train), len(y_val), len(y_test)"
   ]
  },
  {
   "cell_type": "markdown",
   "id": "811d3dbf-130d-4112-a7d1-22dc383036b1",
   "metadata": {},
   "source": [
    "## Exploratory Data Analysis\n",
    "\n",
    "- Mising Values\n",
    "- Distribution of Target Variable\n",
    "- Feature Importance - Mutual Inforamtion\n",
    "- Feature Importance - Correlation"
   ]
  },
  {
   "cell_type": "code",
   "execution_count": 38,
   "id": "05ab0554-16f9-4dc9-abf6-08c33afe5c82",
   "metadata": {},
   "outputs": [],
   "source": [
    "df_full_train = df_full_train.reset_index(drop=True)"
   ]
  },
  {
   "cell_type": "code",
   "execution_count": 39,
   "id": "0ed64121-078f-4aaa-a907-116c6dff936c",
   "metadata": {},
   "outputs": [
    {
     "data": {
      "text/plain": [
       "age                                0\n",
       "gender                             0\n",
       "cholesterol                        0\n",
       "heart_rate                         0\n",
       "diabetes                           0\n",
       "family_history                     0\n",
       "smoking                            0\n",
       "obesity                            0\n",
       "alcohol_consumption                0\n",
       "exercise_hours_per_week            0\n",
       "diet                               0\n",
       "previous_heart_problems            0\n",
       "medication_use                     0\n",
       "stress_level                       0\n",
       "sedentary_hours_per_day            0\n",
       "income                             0\n",
       "bmi                                0\n",
       "triglycerides                      0\n",
       "physical_activity_days_per_week    0\n",
       "sleep_hours_per_day                0\n",
       "country                            0\n",
       "heart_attack_risk                  0\n",
       "systolic_bp                        0\n",
       "diastolic_bp                       0\n",
       "dtype: int64"
      ]
     },
     "execution_count": 39,
     "metadata": {},
     "output_type": "execute_result"
    }
   ],
   "source": [
    "df_full_train.isnull().sum()"
   ]
  },
  {
   "cell_type": "code",
   "execution_count": 40,
   "id": "1f6bad7b-7d2f-4627-a843-cf48c6c1384f",
   "metadata": {},
   "outputs": [
    {
     "data": {
      "text/plain": [
       "heart_attack_risk\n",
       "0    0.643723\n",
       "1    0.356277\n",
       "Name: proportion, dtype: float64"
      ]
     },
     "execution_count": 40,
     "metadata": {},
     "output_type": "execute_result"
    }
   ],
   "source": [
    "df_full_train.heart_attack_risk.value_counts(normalize=True)"
   ]
  },
  {
   "cell_type": "markdown",
   "id": "59c460a7-c81e-45a3-9887-a7182e1e7042",
   "metadata": {},
   "source": [
    "We can calculate the global heart attack risk rate. `Global` here refers to the entire dataset."
   ]
  },
  {
   "cell_type": "code",
   "execution_count": 41,
   "id": "6fa81a58-9e31-4602-a8c2-c688007da513",
   "metadata": {},
   "outputs": [
    {
     "data": {
      "text/plain": [
       "0.3563"
      ]
     },
     "execution_count": 41,
     "metadata": {},
     "output_type": "execute_result"
    }
   ],
   "source": [
    "global_heart_attack_risk_rate = df_full_train.heart_attack_risk.mean()\n",
    "round(global_heart_attack_risk_rate, 4)"
   ]
  },
  {
   "cell_type": "code",
   "execution_count": 42,
   "id": "a9b27c00-37ec-4de0-b962-f269f8610b48",
   "metadata": {},
   "outputs": [
    {
     "data": {
      "text/plain": [
       "['age',\n",
       " 'cholesterol',\n",
       " 'heart_rate',\n",
       " 'exercise_hours_per_week',\n",
       " 'stress_level',\n",
       " 'sedentary_hours_per_day',\n",
       " 'income',\n",
       " 'bmi',\n",
       " 'triglycerides',\n",
       " 'physical_activity_days_per_week',\n",
       " 'sleep_hours_per_day',\n",
       " 'systolic_bp',\n",
       " 'diastolic_bp']"
      ]
     },
     "execution_count": 42,
     "metadata": {},
     "output_type": "execute_result"
    }
   ],
   "source": [
    "numerical.remove('heart_attack_risk')\n",
    "numerical"
   ]
  },
  {
   "cell_type": "markdown",
   "id": "7b481222-07bd-48a2-a88f-4f97b77f88c6",
   "metadata": {},
   "source": [
    "### Feature Importance - Risk and Rate"
   ]
  },
  {
   "cell_type": "markdown",
   "id": "c9c6170c-02d0-4eb0-9036-d3afef23a831",
   "metadata": {},
   "source": [
    "We can check the risk among individual groups now and see how groups influence the risk rate."
   ]
  },
  {
   "cell_type": "code",
   "execution_count": 43,
   "id": "6a973ec2-f288-47a0-bd91-011ba52108ba",
   "metadata": {},
   "outputs": [
    {
     "data": {
      "text/plain": [
       "gender                      2\n",
       "diabetes                    2\n",
       "family_history              2\n",
       "smoking                     2\n",
       "obesity                     2\n",
       "alcohol_consumption         2\n",
       "diet                        3\n",
       "previous_heart_problems     2\n",
       "medication_use              2\n",
       "country                    20\n",
       "dtype: int64"
      ]
     },
     "execution_count": 43,
     "metadata": {},
     "output_type": "execute_result"
    }
   ],
   "source": [
    "df_full_train[categorical].nunique()"
   ]
  },
  {
   "cell_type": "code",
   "execution_count": 44,
   "id": "6e964b33-bf22-4484-b08d-17f31e1812d7",
   "metadata": {},
   "outputs": [],
   "source": [
    "from IPython.display import display"
   ]
  },
  {
   "cell_type": "code",
   "execution_count": 45,
   "id": "02e86ac5-977e-4259-8eb3-3f164bab8889",
   "metadata": {},
   "outputs": [
    {
     "name": "stdout",
     "output_type": "stream",
     "text": [
      "gender\n"
     ]
    },
    {
     "data": {
      "text/html": [
       "<div>\n",
       "<style scoped>\n",
       "    .dataframe tbody tr th:only-of-type {\n",
       "        vertical-align: middle;\n",
       "    }\n",
       "\n",
       "    .dataframe tbody tr th {\n",
       "        vertical-align: top;\n",
       "    }\n",
       "\n",
       "    .dataframe thead th {\n",
       "        text-align: right;\n",
       "    }\n",
       "</style>\n",
       "<table border=\"1\" class=\"dataframe\">\n",
       "  <thead>\n",
       "    <tr style=\"text-align: right;\">\n",
       "      <th></th>\n",
       "      <th>mean</th>\n",
       "      <th>count</th>\n",
       "      <th>diff</th>\n",
       "      <th>risk</th>\n",
       "    </tr>\n",
       "    <tr>\n",
       "      <th>gender</th>\n",
       "      <th></th>\n",
       "      <th></th>\n",
       "      <th></th>\n",
       "      <th></th>\n",
       "    </tr>\n",
       "  </thead>\n",
       "  <tbody>\n",
       "    <tr>\n",
       "      <th>female</th>\n",
       "      <td>0.356246</td>\n",
       "      <td>1673</td>\n",
       "      <td>-0.000030</td>\n",
       "      <td>0.999914</td>\n",
       "    </tr>\n",
       "    <tr>\n",
       "      <th>male</th>\n",
       "      <td>0.356290</td>\n",
       "      <td>3935</td>\n",
       "      <td>0.000013</td>\n",
       "      <td>1.000036</td>\n",
       "    </tr>\n",
       "  </tbody>\n",
       "</table>\n",
       "</div>"
      ],
      "text/plain": [
       "            mean  count      diff      risk\n",
       "gender                                     \n",
       "female  0.356246   1673 -0.000030  0.999914\n",
       "male    0.356290   3935  0.000013  1.000036"
      ]
     },
     "metadata": {},
     "output_type": "display_data"
    },
    {
     "name": "stdout",
     "output_type": "stream",
     "text": [
      "\n",
      "diabetes\n"
     ]
    },
    {
     "data": {
      "text/html": [
       "<div>\n",
       "<style scoped>\n",
       "    .dataframe tbody tr th:only-of-type {\n",
       "        vertical-align: middle;\n",
       "    }\n",
       "\n",
       "    .dataframe tbody tr th {\n",
       "        vertical-align: top;\n",
       "    }\n",
       "\n",
       "    .dataframe thead th {\n",
       "        text-align: right;\n",
       "    }\n",
       "</style>\n",
       "<table border=\"1\" class=\"dataframe\">\n",
       "  <thead>\n",
       "    <tr style=\"text-align: right;\">\n",
       "      <th></th>\n",
       "      <th>mean</th>\n",
       "      <th>count</th>\n",
       "      <th>diff</th>\n",
       "      <th>risk</th>\n",
       "    </tr>\n",
       "    <tr>\n",
       "      <th>diabetes</th>\n",
       "      <th></th>\n",
       "      <th></th>\n",
       "      <th></th>\n",
       "      <th></th>\n",
       "    </tr>\n",
       "  </thead>\n",
       "  <tbody>\n",
       "    <tr>\n",
       "      <th>no</th>\n",
       "      <td>0.365574</td>\n",
       "      <td>3660</td>\n",
       "      <td>0.009297</td>\n",
       "      <td>1.026095</td>\n",
       "    </tr>\n",
       "    <tr>\n",
       "      <th>yes</th>\n",
       "      <td>0.338809</td>\n",
       "      <td>1948</td>\n",
       "      <td>-0.017468</td>\n",
       "      <td>0.950972</td>\n",
       "    </tr>\n",
       "  </tbody>\n",
       "</table>\n",
       "</div>"
      ],
      "text/plain": [
       "              mean  count      diff      risk\n",
       "diabetes                                     \n",
       "no        0.365574   3660  0.009297  1.026095\n",
       "yes       0.338809   1948 -0.017468  0.950972"
      ]
     },
     "metadata": {},
     "output_type": "display_data"
    },
    {
     "name": "stdout",
     "output_type": "stream",
     "text": [
      "\n",
      "family_history\n"
     ]
    },
    {
     "data": {
      "text/html": [
       "<div>\n",
       "<style scoped>\n",
       "    .dataframe tbody tr th:only-of-type {\n",
       "        vertical-align: middle;\n",
       "    }\n",
       "\n",
       "    .dataframe tbody tr th {\n",
       "        vertical-align: top;\n",
       "    }\n",
       "\n",
       "    .dataframe thead th {\n",
       "        text-align: right;\n",
       "    }\n",
       "</style>\n",
       "<table border=\"1\" class=\"dataframe\">\n",
       "  <thead>\n",
       "    <tr style=\"text-align: right;\">\n",
       "      <th></th>\n",
       "      <th>mean</th>\n",
       "      <th>count</th>\n",
       "      <th>diff</th>\n",
       "      <th>risk</th>\n",
       "    </tr>\n",
       "    <tr>\n",
       "      <th>family_history</th>\n",
       "      <th></th>\n",
       "      <th></th>\n",
       "      <th></th>\n",
       "      <th></th>\n",
       "    </tr>\n",
       "  </thead>\n",
       "  <tbody>\n",
       "    <tr>\n",
       "      <th>no</th>\n",
       "      <td>0.360169</td>\n",
       "      <td>2832</td>\n",
       "      <td>0.003893</td>\n",
       "      <td>1.010926</td>\n",
       "    </tr>\n",
       "    <tr>\n",
       "      <th>yes</th>\n",
       "      <td>0.352305</td>\n",
       "      <td>2776</td>\n",
       "      <td>-0.003971</td>\n",
       "      <td>0.988853</td>\n",
       "    </tr>\n",
       "  </tbody>\n",
       "</table>\n",
       "</div>"
      ],
      "text/plain": [
       "                    mean  count      diff      risk\n",
       "family_history                                     \n",
       "no              0.360169   2832  0.003893  1.010926\n",
       "yes             0.352305   2776 -0.003971  0.988853"
      ]
     },
     "metadata": {},
     "output_type": "display_data"
    },
    {
     "name": "stdout",
     "output_type": "stream",
     "text": [
      "\n",
      "smoking\n"
     ]
    },
    {
     "data": {
      "text/html": [
       "<div>\n",
       "<style scoped>\n",
       "    .dataframe tbody tr th:only-of-type {\n",
       "        vertical-align: middle;\n",
       "    }\n",
       "\n",
       "    .dataframe tbody tr th {\n",
       "        vertical-align: top;\n",
       "    }\n",
       "\n",
       "    .dataframe thead th {\n",
       "        text-align: right;\n",
       "    }\n",
       "</style>\n",
       "<table border=\"1\" class=\"dataframe\">\n",
       "  <thead>\n",
       "    <tr style=\"text-align: right;\">\n",
       "      <th></th>\n",
       "      <th>mean</th>\n",
       "      <th>count</th>\n",
       "      <th>diff</th>\n",
       "      <th>risk</th>\n",
       "    </tr>\n",
       "    <tr>\n",
       "      <th>smoking</th>\n",
       "      <th></th>\n",
       "      <th></th>\n",
       "      <th></th>\n",
       "      <th></th>\n",
       "    </tr>\n",
       "  </thead>\n",
       "  <tbody>\n",
       "    <tr>\n",
       "      <th>no</th>\n",
       "      <td>0.368696</td>\n",
       "      <td>575</td>\n",
       "      <td>0.012419</td>\n",
       "      <td>1.034857</td>\n",
       "    </tr>\n",
       "    <tr>\n",
       "      <th>yes</th>\n",
       "      <td>0.354858</td>\n",
       "      <td>5033</td>\n",
       "      <td>-0.001419</td>\n",
       "      <td>0.996018</td>\n",
       "    </tr>\n",
       "  </tbody>\n",
       "</table>\n",
       "</div>"
      ],
      "text/plain": [
       "             mean  count      diff      risk\n",
       "smoking                                     \n",
       "no       0.368696    575  0.012419  1.034857\n",
       "yes      0.354858   5033 -0.001419  0.996018"
      ]
     },
     "metadata": {},
     "output_type": "display_data"
    },
    {
     "name": "stdout",
     "output_type": "stream",
     "text": [
      "\n",
      "obesity\n"
     ]
    },
    {
     "data": {
      "text/html": [
       "<div>\n",
       "<style scoped>\n",
       "    .dataframe tbody tr th:only-of-type {\n",
       "        vertical-align: middle;\n",
       "    }\n",
       "\n",
       "    .dataframe tbody tr th {\n",
       "        vertical-align: top;\n",
       "    }\n",
       "\n",
       "    .dataframe thead th {\n",
       "        text-align: right;\n",
       "    }\n",
       "</style>\n",
       "<table border=\"1\" class=\"dataframe\">\n",
       "  <thead>\n",
       "    <tr style=\"text-align: right;\">\n",
       "      <th></th>\n",
       "      <th>mean</th>\n",
       "      <th>count</th>\n",
       "      <th>diff</th>\n",
       "      <th>risk</th>\n",
       "    </tr>\n",
       "    <tr>\n",
       "      <th>obesity</th>\n",
       "      <th></th>\n",
       "      <th></th>\n",
       "      <th></th>\n",
       "      <th></th>\n",
       "    </tr>\n",
       "  </thead>\n",
       "  <tbody>\n",
       "    <tr>\n",
       "      <th>no</th>\n",
       "      <td>0.361279</td>\n",
       "      <td>2815</td>\n",
       "      <td>0.005002</td>\n",
       "      <td>1.014040</td>\n",
       "    </tr>\n",
       "    <tr>\n",
       "      <th>yes</th>\n",
       "      <td>0.351235</td>\n",
       "      <td>2793</td>\n",
       "      <td>-0.005042</td>\n",
       "      <td>0.985849</td>\n",
       "    </tr>\n",
       "  </tbody>\n",
       "</table>\n",
       "</div>"
      ],
      "text/plain": [
       "             mean  count      diff      risk\n",
       "obesity                                     \n",
       "no       0.361279   2815  0.005002  1.014040\n",
       "yes      0.351235   2793 -0.005042  0.985849"
      ]
     },
     "metadata": {},
     "output_type": "display_data"
    },
    {
     "name": "stdout",
     "output_type": "stream",
     "text": [
      "\n",
      "alcohol_consumption\n"
     ]
    },
    {
     "data": {
      "text/html": [
       "<div>\n",
       "<style scoped>\n",
       "    .dataframe tbody tr th:only-of-type {\n",
       "        vertical-align: middle;\n",
       "    }\n",
       "\n",
       "    .dataframe tbody tr th {\n",
       "        vertical-align: top;\n",
       "    }\n",
       "\n",
       "    .dataframe thead th {\n",
       "        text-align: right;\n",
       "    }\n",
       "</style>\n",
       "<table border=\"1\" class=\"dataframe\">\n",
       "  <thead>\n",
       "    <tr style=\"text-align: right;\">\n",
       "      <th></th>\n",
       "      <th>mean</th>\n",
       "      <th>count</th>\n",
       "      <th>diff</th>\n",
       "      <th>risk</th>\n",
       "    </tr>\n",
       "    <tr>\n",
       "      <th>alcohol_consumption</th>\n",
       "      <th></th>\n",
       "      <th></th>\n",
       "      <th></th>\n",
       "      <th></th>\n",
       "    </tr>\n",
       "  </thead>\n",
       "  <tbody>\n",
       "    <tr>\n",
       "      <th>no</th>\n",
       "      <td>0.361617</td>\n",
       "      <td>2251</td>\n",
       "      <td>0.005340</td>\n",
       "      <td>1.014989</td>\n",
       "    </tr>\n",
       "    <tr>\n",
       "      <th>yes</th>\n",
       "      <td>0.352696</td>\n",
       "      <td>3357</td>\n",
       "      <td>-0.003581</td>\n",
       "      <td>0.989949</td>\n",
       "    </tr>\n",
       "  </tbody>\n",
       "</table>\n",
       "</div>"
      ],
      "text/plain": [
       "                         mean  count      diff      risk\n",
       "alcohol_consumption                                     \n",
       "no                   0.361617   2251  0.005340  1.014989\n",
       "yes                  0.352696   3357 -0.003581  0.989949"
      ]
     },
     "metadata": {},
     "output_type": "display_data"
    },
    {
     "name": "stdout",
     "output_type": "stream",
     "text": [
      "\n",
      "diet\n"
     ]
    },
    {
     "data": {
      "text/html": [
       "<div>\n",
       "<style scoped>\n",
       "    .dataframe tbody tr th:only-of-type {\n",
       "        vertical-align: middle;\n",
       "    }\n",
       "\n",
       "    .dataframe tbody tr th {\n",
       "        vertical-align: top;\n",
       "    }\n",
       "\n",
       "    .dataframe thead th {\n",
       "        text-align: right;\n",
       "    }\n",
       "</style>\n",
       "<table border=\"1\" class=\"dataframe\">\n",
       "  <thead>\n",
       "    <tr style=\"text-align: right;\">\n",
       "      <th></th>\n",
       "      <th>mean</th>\n",
       "      <th>count</th>\n",
       "      <th>diff</th>\n",
       "      <th>risk</th>\n",
       "    </tr>\n",
       "    <tr>\n",
       "      <th>diet</th>\n",
       "      <th></th>\n",
       "      <th></th>\n",
       "      <th></th>\n",
       "      <th></th>\n",
       "    </tr>\n",
       "  </thead>\n",
       "  <tbody>\n",
       "    <tr>\n",
       "      <th>average</th>\n",
       "      <td>0.349232</td>\n",
       "      <td>1887</td>\n",
       "      <td>-0.007045</td>\n",
       "      <td>0.980226</td>\n",
       "    </tr>\n",
       "    <tr>\n",
       "      <th>healthy</th>\n",
       "      <td>0.360483</td>\n",
       "      <td>1903</td>\n",
       "      <td>0.004207</td>\n",
       "      <td>1.011807</td>\n",
       "    </tr>\n",
       "    <tr>\n",
       "      <th>unhealthy</th>\n",
       "      <td>0.359186</td>\n",
       "      <td>1818</td>\n",
       "      <td>0.002909</td>\n",
       "      <td>1.008165</td>\n",
       "    </tr>\n",
       "  </tbody>\n",
       "</table>\n",
       "</div>"
      ],
      "text/plain": [
       "               mean  count      diff      risk\n",
       "diet                                          \n",
       "average    0.349232   1887 -0.007045  0.980226\n",
       "healthy    0.360483   1903  0.004207  1.011807\n",
       "unhealthy  0.359186   1818  0.002909  1.008165"
      ]
     },
     "metadata": {},
     "output_type": "display_data"
    },
    {
     "name": "stdout",
     "output_type": "stream",
     "text": [
      "\n",
      "previous_heart_problems\n"
     ]
    },
    {
     "data": {
      "text/html": [
       "<div>\n",
       "<style scoped>\n",
       "    .dataframe tbody tr th:only-of-type {\n",
       "        vertical-align: middle;\n",
       "    }\n",
       "\n",
       "    .dataframe tbody tr th {\n",
       "        vertical-align: top;\n",
       "    }\n",
       "\n",
       "    .dataframe thead th {\n",
       "        text-align: right;\n",
       "    }\n",
       "</style>\n",
       "<table border=\"1\" class=\"dataframe\">\n",
       "  <thead>\n",
       "    <tr style=\"text-align: right;\">\n",
       "      <th></th>\n",
       "      <th>mean</th>\n",
       "      <th>count</th>\n",
       "      <th>diff</th>\n",
       "      <th>risk</th>\n",
       "    </tr>\n",
       "    <tr>\n",
       "      <th>previous_heart_problems</th>\n",
       "      <th></th>\n",
       "      <th></th>\n",
       "      <th></th>\n",
       "      <th></th>\n",
       "    </tr>\n",
       "  </thead>\n",
       "  <tbody>\n",
       "    <tr>\n",
       "      <th>no</th>\n",
       "      <td>0.353191</td>\n",
       "      <td>2820</td>\n",
       "      <td>-0.003085</td>\n",
       "      <td>0.991340</td>\n",
       "    </tr>\n",
       "    <tr>\n",
       "      <th>yes</th>\n",
       "      <td>0.359397</td>\n",
       "      <td>2788</td>\n",
       "      <td>0.003121</td>\n",
       "      <td>1.008759</td>\n",
       "    </tr>\n",
       "  </tbody>\n",
       "</table>\n",
       "</div>"
      ],
      "text/plain": [
       "                             mean  count      diff      risk\n",
       "previous_heart_problems                                     \n",
       "no                       0.353191   2820 -0.003085  0.991340\n",
       "yes                      0.359397   2788  0.003121  1.008759"
      ]
     },
     "metadata": {},
     "output_type": "display_data"
    },
    {
     "name": "stdout",
     "output_type": "stream",
     "text": [
      "\n",
      "medication_use\n"
     ]
    },
    {
     "data": {
      "text/html": [
       "<div>\n",
       "<style scoped>\n",
       "    .dataframe tbody tr th:only-of-type {\n",
       "        vertical-align: middle;\n",
       "    }\n",
       "\n",
       "    .dataframe tbody tr th {\n",
       "        vertical-align: top;\n",
       "    }\n",
       "\n",
       "    .dataframe thead th {\n",
       "        text-align: right;\n",
       "    }\n",
       "</style>\n",
       "<table border=\"1\" class=\"dataframe\">\n",
       "  <thead>\n",
       "    <tr style=\"text-align: right;\">\n",
       "      <th></th>\n",
       "      <th>mean</th>\n",
       "      <th>count</th>\n",
       "      <th>diff</th>\n",
       "      <th>risk</th>\n",
       "    </tr>\n",
       "    <tr>\n",
       "      <th>medication_use</th>\n",
       "      <th></th>\n",
       "      <th></th>\n",
       "      <th></th>\n",
       "      <th></th>\n",
       "    </tr>\n",
       "  </thead>\n",
       "  <tbody>\n",
       "    <tr>\n",
       "      <th>no</th>\n",
       "      <td>0.356836</td>\n",
       "      <td>2794</td>\n",
       "      <td>0.000559</td>\n",
       "      <td>1.001570</td>\n",
       "    </tr>\n",
       "    <tr>\n",
       "      <th>yes</th>\n",
       "      <td>0.355721</td>\n",
       "      <td>2814</td>\n",
       "      <td>-0.000555</td>\n",
       "      <td>0.998441</td>\n",
       "    </tr>\n",
       "  </tbody>\n",
       "</table>\n",
       "</div>"
      ],
      "text/plain": [
       "                    mean  count      diff      risk\n",
       "medication_use                                     \n",
       "no              0.356836   2794  0.000559  1.001570\n",
       "yes             0.355721   2814 -0.000555  0.998441"
      ]
     },
     "metadata": {},
     "output_type": "display_data"
    },
    {
     "name": "stdout",
     "output_type": "stream",
     "text": [
      "\n"
     ]
    }
   ],
   "source": [
    "categories = categorical.copy()\n",
    "categories.remove('country')\n",
    "for c in categories:\n",
    "    print(c)\n",
    "    df_group = df_full_train.groupby(c).heart_attack_risk.agg(['mean', 'count'])\n",
    "    df_group['diff'] = df_group['mean'] - global_heart_attack_risk_rate\n",
    "    df_group['risk'] = df_group['mean'] / global_heart_attack_risk_rate\n",
    "    display(df_group)\n",
    "    print()"
   ]
  },
  {
   "cell_type": "markdown",
   "id": "b99a5a41-2486-4b08-9c3d-129e352375a4",
   "metadata": {},
   "source": [
    "We cannot clearly see a demarcation on which group influences the risk of heart attacks among the various categorical features."
   ]
  },
  {
   "cell_type": "markdown",
   "id": "6c29973f-0e24-4311-adc6-a0e68d4c068d",
   "metadata": {},
   "source": [
    "### Feature Importance - Mutual Information\n",
    "\n",
    "`Mutual Information` measures how much information we can gather by studying another variable."
   ]
  },
  {
   "cell_type": "code",
   "execution_count": 46,
   "id": "09326efe-3cbc-41db-9d63-893414516b11",
   "metadata": {},
   "outputs": [],
   "source": [
    "def mutual_score(series):\n",
    "    return mutual_info_score(series, df_full_train.heart_attack_risk)"
   ]
  },
  {
   "cell_type": "code",
   "execution_count": 47,
   "id": "fd5b8084-c8b3-488c-858e-2ae692dbcadc",
   "metadata": {},
   "outputs": [],
   "source": [
    "mi = df_full_train[categorical].apply(mutual_score)\n",
    "mi_sorted = mi.sort_values(ascending=False)"
   ]
  },
  {
   "cell_type": "code",
   "execution_count": 48,
   "id": "ee0031b6-62d6-4743-8bbc-f6a0096c1535",
   "metadata": {},
   "outputs": [
    {
     "data": {
      "text/plain": [
       "Index(['country', 'diabetes', 'diet', 'obesity', 'alcohol_consumption'], dtype='object')"
      ]
     },
     "execution_count": 48,
     "metadata": {},
     "output_type": "execute_result"
    }
   ],
   "source": [
    "mi_5 = mi_sorted.index[:5]\n",
    "mi_5"
   ]
  },
  {
   "cell_type": "markdown",
   "id": "ab0d2e85-0e42-4232-93fe-b691bc6bc105",
   "metadata": {},
   "source": [
    "The top 5 categorical features for providing information about `heart attack risk` are:\n",
    "`country`, `diabetes`, `diet`, `obesity` and `alcohol_consumption`"
   ]
  },
  {
   "cell_type": "markdown",
   "id": "816b98ef-bb10-41ec-a592-f62504b23b63",
   "metadata": {},
   "source": [
    "### Feature Importance - Correlation\n",
    "\n",
    "For numerical features, we can use correlation values."
   ]
  },
  {
   "cell_type": "code",
   "execution_count": 49,
   "id": "8796b71e-c805-4b2f-ba4a-5ac7cd222513",
   "metadata": {},
   "outputs": [],
   "source": [
    "corr = df_full_train[numerical].corrwith(df_full_train.heart_attack_risk).abs()\n",
    "corr_sorted = corr.sort_values(ascending=False)"
   ]
  },
  {
   "cell_type": "code",
   "execution_count": 50,
   "id": "dea64fe6-27a4-4f5c-a5ad-b3657edc86d6",
   "metadata": {},
   "outputs": [
    {
     "data": {
      "text/plain": [
       "cholesterol                        0.032426\n",
       "systolic_bp                        0.021046\n",
       "sleep_hours_per_day                0.019914\n",
       "triglycerides                      0.019216\n",
       "income                             0.014124\n",
       "age                                0.010623\n",
       "physical_activity_days_per_week    0.007483\n",
       "bmi                                0.006868\n",
       "stress_level                       0.004424\n",
       "sedentary_hours_per_day            0.004416\n",
       "exercise_hours_per_week            0.004354\n",
       "diastolic_bp                       0.003259\n",
       "heart_rate                         0.000885\n",
       "dtype: float64"
      ]
     },
     "execution_count": 50,
     "metadata": {},
     "output_type": "execute_result"
    }
   ],
   "source": [
    "corr_sorted"
   ]
  },
  {
   "cell_type": "code",
   "execution_count": 51,
   "id": "72b22707-5e76-4bd7-8309-388fcb5ac0d7",
   "metadata": {},
   "outputs": [
    {
     "data": {
      "text/plain": [
       "Index(['cholesterol', 'systolic_bp', 'sleep_hours_per_day', 'triglycerides',\n",
       "       'income'],\n",
       "      dtype='object')"
      ]
     },
     "execution_count": 51,
     "metadata": {},
     "output_type": "execute_result"
    }
   ],
   "source": [
    "corr_5 = corr_sorted.index[:5]\n",
    "corr_5"
   ]
  },
  {
   "cell_type": "markdown",
   "id": "c7b17818-750e-4f5b-82a8-11a169651c0f",
   "metadata": {},
   "source": [
    "The top 5 numerical features for providing information about `heart attack risk` are:\n",
    "`cholesterol`, `systolic_bp`, `sleep_hours_per_day`, `triglycerides` and `income`"
   ]
  },
  {
   "cell_type": "markdown",
   "id": "2642d6c6-809a-4962-9f26-5b7456572053",
   "metadata": {},
   "source": [
    "## Encoding Variables"
   ]
  },
  {
   "cell_type": "code",
   "execution_count": 52,
   "id": "7736f85d-bf66-460d-8ae2-5d0cef341e81",
   "metadata": {},
   "outputs": [],
   "source": [
    "dv = DictVectorizer(sparse=False)"
   ]
  },
  {
   "cell_type": "code",
   "execution_count": 53,
   "id": "ad8873aa-9f0c-45b8-9f0f-81640afe725a",
   "metadata": {},
   "outputs": [],
   "source": [
    "features_top_10 = list(corr_5) + list(mi_5)"
   ]
  },
  {
   "cell_type": "code",
   "execution_count": 54,
   "id": "2a2292c0-0cb9-4a39-9d3c-1c3df3218810",
   "metadata": {},
   "outputs": [],
   "source": [
    "# Training with Top 5 features of Categorical and Numerical\n",
    "\n",
    "train_dicts_10 = df_train[features_top_10].to_dict(orient='records')\n",
    "X_train_10 = dv.fit_transform(train_dicts_10)\n",
    "\n",
    "val_dicts_10 = df_val[features_top_10].to_dict(orient='records')\n",
    "X_val_10 = dv.transform(val_dicts_10)"
   ]
  },
  {
   "cell_type": "code",
   "execution_count": 55,
   "id": "1a82079a-ad7e-40d1-a57a-b46fdfb8ee98",
   "metadata": {},
   "outputs": [],
   "source": [
    "# Training all the features\n",
    "\n",
    "train_dicts = df_train[categorical +numerical].to_dict(orient='records')\n",
    "X_train = dv.fit_transform(train_dicts)\n",
    "\n",
    "val_dicts = df_val[categorical + numerical].to_dict(orient='records')\n",
    "X_val = dv.transform(val_dicts)"
   ]
  },
  {
   "cell_type": "markdown",
   "id": "5c8e719a-cc09-45d5-a3fe-df58af28ff86",
   "metadata": {},
   "source": [
    "## Logistic Regression"
   ]
  },
  {
   "cell_type": "code",
   "execution_count": 56,
   "id": "eec01133-5f98-4892-849c-68087e07fdbf",
   "metadata": {},
   "outputs": [],
   "source": [
    "score = {}"
   ]
  },
  {
   "cell_type": "code",
   "execution_count": 57,
   "id": "b02db85f-b866-48a7-8966-a14934ab1624",
   "metadata": {},
   "outputs": [],
   "source": [
    "lr = LogisticRegression()"
   ]
  },
  {
   "cell_type": "code",
   "execution_count": 58,
   "id": "aeffeef5-d613-4909-acb2-d731dd801e1a",
   "metadata": {},
   "outputs": [
    {
     "data": {
      "text/html": [
       "<style>#sk-container-id-1 {color: black;}#sk-container-id-1 pre{padding: 0;}#sk-container-id-1 div.sk-toggleable {background-color: white;}#sk-container-id-1 label.sk-toggleable__label {cursor: pointer;display: block;width: 100%;margin-bottom: 0;padding: 0.3em;box-sizing: border-box;text-align: center;}#sk-container-id-1 label.sk-toggleable__label-arrow:before {content: \"▸\";float: left;margin-right: 0.25em;color: #696969;}#sk-container-id-1 label.sk-toggleable__label-arrow:hover:before {color: black;}#sk-container-id-1 div.sk-estimator:hover label.sk-toggleable__label-arrow:before {color: black;}#sk-container-id-1 div.sk-toggleable__content {max-height: 0;max-width: 0;overflow: hidden;text-align: left;background-color: #f0f8ff;}#sk-container-id-1 div.sk-toggleable__content pre {margin: 0.2em;color: black;border-radius: 0.25em;background-color: #f0f8ff;}#sk-container-id-1 input.sk-toggleable__control:checked~div.sk-toggleable__content {max-height: 200px;max-width: 100%;overflow: auto;}#sk-container-id-1 input.sk-toggleable__control:checked~label.sk-toggleable__label-arrow:before {content: \"▾\";}#sk-container-id-1 div.sk-estimator input.sk-toggleable__control:checked~label.sk-toggleable__label {background-color: #d4ebff;}#sk-container-id-1 div.sk-label input.sk-toggleable__control:checked~label.sk-toggleable__label {background-color: #d4ebff;}#sk-container-id-1 input.sk-hidden--visually {border: 0;clip: rect(1px 1px 1px 1px);clip: rect(1px, 1px, 1px, 1px);height: 1px;margin: -1px;overflow: hidden;padding: 0;position: absolute;width: 1px;}#sk-container-id-1 div.sk-estimator {font-family: monospace;background-color: #f0f8ff;border: 1px dotted black;border-radius: 0.25em;box-sizing: border-box;margin-bottom: 0.5em;}#sk-container-id-1 div.sk-estimator:hover {background-color: #d4ebff;}#sk-container-id-1 div.sk-parallel-item::after {content: \"\";width: 100%;border-bottom: 1px solid gray;flex-grow: 1;}#sk-container-id-1 div.sk-label:hover label.sk-toggleable__label {background-color: #d4ebff;}#sk-container-id-1 div.sk-serial::before {content: \"\";position: absolute;border-left: 1px solid gray;box-sizing: border-box;top: 0;bottom: 0;left: 50%;z-index: 0;}#sk-container-id-1 div.sk-serial {display: flex;flex-direction: column;align-items: center;background-color: white;padding-right: 0.2em;padding-left: 0.2em;position: relative;}#sk-container-id-1 div.sk-item {position: relative;z-index: 1;}#sk-container-id-1 div.sk-parallel {display: flex;align-items: stretch;justify-content: center;background-color: white;position: relative;}#sk-container-id-1 div.sk-item::before, #sk-container-id-1 div.sk-parallel-item::before {content: \"\";position: absolute;border-left: 1px solid gray;box-sizing: border-box;top: 0;bottom: 0;left: 50%;z-index: -1;}#sk-container-id-1 div.sk-parallel-item {display: flex;flex-direction: column;z-index: 1;position: relative;background-color: white;}#sk-container-id-1 div.sk-parallel-item:first-child::after {align-self: flex-end;width: 50%;}#sk-container-id-1 div.sk-parallel-item:last-child::after {align-self: flex-start;width: 50%;}#sk-container-id-1 div.sk-parallel-item:only-child::after {width: 0;}#sk-container-id-1 div.sk-dashed-wrapped {border: 1px dashed gray;margin: 0 0.4em 0.5em 0.4em;box-sizing: border-box;padding-bottom: 0.4em;background-color: white;}#sk-container-id-1 div.sk-label label {font-family: monospace;font-weight: bold;display: inline-block;line-height: 1.2em;}#sk-container-id-1 div.sk-label-container {text-align: center;}#sk-container-id-1 div.sk-container {/* jupyter's `normalize.less` sets `[hidden] { display: none; }` but bootstrap.min.css set `[hidden] { display: none !important; }` so we also need the `!important` here to be able to override the default hidden behavior on the sphinx rendered scikit-learn.org. See: https://github.com/scikit-learn/scikit-learn/issues/21755 */display: inline-block !important;position: relative;}#sk-container-id-1 div.sk-text-repr-fallback {display: none;}</style><div id=\"sk-container-id-1\" class=\"sk-top-container\"><div class=\"sk-text-repr-fallback\"><pre>LogisticRegression()</pre><b>In a Jupyter environment, please rerun this cell to show the HTML representation or trust the notebook. <br />On GitHub, the HTML representation is unable to render, please try loading this page with nbviewer.org.</b></div><div class=\"sk-container\" hidden><div class=\"sk-item\"><div class=\"sk-estimator sk-toggleable\"><input class=\"sk-toggleable__control sk-hidden--visually\" id=\"sk-estimator-id-1\" type=\"checkbox\" checked><label for=\"sk-estimator-id-1\" class=\"sk-toggleable__label sk-toggleable__label-arrow\">LogisticRegression</label><div class=\"sk-toggleable__content\"><pre>LogisticRegression()</pre></div></div></div></div></div>"
      ],
      "text/plain": [
       "LogisticRegression()"
      ]
     },
     "execution_count": 58,
     "metadata": {},
     "output_type": "execute_result"
    }
   ],
   "source": [
    "lr.fit(X_train_10, y_train)"
   ]
  },
  {
   "cell_type": "code",
   "execution_count": 59,
   "id": "3853cdda-69ff-48ac-98fd-e30a9204d9db",
   "metadata": {},
   "outputs": [],
   "source": [
    "y_pred = lr.predict_proba(X_val_10)[:, 1]"
   ]
  },
  {
   "cell_type": "code",
   "execution_count": 60,
   "id": "e70289c0-db6b-4dec-bf80-60c2fb5ef386",
   "metadata": {},
   "outputs": [
    {
     "data": {
      "text/plain": [
       "0.46926453707357313"
      ]
     },
     "execution_count": 60,
     "metadata": {},
     "output_type": "execute_result"
    }
   ],
   "source": [
    "score['log_reg_10'] = roc_auc_score(y_val, y_pred)\n",
    "score['log_reg_10']"
   ]
  },
  {
   "cell_type": "code",
   "execution_count": 61,
   "id": "38cf4769-913a-4a5d-8eac-22cd2378b3c5",
   "metadata": {},
   "outputs": [],
   "source": [
    "lr.fit(X_train, y_train)\n",
    "y_pred = lr.predict_proba(X_val)[:, 1]"
   ]
  },
  {
   "cell_type": "code",
   "execution_count": 62,
   "id": "0e9f1a69-0342-467e-906d-45cc557b158a",
   "metadata": {},
   "outputs": [
    {
     "data": {
      "text/plain": [
       "0.48578128923485303"
      ]
     },
     "execution_count": 62,
     "metadata": {},
     "output_type": "execute_result"
    }
   ],
   "source": [
    "score['log_reg'] = roc_auc_score(y_val, y_pred)\n",
    "score['log_reg']"
   ]
  },
  {
   "cell_type": "markdown",
   "id": "fd42d431-424c-4cf1-9421-b3344c6b3e35",
   "metadata": {},
   "source": [
    "The model with full set of features does around 2% better than only selected features"
   ]
  },
  {
   "cell_type": "markdown",
   "id": "d6927438-c76a-4b53-bd40-cf26f12e6948",
   "metadata": {},
   "source": [
    "### Tuning Logistic Regression Model"
   ]
  },
  {
   "cell_type": "markdown",
   "id": "e93081c4-8750-405e-8b33-136634836b97",
   "metadata": {},
   "source": [
    "- Solvers"
   ]
  },
  {
   "cell_type": "code",
   "execution_count": 63,
   "id": "c616cdb0-b325-4d24-877f-c33291dfb05f",
   "metadata": {},
   "outputs": [],
   "source": [
    "solvers = ['liblinear', 'newton-cg', 'newton-cholesky', 'sag', 'saga', 'lbfgs']"
   ]
  },
  {
   "cell_type": "code",
   "execution_count": 64,
   "id": "921c271e-7d2d-447f-ab87-808d64180ebb",
   "metadata": {},
   "outputs": [
    {
     "name": "stdout",
     "output_type": "stream",
     "text": [
      "solver: liblinear --> auc: 0.4840594396814578\n",
      "solver: newton-cg --> auc: 0.5026545180614843\n",
      "solver: newton-cholesky --> auc: 0.5028159414571152\n",
      "solver: sag --> auc: 0.47053574631416584\n",
      "solver: saga --> auc: 0.4710872762492377\n",
      "solver: lbfgs --> auc: 0.48578128923485303\n"
     ]
    }
   ],
   "source": [
    "for s in solvers:\n",
    "    lr = LogisticRegression(solver=s, max_iter=10000)\n",
    "    lr.fit(X_train, y_train)\n",
    "    y_pred = lr.predict_proba(X_val)[:, 1]\n",
    "    auc = roc_auc_score(y_val, y_pred)\n",
    "    print(f'solver: {s} --> auc: {auc}')\n",
    "    if auc > score['log_reg']:\n",
    "        score['log_reg'] = auc    "
   ]
  },
  {
   "cell_type": "markdown",
   "id": "f5943270-dcf7-4c62-9549-a0d429c05e97",
   "metadata": {},
   "source": [
    "So, the `newton-cholesky` does the best in increasing auc scores.\n",
    "\n",
    "We can try, with using `None` penalty as by default `l2` is being used."
   ]
  },
  {
   "cell_type": "code",
   "execution_count": 65,
   "id": "9777cb61-de8f-4c69-ba87-d11a5d72d787",
   "metadata": {},
   "outputs": [
    {
     "name": "stdout",
     "output_type": "stream",
     "text": [
      "penalty: l2 --> auc: 0.5028159414571152\n",
      "penalty: None --> auc: 0.4870838863579295\n"
     ]
    }
   ],
   "source": [
    "for p in ['l2', None]:\n",
    "    lr = LogisticRegression(solver='newton-cholesky', penalty=p, max_iter=10000)\n",
    "    lr.fit(X_train, y_train)\n",
    "    y_pred = lr.predict_proba(X_val)[:, 1]\n",
    "    auc = roc_auc_score(y_val, y_pred)\n",
    "    print(f'penalty: {p} --> auc: {auc}')\n",
    "    if auc > score['log_reg']:\n",
    "        score['log_reg'] = auc"
   ]
  },
  {
   "cell_type": "markdown",
   "id": "cb50a5d7-172d-47ba-a45b-d2afdfe317a3",
   "metadata": {},
   "source": [
    "As the `l2` penalty has better auc. We fix the `Logistic Regression` model at:\n",
    "```python\n",
    "    LogisticRegression(solver='newton-cholesky', penalty='l2', max_iter=10000)\n",
    "```"
   ]
  },
  {
   "cell_type": "markdown",
   "id": "e543bce4-1d1f-49e0-9e2a-dffee4425967",
   "metadata": {},
   "source": [
    "### Logistic Regression with Feature Scaling"
   ]
  },
  {
   "cell_type": "code",
   "execution_count": 66,
   "id": "93c4cc86-21c5-4967-adfb-c98a49b71ef5",
   "metadata": {},
   "outputs": [],
   "source": [
    "def scale_numeric(df_in, numeric_features, categoric_features, scaler = StandardScaler()):\n",
    "    numeric_df = df_in[numeric_features]\n",
    "    categoric_df = df_in[categoric_features]\n",
    "    train_data = scaler.fit(numeric_df)\n",
    "    train_data = scaler.transform(numeric_df)\n",
    "    numeric_df = pd.DataFrame(train_data, columns = numeric_features)\n",
    "    df_out = pd.concat([numeric_df, categoric_df], axis=1)\n",
    "    return df_out, scaler"
   ]
  },
  {
   "cell_type": "code",
   "execution_count": 67,
   "id": "92fca408-1817-4fa1-9d95-3b4cdc88b3fb",
   "metadata": {},
   "outputs": [],
   "source": [
    "df_train_scale, scaler = scale_numeric(df_train, numerical, categorical)"
   ]
  },
  {
   "cell_type": "code",
   "execution_count": 68,
   "id": "731a3dbd-754a-43e1-aa7f-8c853be4608b",
   "metadata": {},
   "outputs": [],
   "source": [
    "def scale_val(df_in, numeric_features, categoric_features, scaler):\n",
    "    numeric_df = df_in[numeric_features]\n",
    "    categoric_df = df_in[categoric_features]\n",
    "    numeric_df = pd.DataFrame(scaler.transform(numeric_df), columns = numeric_features)\n",
    "    df_out = pd.concat([numeric_df, categoric_df], axis=1)\n",
    "    return df_out"
   ]
  },
  {
   "cell_type": "code",
   "execution_count": 69,
   "id": "097b8f36-2d69-4f59-974d-f1069a214176",
   "metadata": {},
   "outputs": [],
   "source": [
    "df_val_scale = scale_val(df_val, numerical, categorical, scaler)"
   ]
  },
  {
   "cell_type": "code",
   "execution_count": 70,
   "id": "79f7b79b-86c8-4a63-b159-4907d6ae0023",
   "metadata": {},
   "outputs": [],
   "source": [
    "dv = DictVectorizer(sparse=False)\n",
    "train_dicts_scale = df_train_scale[categorical +numerical].to_dict(orient='records')\n",
    "X_train_scale = dv.fit_transform(train_dicts_scale)\n",
    "\n",
    "val_dicts_scale = df_val_scale[categorical + numerical].to_dict(orient='records')\n",
    "X_val_scale = dv.transform(val_dicts_scale)"
   ]
  },
  {
   "cell_type": "code",
   "execution_count": 71,
   "id": "641fce95-f8f5-4b5e-b2b2-ce741dceff1a",
   "metadata": {},
   "outputs": [],
   "source": [
    "lr = LogisticRegression(solver='newton-cholesky', penalty='l2', max_iter=10000)"
   ]
  },
  {
   "cell_type": "code",
   "execution_count": 72,
   "id": "6f13b197-ef36-4210-9f9d-f3a30e36a56b",
   "metadata": {},
   "outputs": [
    {
     "data": {
      "text/plain": [
       "0.5027800695914195"
      ]
     },
     "execution_count": 72,
     "metadata": {},
     "output_type": "execute_result"
    }
   ],
   "source": [
    "lr.fit(X_train_scale, y_train)\n",
    "y_pred = lr.predict_proba(X_val_scale)[:, 1]\n",
    "auc = roc_auc_score(y_val, y_pred)\n",
    "auc"
   ]
  },
  {
   "cell_type": "markdown",
   "id": "6f114cd9-906b-4349-b593-9e9cb57638f0",
   "metadata": {},
   "source": [
    "Feature Scaling does not improve the model performance. So we stick with the data without Scaling."
   ]
  },
  {
   "cell_type": "markdown",
   "id": "b879c2d3-af7b-4642-bbf5-d0b688230713",
   "metadata": {},
   "source": [
    "## Decision Trees"
   ]
  },
  {
   "cell_type": "code",
   "execution_count": 77,
   "id": "bd784486-ca0e-4983-8b9f-ee2c9bcd03f0",
   "metadata": {},
   "outputs": [],
   "source": [
    "dt_10 = DecisionTreeClassifier()\n",
    "dt = DecisionTreeClassifier()"
   ]
  },
  {
   "cell_type": "code",
   "execution_count": 78,
   "id": "e26487d6-244e-4c5b-aede-1856f096342a",
   "metadata": {},
   "outputs": [
    {
     "data": {
      "text/plain": [
       "0.49023388456433625"
      ]
     },
     "execution_count": 78,
     "metadata": {},
     "output_type": "execute_result"
    }
   ],
   "source": [
    "dt_10.fit(X_train_10, y_train)\n",
    "y_pred = dt_10.predict_proba(X_val_10)[:, 1]\n",
    "auc = roc_auc_score(y_val, y_pred)\n",
    "auc"
   ]
  },
  {
   "cell_type": "code",
   "execution_count": 79,
   "id": "4b7914c3-862d-48a4-afa4-ec9df39d3f52",
   "metadata": {},
   "outputs": [
    {
     "data": {
      "text/plain": [
       "0.4986480790615919"
      ]
     },
     "execution_count": 79,
     "metadata": {},
     "output_type": "execute_result"
    }
   ],
   "source": [
    "dt.fit(X_train, y_train)\n",
    "y_pred = dt.predict_proba(X_val)[:, 1]\n",
    "auc = roc_auc_score(y_val, y_pred)\n",
    "auc"
   ]
  },
  {
   "cell_type": "markdown",
   "id": "a2508847-5332-4bb6-a1af-061814e0194a",
   "metadata": {},
   "source": [
    "We can see that the Decision Tree with all features work slightly better. We can further tune the model."
   ]
  },
  {
   "cell_type": "markdown",
   "id": "85c934eb-f95b-4cb4-82db-823378aaab19",
   "metadata": {},
   "source": [
    "## Parameter Tuning for Decision Trees"
   ]
  },
  {
   "cell_type": "markdown",
   "id": "5a7ba2e6-5080-4bb8-98a2-89a4026ca923",
   "metadata": {},
   "source": [
    "- `Criterion`: [`gini`, `entropy`, `log_loss`]"
   ]
  },
  {
   "cell_type": "code",
   "execution_count": 82,
   "id": "b0b14931-fb04-44c4-b1a6-1313beeaf652",
   "metadata": {},
   "outputs": [],
   "source": [
    "criteria = ['gini', 'entropy', 'log_loss']"
   ]
  },
  {
   "cell_type": "code",
   "execution_count": 93,
   "id": "886b5e89-1a4d-4e82-a14a-e6f569445ee1",
   "metadata": {},
   "outputs": [
    {
     "name": "stdout",
     "output_type": "stream",
     "text": [
      "Criterion:     gini\t-->\tAUC: 0.4919\n",
      "Criterion:  entropy\t-->\tAUC: 0.4905\n",
      "Criterion: log_loss\t-->\tAUC: 0.4905\n"
     ]
    }
   ],
   "source": [
    "for c in criteria:\n",
    "    dt = DecisionTreeClassifier(criterion=c,\n",
    "                                random_state=12)\n",
    "    dt.fit(X_train, y_train)\n",
    "    y_pred = dt.predict_proba(X_val)[:,1]\n",
    "    auc = roc_auc_score(y_val, y_pred)\n",
    "    print(f\"Criterion: {c:>8}\\t-->\\tAUC: {round(auc,4)}\")"
   ]
  },
  {
   "cell_type": "markdown",
   "id": "5de4e1b3-b851-482b-b9dd-c80f7cecd03b",
   "metadata": {},
   "source": [
    "We can stick with `gini` as the criteria."
   ]
  },
  {
   "cell_type": "markdown",
   "id": "4f63e370-306e-4dc3-ba67-7041c520ee77",
   "metadata": {},
   "source": [
    "- `max_depth`: [1, 2, 3, 4, 5, 10, 20, 30, 40, 50, 100, 200, None]"
   ]
  },
  {
   "cell_type": "code",
   "execution_count": 94,
   "id": "bb600a9b-d8da-4d4d-a92e-a0577257c0e2",
   "metadata": {},
   "outputs": [],
   "source": [
    "depth = [1, 2, 3, 4, 5, 10, 20, 30, 40, 50, 100, 200, None]"
   ]
  },
  {
   "cell_type": "code",
   "execution_count": 98,
   "id": "5aaae40e-57c0-454e-b1e4-fcc31b0daadd",
   "metadata": {},
   "outputs": [
    {
     "name": "stdout",
     "output_type": "stream",
     "text": [
      "Max_depth: 1\t-->\tAUC: 0.4917\n",
      "Max_depth: 2\t-->\tAUC: 0.5193\n",
      "Max_depth: 3\t-->\tAUC: 0.525\n",
      "Max_depth: 4\t-->\tAUC: 0.5286\n",
      "Max_depth: 5\t-->\tAUC: 0.5006\n",
      "Max_depth: 10\t-->\tAUC: 0.4709\n",
      "Max_depth: 20\t-->\tAUC: 0.4874\n",
      "Max_depth: 30\t-->\tAUC: 0.498\n",
      "Max_depth: 40\t-->\tAUC: 0.4919\n",
      "Max_depth: 50\t-->\tAUC: 0.4919\n",
      "Max_depth: 100\t-->\tAUC: 0.4919\n",
      "Max_depth: 200\t-->\tAUC: 0.4919\n",
      "Max_depth: None\t-->\tAUC: 0.4919\n"
     ]
    }
   ],
   "source": [
    "for d in depth:\n",
    "    dt = DecisionTreeClassifier(criterion='gini',\n",
    "                                max_depth=d,\n",
    "                                random_state=12)\n",
    "    dt.fit(X_train, y_train)\n",
    "    y_pred = dt.predict_proba(X_val)[:,1]\n",
    "    auc = roc_auc_score(y_val, y_pred)\n",
    "    print(f\"Max_depth: {d}\\t-->\\tAUC: {round(auc,4)}\")"
   ]
  },
  {
   "cell_type": "markdown",
   "id": "ffd9c82e-4a8f-4b38-bbab-c57b1d581ef4",
   "metadata": {},
   "source": [
    "`max_depth` = 4"
   ]
  },
  {
   "cell_type": "markdown",
   "id": "c0d9c044-633a-4705-8ac4-21cf87c0d244",
   "metadata": {},
   "source": [
    "- `min_samples_leaf`: [1, 2, 3, 4, 5, 10]"
   ]
  },
  {
   "cell_type": "code",
   "execution_count": 103,
   "id": "ac04efb4-73ef-45d7-b6ea-53b3d372fe14",
   "metadata": {},
   "outputs": [],
   "source": [
    "leaves = [1, 2, 3, 4, 5, 10, 50, 100, 200, 500]"
   ]
  },
  {
   "cell_type": "code",
   "execution_count": 104,
   "id": "09e2fa48-3f46-40fb-9e18-31efa4b9cdb1",
   "metadata": {},
   "outputs": [
    {
     "name": "stdout",
     "output_type": "stream",
     "text": [
      "Min_sampples_leaf:   1\t-->\tAUC: 0.5286\n",
      "Min_sampples_leaf:   2\t-->\tAUC: 0.5286\n",
      "Min_sampples_leaf:   3\t-->\tAUC: 0.5286\n",
      "Min_sampples_leaf:   4\t-->\tAUC: 0.5275\n",
      "Min_sampples_leaf:   5\t-->\tAUC: 0.5267\n",
      "Min_sampples_leaf:  10\t-->\tAUC: 0.5239\n",
      "Min_sampples_leaf:  50\t-->\tAUC: 0.5053\n",
      "Min_sampples_leaf: 100\t-->\tAUC: 0.5084\n",
      "Min_sampples_leaf: 200\t-->\tAUC: 0.5049\n",
      "Min_sampples_leaf: 500\t-->\tAUC: 0.5066\n"
     ]
    }
   ],
   "source": [
    "for l in leaves:\n",
    "    dt = DecisionTreeClassifier(criterion='gini',\n",
    "                                max_depth=4,\n",
    "                                min_samples_leaf=l,\n",
    "                                random_state=12)\n",
    "    dt.fit(X_train, y_train)\n",
    "    y_pred = dt.predict_proba(X_val)[:,1]\n",
    "    auc = roc_auc_score(y_val, y_pred)\n",
    "    print(f\"Min_sampples_leaf: {l:>3}\\t-->\\tAUC: {round(auc,4)}\")"
   ]
  },
  {
   "cell_type": "markdown",
   "id": "f75e4de9-73d3-40c2-abb4-930a6f606d6d",
   "metadata": {},
   "source": [
    "`min_sample_leaf` of 1, 2 and 3 have similar scores. We can go with 2."
   ]
  },
  {
   "cell_type": "markdown",
   "id": "a6340d2c-c21c-4c61-8aa6-8c1abfe768bf",
   "metadata": {},
   "source": [
    "Further we can combine and check for combinations of `max_depth` and `min_samples_leaf`."
   ]
  },
  {
   "cell_type": "code",
   "execution_count": 110,
   "id": "896d064c-1c4b-4eca-a24b-964ccf8c0673",
   "metadata": {},
   "outputs": [
    {
     "data": {
      "text/html": [
       "<div>\n",
       "<style scoped>\n",
       "    .dataframe tbody tr th:only-of-type {\n",
       "        vertical-align: middle;\n",
       "    }\n",
       "\n",
       "    .dataframe tbody tr th {\n",
       "        vertical-align: top;\n",
       "    }\n",
       "\n",
       "    .dataframe thead th {\n",
       "        text-align: right;\n",
       "    }\n",
       "</style>\n",
       "<table border=\"1\" class=\"dataframe\">\n",
       "  <thead>\n",
       "    <tr style=\"text-align: right;\">\n",
       "      <th></th>\n",
       "      <th>max_depth</th>\n",
       "      <th>min_samples_leaf</th>\n",
       "      <th>auc</th>\n",
       "    </tr>\n",
       "  </thead>\n",
       "  <tbody>\n",
       "    <tr>\n",
       "      <th>28</th>\n",
       "      <td>4.0</td>\n",
       "      <td>15</td>\n",
       "      <td>0.5329</td>\n",
       "    </tr>\n",
       "    <tr>\n",
       "      <th>29</th>\n",
       "      <td>4.0</td>\n",
       "      <td>20</td>\n",
       "      <td>0.5317</td>\n",
       "    </tr>\n",
       "    <tr>\n",
       "      <th>22</th>\n",
       "      <td>4.0</td>\n",
       "      <td>1</td>\n",
       "      <td>0.5286</td>\n",
       "    </tr>\n",
       "    <tr>\n",
       "      <th>23</th>\n",
       "      <td>4.0</td>\n",
       "      <td>2</td>\n",
       "      <td>0.5286</td>\n",
       "    </tr>\n",
       "    <tr>\n",
       "      <th>24</th>\n",
       "      <td>4.0</td>\n",
       "      <td>3</td>\n",
       "      <td>0.5286</td>\n",
       "    </tr>\n",
       "  </tbody>\n",
       "</table>\n",
       "</div>"
      ],
      "text/plain": [
       "    max_depth  min_samples_leaf     auc\n",
       "28        4.0                15  0.5329\n",
       "29        4.0                20  0.5317\n",
       "22        4.0                 1  0.5286\n",
       "23        4.0                 2  0.5286\n",
       "24        4.0                 3  0.5286"
      ]
     },
     "execution_count": 110,
     "metadata": {},
     "output_type": "execute_result"
    }
   ],
   "source": [
    "dt_scores = []\n",
    "for d in [2,3,4,5,6,7, 8, 9, 10, 20, None]:\n",
    "    for l in [1,2,3,4,5,10,15,20,30,40,50]:\n",
    "        dt = DecisionTreeClassifier(criterion='gini',\n",
    "                                max_depth=d,\n",
    "                                min_samples_leaf=l,\n",
    "                                random_state=12)\n",
    "        dt.fit(X_train, y_train)\n",
    "        y_pred = dt.predict_proba(X_val)[:,1]\n",
    "        auc = roc_auc_score(y_val, y_pred)\n",
    "        dt_scores.append((d, l, round(auc, 4)))\n",
    "        # print(f\"Min_sampples_leaf: {l:>3}\\t-->\\tAUC: {round(auc,4)}\")\n",
    "\n",
    "df_dt = pd.DataFrame(dt_scores, columns = ['max_depth', 'min_samples_leaf', 'auc'])\n",
    "df_dt.sort_values(by='auc', ascending=False).head()"
   ]
  },
  {
   "cell_type": "code",
   "execution_count": 111,
   "id": "d6a389f9-2946-4045-84ea-bf2ab4d0c2a6",
   "metadata": {},
   "outputs": [
    {
     "data": {
      "text/html": [
       "<div>\n",
       "<style scoped>\n",
       "    .dataframe tbody tr th:only-of-type {\n",
       "        vertical-align: middle;\n",
       "    }\n",
       "\n",
       "    .dataframe tbody tr th {\n",
       "        vertical-align: top;\n",
       "    }\n",
       "\n",
       "    .dataframe thead th {\n",
       "        text-align: right;\n",
       "    }\n",
       "</style>\n",
       "<table border=\"1\" class=\"dataframe\">\n",
       "  <thead>\n",
       "    <tr style=\"text-align: right;\">\n",
       "      <th>max_depth</th>\n",
       "      <th>NaN</th>\n",
       "      <th>2.0</th>\n",
       "      <th>3.0</th>\n",
       "      <th>4.0</th>\n",
       "      <th>5.0</th>\n",
       "      <th>6.0</th>\n",
       "      <th>7.0</th>\n",
       "      <th>8.0</th>\n",
       "      <th>9.0</th>\n",
       "      <th>10.0</th>\n",
       "      <th>20.0</th>\n",
       "    </tr>\n",
       "    <tr>\n",
       "      <th>min_samples_leaf</th>\n",
       "      <th></th>\n",
       "      <th></th>\n",
       "      <th></th>\n",
       "      <th></th>\n",
       "      <th></th>\n",
       "      <th></th>\n",
       "      <th></th>\n",
       "      <th></th>\n",
       "      <th></th>\n",
       "      <th></th>\n",
       "      <th></th>\n",
       "    </tr>\n",
       "  </thead>\n",
       "  <tbody>\n",
       "    <tr>\n",
       "      <th>1</th>\n",
       "      <td>0.4919</td>\n",
       "      <td>0.5193</td>\n",
       "      <td>0.5250</td>\n",
       "      <td>0.5286</td>\n",
       "      <td>0.5006</td>\n",
       "      <td>0.4994</td>\n",
       "      <td>0.5222</td>\n",
       "      <td>0.4677</td>\n",
       "      <td>0.4980</td>\n",
       "      <td>0.4709</td>\n",
       "      <td>0.4874</td>\n",
       "    </tr>\n",
       "    <tr>\n",
       "      <th>2</th>\n",
       "      <td>0.4894</td>\n",
       "      <td>0.5193</td>\n",
       "      <td>0.5250</td>\n",
       "      <td>0.5286</td>\n",
       "      <td>0.5006</td>\n",
       "      <td>0.4972</td>\n",
       "      <td>0.5175</td>\n",
       "      <td>0.4698</td>\n",
       "      <td>0.4900</td>\n",
       "      <td>0.4721</td>\n",
       "      <td>0.4725</td>\n",
       "    </tr>\n",
       "    <tr>\n",
       "      <th>3</th>\n",
       "      <td>0.4980</td>\n",
       "      <td>0.5193</td>\n",
       "      <td>0.5250</td>\n",
       "      <td>0.5286</td>\n",
       "      <td>0.5006</td>\n",
       "      <td>0.4972</td>\n",
       "      <td>0.5183</td>\n",
       "      <td>0.4694</td>\n",
       "      <td>0.4977</td>\n",
       "      <td>0.4876</td>\n",
       "      <td>0.4765</td>\n",
       "    </tr>\n",
       "    <tr>\n",
       "      <th>4</th>\n",
       "      <td>0.4859</td>\n",
       "      <td>0.5193</td>\n",
       "      <td>0.5250</td>\n",
       "      <td>0.5275</td>\n",
       "      <td>0.4917</td>\n",
       "      <td>0.5074</td>\n",
       "      <td>0.5122</td>\n",
       "      <td>0.4806</td>\n",
       "      <td>0.4901</td>\n",
       "      <td>0.4847</td>\n",
       "      <td>0.4869</td>\n",
       "    </tr>\n",
       "    <tr>\n",
       "      <th>5</th>\n",
       "      <td>0.4866</td>\n",
       "      <td>0.5193</td>\n",
       "      <td>0.5243</td>\n",
       "      <td>0.5267</td>\n",
       "      <td>0.4951</td>\n",
       "      <td>0.5089</td>\n",
       "      <td>0.5161</td>\n",
       "      <td>0.4801</td>\n",
       "      <td>0.4963</td>\n",
       "      <td>0.4805</td>\n",
       "      <td>0.4909</td>\n",
       "    </tr>\n",
       "    <tr>\n",
       "      <th>10</th>\n",
       "      <td>0.4974</td>\n",
       "      <td>0.5193</td>\n",
       "      <td>0.5245</td>\n",
       "      <td>0.5239</td>\n",
       "      <td>0.4974</td>\n",
       "      <td>0.5082</td>\n",
       "      <td>0.5094</td>\n",
       "      <td>0.4974</td>\n",
       "      <td>0.4967</td>\n",
       "      <td>0.4899</td>\n",
       "      <td>0.4974</td>\n",
       "    </tr>\n",
       "    <tr>\n",
       "      <th>15</th>\n",
       "      <td>0.5148</td>\n",
       "      <td>0.5193</td>\n",
       "      <td>0.5245</td>\n",
       "      <td>0.5329</td>\n",
       "      <td>0.5010</td>\n",
       "      <td>0.4979</td>\n",
       "      <td>0.4987</td>\n",
       "      <td>0.4833</td>\n",
       "      <td>0.4901</td>\n",
       "      <td>0.4993</td>\n",
       "      <td>0.5148</td>\n",
       "    </tr>\n",
       "    <tr>\n",
       "      <th>20</th>\n",
       "      <td>0.5156</td>\n",
       "      <td>0.5193</td>\n",
       "      <td>0.5233</td>\n",
       "      <td>0.5317</td>\n",
       "      <td>0.4992</td>\n",
       "      <td>0.4890</td>\n",
       "      <td>0.5007</td>\n",
       "      <td>0.4892</td>\n",
       "      <td>0.4959</td>\n",
       "      <td>0.4998</td>\n",
       "      <td>0.5156</td>\n",
       "    </tr>\n",
       "    <tr>\n",
       "      <th>30</th>\n",
       "      <td>0.4925</td>\n",
       "      <td>0.5193</td>\n",
       "      <td>0.5214</td>\n",
       "      <td>0.5053</td>\n",
       "      <td>0.4846</td>\n",
       "      <td>0.4868</td>\n",
       "      <td>0.4958</td>\n",
       "      <td>0.4840</td>\n",
       "      <td>0.4909</td>\n",
       "      <td>0.4910</td>\n",
       "      <td>0.4925</td>\n",
       "    </tr>\n",
       "    <tr>\n",
       "      <th>40</th>\n",
       "      <td>0.5044</td>\n",
       "      <td>0.5193</td>\n",
       "      <td>0.5214</td>\n",
       "      <td>0.5055</td>\n",
       "      <td>0.4798</td>\n",
       "      <td>0.4854</td>\n",
       "      <td>0.4949</td>\n",
       "      <td>0.5013</td>\n",
       "      <td>0.4946</td>\n",
       "      <td>0.5019</td>\n",
       "      <td>0.5044</td>\n",
       "    </tr>\n",
       "    <tr>\n",
       "      <th>50</th>\n",
       "      <td>0.5037</td>\n",
       "      <td>0.5193</td>\n",
       "      <td>0.5214</td>\n",
       "      <td>0.5053</td>\n",
       "      <td>0.4821</td>\n",
       "      <td>0.4913</td>\n",
       "      <td>0.4945</td>\n",
       "      <td>0.5016</td>\n",
       "      <td>0.4928</td>\n",
       "      <td>0.4988</td>\n",
       "      <td>0.5037</td>\n",
       "    </tr>\n",
       "  </tbody>\n",
       "</table>\n",
       "</div>"
      ],
      "text/plain": [
       "max_depth           NaN     2.0     3.0     4.0     5.0     6.0     7.0   \\\n",
       "min_samples_leaf                                                           \n",
       "1                 0.4919  0.5193  0.5250  0.5286  0.5006  0.4994  0.5222   \n",
       "2                 0.4894  0.5193  0.5250  0.5286  0.5006  0.4972  0.5175   \n",
       "3                 0.4980  0.5193  0.5250  0.5286  0.5006  0.4972  0.5183   \n",
       "4                 0.4859  0.5193  0.5250  0.5275  0.4917  0.5074  0.5122   \n",
       "5                 0.4866  0.5193  0.5243  0.5267  0.4951  0.5089  0.5161   \n",
       "10                0.4974  0.5193  0.5245  0.5239  0.4974  0.5082  0.5094   \n",
       "15                0.5148  0.5193  0.5245  0.5329  0.5010  0.4979  0.4987   \n",
       "20                0.5156  0.5193  0.5233  0.5317  0.4992  0.4890  0.5007   \n",
       "30                0.4925  0.5193  0.5214  0.5053  0.4846  0.4868  0.4958   \n",
       "40                0.5044  0.5193  0.5214  0.5055  0.4798  0.4854  0.4949   \n",
       "50                0.5037  0.5193  0.5214  0.5053  0.4821  0.4913  0.4945   \n",
       "\n",
       "max_depth           8.0     9.0     10.0    20.0  \n",
       "min_samples_leaf                                  \n",
       "1                 0.4677  0.4980  0.4709  0.4874  \n",
       "2                 0.4698  0.4900  0.4721  0.4725  \n",
       "3                 0.4694  0.4977  0.4876  0.4765  \n",
       "4                 0.4806  0.4901  0.4847  0.4869  \n",
       "5                 0.4801  0.4963  0.4805  0.4909  \n",
       "10                0.4974  0.4967  0.4899  0.4974  \n",
       "15                0.4833  0.4901  0.4993  0.5148  \n",
       "20                0.4892  0.4959  0.4998  0.5156  \n",
       "30                0.4840  0.4909  0.4910  0.4925  \n",
       "40                0.5013  0.4946  0.5019  0.5044  \n",
       "50                0.5016  0.4928  0.4988  0.5037  "
      ]
     },
     "execution_count": 111,
     "metadata": {},
     "output_type": "execute_result"
    }
   ],
   "source": [
    "dt_pivot = df_dt.pivot(index='min_samples_leaf', columns='max_depth', values='auc')\n",
    "dt_pivot"
   ]
  },
  {
   "cell_type": "code",
   "execution_count": 114,
   "id": "4adaf6b9-3004-4c92-a7a6-87fd78b5be52",
   "metadata": {},
   "outputs": [
    {
     "data": {
      "text/plain": [
       "<Axes: xlabel='max_depth', ylabel='min_samples_leaf'>"
      ]
     },
     "execution_count": 114,
     "metadata": {},
     "output_type": "execute_result"
    },
    {
     "data": {
      "image/png": "[encoded data removed]",
      "text/plain": [
       "<Figure size 1000x1000 with 2 Axes>"
      ]
     },
     "metadata": {},
     "output_type": "display_data"
    }
   ],
   "source": [
    "plt.figure(figsize =(10,10))\n",
    "sns.heatmap(dt_pivot, annot=True, fmt='.3f')"
   ]
  },
  {
   "cell_type": "markdown",
   "id": "4eee3f08-b447-4457-aafb-f10e8a025a5d",
   "metadata": {},
   "source": [
    "As evident from the heatmap, the `max_depth` of 4 and `min_samples_leaf` of 15 yields the best model out of the ranges tested. We finalize our `DecisionTreeClassifier` model as:\n",
    "\n",
    "```python\n",
    "DecisionTreeClassifier(criterion='gini',\n",
    "                       max_depth=4,\n",
    "                       min_samples_leaf=15,\n",
    "                       random_state=12)\n",
    "```"
   ]
  },
  {
   "cell_type": "code",
   "execution_count": 117,
   "id": "61cdddd5-8fbf-4c01-86bf-24ba40673add",
   "metadata": {},
   "outputs": [
    {
     "name": "stdout",
     "output_type": "stream",
     "text": [
      "AUC Score with Decision Tree Classifier is: 0.532856386985687\n"
     ]
    }
   ],
   "source": [
    "dt = DecisionTreeClassifier(criterion='gini',\n",
    "                       max_depth=4,\n",
    "                       min_samples_leaf=15,\n",
    "                       random_state=12)\n",
    "dt.fit(X_train, y_train)\n",
    "y_pred = dt.predict_proba(X_val)[:, 1]\n",
    "auc = roc_auc_score(y_val, y_pred)\n",
    "score['dt'] = auc\n",
    "print(f\"AUC Score with Decision Tree Classifier is: {auc}\")"
   ]
  },
  {
   "cell_type": "markdown",
   "id": "6cb66568-4a8b-4c29-85d6-3291d1547224",
   "metadata": {},
   "source": [
    "## Random Forest Classifier"
   ]
  },
  {
   "cell_type": "code",
   "execution_count": 119,
   "id": "04297b02-5103-4b45-ab1c-2b5dd0177763",
   "metadata": {},
   "outputs": [
    {
     "name": "stdout",
     "output_type": "stream",
     "text": [
      "auc=0.48415248233310615\n"
     ]
    }
   ],
   "source": [
    "rf = RandomForestClassifier()\n",
    "rf.fit(X_train, y_train)\n",
    "y_pred = rf.predict_proba(X_val)[:, 1]\n",
    "auc = roc_auc_score(y_val, y_pred)\n",
    "print(f\"{auc=}\")"
   ]
  },
  {
   "cell_type": "markdown",
   "id": "3de81de7-b5b6-4433-906d-2e0c9807e9d5",
   "metadata": {},
   "source": [
    "### Random Forest Tuning"
   ]
  },
  {
   "cell_type": "markdown",
   "id": "b4ad9c63-fe07-4210-a245-943ee325661a",
   "metadata": {},
   "source": [
    "- `n_estimators`"
   ]
  },
  {
   "cell_type": "code",
   "execution_count": 127,
   "id": "529ac3d4-0ea6-4d66-a019-c920bf6d7c7d",
   "metadata": {},
   "outputs": [],
   "source": [
    "estimators = range(10, 201, 10)"
   ]
  },
  {
   "cell_type": "code",
   "execution_count": 128,
   "id": "6fe447e5-32c5-475a-a69a-3d043b18d374",
   "metadata": {},
   "outputs": [
    {
     "data": {
      "text/html": [
       "<div>\n",
       "<style scoped>\n",
       "    .dataframe tbody tr th:only-of-type {\n",
       "        vertical-align: middle;\n",
       "    }\n",
       "\n",
       "    .dataframe tbody tr th {\n",
       "        vertical-align: top;\n",
       "    }\n",
       "\n",
       "    .dataframe thead th {\n",
       "        text-align: right;\n",
       "    }\n",
       "</style>\n",
       "<table border=\"1\" class=\"dataframe\">\n",
       "  <thead>\n",
       "    <tr style=\"text-align: right;\">\n",
       "      <th></th>\n",
       "      <th>n_estimators</th>\n",
       "      <th>auc</th>\n",
       "    </tr>\n",
       "  </thead>\n",
       "  <tbody>\n",
       "    <tr>\n",
       "      <th>0</th>\n",
       "      <td>10</td>\n",
       "      <td>0.499669</td>\n",
       "    </tr>\n",
       "    <tr>\n",
       "      <th>1</th>\n",
       "      <td>20</td>\n",
       "      <td>0.515520</td>\n",
       "    </tr>\n",
       "    <tr>\n",
       "      <th>2</th>\n",
       "      <td>30</td>\n",
       "      <td>0.512441</td>\n",
       "    </tr>\n",
       "    <tr>\n",
       "      <th>3</th>\n",
       "      <td>40</td>\n",
       "      <td>0.511488</td>\n",
       "    </tr>\n",
       "    <tr>\n",
       "      <th>4</th>\n",
       "      <td>50</td>\n",
       "      <td>0.505911</td>\n",
       "    </tr>\n",
       "    <tr>\n",
       "      <th>5</th>\n",
       "      <td>60</td>\n",
       "      <td>0.504846</td>\n",
       "    </tr>\n",
       "    <tr>\n",
       "      <th>6</th>\n",
       "      <td>70</td>\n",
       "      <td>0.499429</td>\n",
       "    </tr>\n",
       "    <tr>\n",
       "      <th>7</th>\n",
       "      <td>80</td>\n",
       "      <td>0.491465</td>\n",
       "    </tr>\n",
       "    <tr>\n",
       "      <th>8</th>\n",
       "      <td>90</td>\n",
       "      <td>0.490109</td>\n",
       "    </tr>\n",
       "    <tr>\n",
       "      <th>9</th>\n",
       "      <td>100</td>\n",
       "      <td>0.493933</td>\n",
       "    </tr>\n",
       "    <tr>\n",
       "      <th>10</th>\n",
       "      <td>110</td>\n",
       "      <td>0.493819</td>\n",
       "    </tr>\n",
       "    <tr>\n",
       "      <th>11</th>\n",
       "      <td>120</td>\n",
       "      <td>0.495823</td>\n",
       "    </tr>\n",
       "    <tr>\n",
       "      <th>12</th>\n",
       "      <td>130</td>\n",
       "      <td>0.496291</td>\n",
       "    </tr>\n",
       "    <tr>\n",
       "      <th>13</th>\n",
       "      <td>140</td>\n",
       "      <td>0.494676</td>\n",
       "    </tr>\n",
       "    <tr>\n",
       "      <th>14</th>\n",
       "      <td>150</td>\n",
       "      <td>0.491505</td>\n",
       "    </tr>\n",
       "    <tr>\n",
       "      <th>15</th>\n",
       "      <td>160</td>\n",
       "      <td>0.489645</td>\n",
       "    </tr>\n",
       "    <tr>\n",
       "      <th>16</th>\n",
       "      <td>170</td>\n",
       "      <td>0.487619</td>\n",
       "    </tr>\n",
       "    <tr>\n",
       "      <th>17</th>\n",
       "      <td>180</td>\n",
       "      <td>0.487294</td>\n",
       "    </tr>\n",
       "    <tr>\n",
       "      <th>18</th>\n",
       "      <td>190</td>\n",
       "      <td>0.486051</td>\n",
       "    </tr>\n",
       "    <tr>\n",
       "      <th>19</th>\n",
       "      <td>200</td>\n",
       "      <td>0.484707</td>\n",
       "    </tr>\n",
       "  </tbody>\n",
       "</table>\n",
       "</div>"
      ],
      "text/plain": [
       "    n_estimators       auc\n",
       "0             10  0.499669\n",
       "1             20  0.515520\n",
       "2             30  0.512441\n",
       "3             40  0.511488\n",
       "4             50  0.505911\n",
       "5             60  0.504846\n",
       "6             70  0.499429\n",
       "7             80  0.491465\n",
       "8             90  0.490109\n",
       "9            100  0.493933\n",
       "10           110  0.493819\n",
       "11           120  0.495823\n",
       "12           130  0.496291\n",
       "13           140  0.494676\n",
       "14           150  0.491505\n",
       "15           160  0.489645\n",
       "16           170  0.487619\n",
       "17           180  0.487294\n",
       "18           190  0.486051\n",
       "19           200  0.484707"
      ]
     },
     "metadata": {},
     "output_type": "display_data"
    },
    {
     "data": {
      "image/png": "[encoded data removed]",
      "text/plain": [
       "<Figure size 640x480 with 1 Axes>"
      ]
     },
     "metadata": {},
     "output_type": "display_data"
    }
   ],
   "source": [
    "scores_rf = []\n",
    "for n in estimators:\n",
    "    rf = RandomForestClassifier(n_estimators=n, random_state=1)\n",
    "    rf.fit(X_train, y_train)\n",
    "    y_pred = rf.predict_proba(X_val)[:, 1]\n",
    "    auc = roc_auc_score(y_val, y_pred)\n",
    "    # print(f\"Estimators: {n:>3}, AUC: {round(auc, 3)}\")\n",
    "    scores_rf.append((n, auc))\n",
    "df_scores = pd.DataFrame(scores_rf, columns = ['n_estimators', 'auc'])\n",
    "display(df_scores)\n",
    "\n",
    "plt.plot(df_scores.n_estimators, df_scores.auc)\n",
    "plt.xlabel(\"# Trees\")\n",
    "plt.ylabel(\"AUC\")\n",
    "plt.show()"
   ]
  },
  {
   "cell_type": "markdown",
   "id": "31d7fa16-b077-4e04-84f4-bc2456dc2008",
   "metadata": {},
   "source": [
    "We can refine the `n_estimators` by magnifying the scope between 10 and 30."
   ]
  },
  {
   "cell_type": "code",
   "execution_count": 129,
   "id": "8c0fc556-8bf6-453e-9229-0d881462256d",
   "metadata": {},
   "outputs": [],
   "source": [
    "estimators = range(10, 31, 2)"
   ]
  },
  {
   "cell_type": "code",
   "execution_count": 130,
   "id": "908de068-9e9b-4076-a43f-e4a7daa3df89",
   "metadata": {},
   "outputs": [
    {
     "data": {
      "text/html": [
       "<div>\n",
       "<style scoped>\n",
       "    .dataframe tbody tr th:only-of-type {\n",
       "        vertical-align: middle;\n",
       "    }\n",
       "\n",
       "    .dataframe tbody tr th {\n",
       "        vertical-align: top;\n",
       "    }\n",
       "\n",
       "    .dataframe thead th {\n",
       "        text-align: right;\n",
       "    }\n",
       "</style>\n",
       "<table border=\"1\" class=\"dataframe\">\n",
       "  <thead>\n",
       "    <tr style=\"text-align: right;\">\n",
       "      <th></th>\n",
       "      <th>n_estimators</th>\n",
       "      <th>auc</th>\n",
       "    </tr>\n",
       "  </thead>\n",
       "  <tbody>\n",
       "    <tr>\n",
       "      <th>0</th>\n",
       "      <td>10</td>\n",
       "      <td>0.499669</td>\n",
       "    </tr>\n",
       "    <tr>\n",
       "      <th>1</th>\n",
       "      <td>12</td>\n",
       "      <td>0.507013</td>\n",
       "    </tr>\n",
       "    <tr>\n",
       "      <th>2</th>\n",
       "      <td>14</td>\n",
       "      <td>0.513018</td>\n",
       "    </tr>\n",
       "    <tr>\n",
       "      <th>3</th>\n",
       "      <td>16</td>\n",
       "      <td>0.515186</td>\n",
       "    </tr>\n",
       "    <tr>\n",
       "      <th>4</th>\n",
       "      <td>18</td>\n",
       "      <td>0.511769</td>\n",
       "    </tr>\n",
       "    <tr>\n",
       "      <th>5</th>\n",
       "      <td>20</td>\n",
       "      <td>0.515520</td>\n",
       "    </tr>\n",
       "    <tr>\n",
       "      <th>6</th>\n",
       "      <td>22</td>\n",
       "      <td>0.520996</td>\n",
       "    </tr>\n",
       "    <tr>\n",
       "      <th>7</th>\n",
       "      <td>24</td>\n",
       "      <td>0.519496</td>\n",
       "    </tr>\n",
       "    <tr>\n",
       "      <th>8</th>\n",
       "      <td>26</td>\n",
       "      <td>0.508553</td>\n",
       "    </tr>\n",
       "    <tr>\n",
       "      <th>9</th>\n",
       "      <td>28</td>\n",
       "      <td>0.515518</td>\n",
       "    </tr>\n",
       "    <tr>\n",
       "      <th>10</th>\n",
       "      <td>30</td>\n",
       "      <td>0.512441</td>\n",
       "    </tr>\n",
       "  </tbody>\n",
       "</table>\n",
       "</div>"
      ],
      "text/plain": [
       "    n_estimators       auc\n",
       "0             10  0.499669\n",
       "1             12  0.507013\n",
       "2             14  0.513018\n",
       "3             16  0.515186\n",
       "4             18  0.511769\n",
       "5             20  0.515520\n",
       "6             22  0.520996\n",
       "7             24  0.519496\n",
       "8             26  0.508553\n",
       "9             28  0.515518\n",
       "10            30  0.512441"
      ]
     },
     "metadata": {},
     "output_type": "display_data"
    },
    {
     "data": {
      "image/png": "[encoded data removed]",
      "text/plain": [
       "<Figure size 640x480 with 1 Axes>"
      ]
     },
     "metadata": {},
     "output_type": "display_data"
    }
   ],
   "source": [
    "scores_rf = []\n",
    "for n in estimators:\n",
    "    rf = RandomForestClassifier(n_estimators=n, random_state=1)\n",
    "    rf.fit(X_train, y_train)\n",
    "    y_pred = rf.predict_proba(X_val)[:, 1]\n",
    "    auc = roc_auc_score(y_val, y_pred)\n",
    "    # print(f\"Estimators: {n:>3}, AUC: {round(auc, 3)}\")\n",
    "    scores_rf.append((n, auc))\n",
    "df_scores = pd.DataFrame(scores_rf, columns = ['n_estimators', 'auc'])\n",
    "display(df_scores)\n",
    "\n",
    "plt.plot(df_scores.n_estimators, df_scores.auc)\n",
    "plt.xlabel(\"# Trees\")\n",
    "plt.ylabel(\"AUC\")\n",
    "plt.show()"
   ]
  },
  {
   "cell_type": "code",
   "execution_count": 131,
   "id": "9d5b6007-8a5f-4233-ad1f-c69dc18cbc4e",
   "metadata": {},
   "outputs": [],
   "source": [
    "estimators = range(20, 25, 1)"
   ]
  },
  {
   "cell_type": "code",
   "execution_count": 132,
   "id": "57e48935-1524-46b4-9cdc-fbe284c97f49",
   "metadata": {},
   "outputs": [
    {
     "data": {
      "text/html": [
       "<div>\n",
       "<style scoped>\n",
       "    .dataframe tbody tr th:only-of-type {\n",
       "        vertical-align: middle;\n",
       "    }\n",
       "\n",
       "    .dataframe tbody tr th {\n",
       "        vertical-align: top;\n",
       "    }\n",
       "\n",
       "    .dataframe thead th {\n",
       "        text-align: right;\n",
       "    }\n",
       "</style>\n",
       "<table border=\"1\" class=\"dataframe\">\n",
       "  <thead>\n",
       "    <tr style=\"text-align: right;\">\n",
       "      <th></th>\n",
       "      <th>n_estimators</th>\n",
       "      <th>auc</th>\n",
       "    </tr>\n",
       "  </thead>\n",
       "  <tbody>\n",
       "    <tr>\n",
       "      <th>0</th>\n",
       "      <td>20</td>\n",
       "      <td>0.515520</td>\n",
       "    </tr>\n",
       "    <tr>\n",
       "      <th>1</th>\n",
       "      <td>21</td>\n",
       "      <td>0.521122</td>\n",
       "    </tr>\n",
       "    <tr>\n",
       "      <th>2</th>\n",
       "      <td>22</td>\n",
       "      <td>0.520996</td>\n",
       "    </tr>\n",
       "    <tr>\n",
       "      <th>3</th>\n",
       "      <td>23</td>\n",
       "      <td>0.519231</td>\n",
       "    </tr>\n",
       "    <tr>\n",
       "      <th>4</th>\n",
       "      <td>24</td>\n",
       "      <td>0.519496</td>\n",
       "    </tr>\n",
       "  </tbody>\n",
       "</table>\n",
       "</div>"
      ],
      "text/plain": [
       "   n_estimators       auc\n",
       "0            20  0.515520\n",
       "1            21  0.521122\n",
       "2            22  0.520996\n",
       "3            23  0.519231\n",
       "4            24  0.519496"
      ]
     },
     "metadata": {},
     "output_type": "display_data"
    },
    {
     "data": {
      "image/png": "[encoded data removed]",
      "text/plain": [
       "<Figure size 640x480 with 1 Axes>"
      ]
     },
     "metadata": {},
     "output_type": "display_data"
    }
   ],
   "source": [
    "scores_rf = []\n",
    "for n in estimators:\n",
    "    rf = RandomForestClassifier(n_estimators=n, random_state=1)\n",
    "    rf.fit(X_train, y_train)\n",
    "    y_pred = rf.predict_proba(X_val)[:, 1]\n",
    "    auc = roc_auc_score(y_val, y_pred)\n",
    "    # print(f\"Estimators: {n:>3}, AUC: {round(auc, 3)}\")\n",
    "    scores_rf.append((n, auc))\n",
    "df_scores = pd.DataFrame(scores_rf, columns = ['n_estimators', 'auc'])\n",
    "display(df_scores)\n",
    "\n",
    "plt.plot(df_scores.n_estimators, df_scores.auc)\n",
    "plt.xlabel(\"# Trees\")\n",
    "plt.ylabel(\"AUC\")\n",
    "plt.show()"
   ]
  },
  {
   "cell_type": "markdown",
   "id": "dce801cc-bc42-49e3-bb72-88ddaef7e865",
   "metadata": {},
   "source": [
    "`n_estimators`: 21"
   ]
  },
  {
   "cell_type": "markdown",
   "id": "a7035d99-29a0-443f-a22c-5274584034ed",
   "metadata": {},
   "source": [
    "- `max_depth`"
   ]
  },
  {
   "cell_type": "code",
   "execution_count": 133,
   "id": "71121dbe-efe1-422d-a335-c50130c1ccfb",
   "metadata": {},
   "outputs": [],
   "source": [
    "depth = [5, 10, 15, 20]"
   ]
  },
  {
   "cell_type": "code",
   "execution_count": 134,
   "id": "0f8e72bb-1d86-4b02-b193-65185838d33a",
   "metadata": {},
   "outputs": [
    {
     "data": {
      "text/html": [
       "<div>\n",
       "<style scoped>\n",
       "    .dataframe tbody tr th:only-of-type {\n",
       "        vertical-align: middle;\n",
       "    }\n",
       "\n",
       "    .dataframe tbody tr th {\n",
       "        vertical-align: top;\n",
       "    }\n",
       "\n",
       "    .dataframe thead th {\n",
       "        text-align: right;\n",
       "    }\n",
       "</style>\n",
       "<table border=\"1\" class=\"dataframe\">\n",
       "  <thead>\n",
       "    <tr style=\"text-align: right;\">\n",
       "      <th></th>\n",
       "      <th>max_dpeth</th>\n",
       "      <th>n_estimators</th>\n",
       "      <th>auc</th>\n",
       "    </tr>\n",
       "  </thead>\n",
       "  <tbody>\n",
       "    <tr>\n",
       "      <th>0</th>\n",
       "      <td>5</td>\n",
       "      <td>20</td>\n",
       "      <td>0.517884</td>\n",
       "    </tr>\n",
       "    <tr>\n",
       "      <th>1</th>\n",
       "      <td>5</td>\n",
       "      <td>21</td>\n",
       "      <td>0.510479</td>\n",
       "    </tr>\n",
       "    <tr>\n",
       "      <th>2</th>\n",
       "      <td>5</td>\n",
       "      <td>22</td>\n",
       "      <td>0.505701</td>\n",
       "    </tr>\n",
       "    <tr>\n",
       "      <th>3</th>\n",
       "      <td>5</td>\n",
       "      <td>23</td>\n",
       "      <td>0.506165</td>\n",
       "    </tr>\n",
       "    <tr>\n",
       "      <th>4</th>\n",
       "      <td>5</td>\n",
       "      <td>24</td>\n",
       "      <td>0.509360</td>\n",
       "    </tr>\n",
       "    <tr>\n",
       "      <th>5</th>\n",
       "      <td>10</td>\n",
       "      <td>20</td>\n",
       "      <td>0.503937</td>\n",
       "    </tr>\n",
       "    <tr>\n",
       "      <th>6</th>\n",
       "      <td>10</td>\n",
       "      <td>21</td>\n",
       "      <td>0.502083</td>\n",
       "    </tr>\n",
       "    <tr>\n",
       "      <th>7</th>\n",
       "      <td>10</td>\n",
       "      <td>22</td>\n",
       "      <td>0.500206</td>\n",
       "    </tr>\n",
       "    <tr>\n",
       "      <th>8</th>\n",
       "      <td>10</td>\n",
       "      <td>23</td>\n",
       "      <td>0.500439</td>\n",
       "    </tr>\n",
       "    <tr>\n",
       "      <th>9</th>\n",
       "      <td>10</td>\n",
       "      <td>24</td>\n",
       "      <td>0.496971</td>\n",
       "    </tr>\n",
       "    <tr>\n",
       "      <th>10</th>\n",
       "      <td>15</td>\n",
       "      <td>20</td>\n",
       "      <td>0.498516</td>\n",
       "    </tr>\n",
       "    <tr>\n",
       "      <th>11</th>\n",
       "      <td>15</td>\n",
       "      <td>21</td>\n",
       "      <td>0.505991</td>\n",
       "    </tr>\n",
       "    <tr>\n",
       "      <th>12</th>\n",
       "      <td>15</td>\n",
       "      <td>22</td>\n",
       "      <td>0.503110</td>\n",
       "    </tr>\n",
       "    <tr>\n",
       "      <th>13</th>\n",
       "      <td>15</td>\n",
       "      <td>23</td>\n",
       "      <td>0.509185</td>\n",
       "    </tr>\n",
       "    <tr>\n",
       "      <th>14</th>\n",
       "      <td>15</td>\n",
       "      <td>24</td>\n",
       "      <td>0.507688</td>\n",
       "    </tr>\n",
       "    <tr>\n",
       "      <th>15</th>\n",
       "      <td>20</td>\n",
       "      <td>20</td>\n",
       "      <td>0.516566</td>\n",
       "    </tr>\n",
       "    <tr>\n",
       "      <th>16</th>\n",
       "      <td>20</td>\n",
       "      <td>21</td>\n",
       "      <td>0.521614</td>\n",
       "    </tr>\n",
       "    <tr>\n",
       "      <th>17</th>\n",
       "      <td>20</td>\n",
       "      <td>22</td>\n",
       "      <td>0.526149</td>\n",
       "    </tr>\n",
       "    <tr>\n",
       "      <th>18</th>\n",
       "      <td>20</td>\n",
       "      <td>23</td>\n",
       "      <td>0.526466</td>\n",
       "    </tr>\n",
       "    <tr>\n",
       "      <th>19</th>\n",
       "      <td>20</td>\n",
       "      <td>24</td>\n",
       "      <td>0.528820</td>\n",
       "    </tr>\n",
       "  </tbody>\n",
       "</table>\n",
       "</div>"
      ],
      "text/plain": [
       "    max_dpeth  n_estimators       auc\n",
       "0           5            20  0.517884\n",
       "1           5            21  0.510479\n",
       "2           5            22  0.505701\n",
       "3           5            23  0.506165\n",
       "4           5            24  0.509360\n",
       "5          10            20  0.503937\n",
       "6          10            21  0.502083\n",
       "7          10            22  0.500206\n",
       "8          10            23  0.500439\n",
       "9          10            24  0.496971\n",
       "10         15            20  0.498516\n",
       "11         15            21  0.505991\n",
       "12         15            22  0.503110\n",
       "13         15            23  0.509185\n",
       "14         15            24  0.507688\n",
       "15         20            20  0.516566\n",
       "16         20            21  0.521614\n",
       "17         20            22  0.526149\n",
       "18         20            23  0.526466\n",
       "19         20            24  0.528820"
      ]
     },
     "metadata": {},
     "output_type": "display_data"
    }
   ],
   "source": [
    "scores_rf = []\n",
    "for d in depth:\n",
    "    for n in estimators:\n",
    "        rf = RandomForestClassifier(n_estimators=n, \n",
    "                                    max_depth=d,\n",
    "                                    random_state=1)\n",
    "        rf.fit(X_train, y_train)\n",
    "        y_pred = rf.predict_proba(X_val)[:, 1]\n",
    "        auc = roc_auc_score(y_val, y_pred)\n",
    "        scores_rf.append((d, n, auc))\n",
    "df_scores = pd.DataFrame(scores_rf, columns = ['max_dpeth', 'n_estimators', 'auc'])\n",
    "display(df_scores)\n",
    "\n",
    "# plt.plot(df_scores., df_scores.auc)\n",
    "# plt.xlabel(\"# Trees\")\n",
    "# plt.ylabel(\"AUC\")\n",
    "# plt.show()"
   ]
  },
  {
   "cell_type": "code",
   "execution_count": 135,
   "id": "51ee0b74-8838-49e8-85f9-fbf388c97426",
   "metadata": {},
   "outputs": [
    {
     "data": {
      "text/html": [
       "<div>\n",
       "<style scoped>\n",
       "    .dataframe tbody tr th:only-of-type {\n",
       "        vertical-align: middle;\n",
       "    }\n",
       "\n",
       "    .dataframe tbody tr th {\n",
       "        vertical-align: top;\n",
       "    }\n",
       "\n",
       "    .dataframe thead th {\n",
       "        text-align: right;\n",
       "    }\n",
       "</style>\n",
       "<table border=\"1\" class=\"dataframe\">\n",
       "  <thead>\n",
       "    <tr style=\"text-align: right;\">\n",
       "      <th></th>\n",
       "      <th>max_dpeth</th>\n",
       "      <th>n_estimators</th>\n",
       "      <th>auc</th>\n",
       "    </tr>\n",
       "  </thead>\n",
       "  <tbody>\n",
       "    <tr>\n",
       "      <th>0</th>\n",
       "      <td>20</td>\n",
       "      <td>20</td>\n",
       "      <td>0.516566</td>\n",
       "    </tr>\n",
       "    <tr>\n",
       "      <th>1</th>\n",
       "      <td>20</td>\n",
       "      <td>21</td>\n",
       "      <td>0.521614</td>\n",
       "    </tr>\n",
       "    <tr>\n",
       "      <th>2</th>\n",
       "      <td>20</td>\n",
       "      <td>22</td>\n",
       "      <td>0.526149</td>\n",
       "    </tr>\n",
       "    <tr>\n",
       "      <th>3</th>\n",
       "      <td>20</td>\n",
       "      <td>23</td>\n",
       "      <td>0.526466</td>\n",
       "    </tr>\n",
       "    <tr>\n",
       "      <th>4</th>\n",
       "      <td>20</td>\n",
       "      <td>24</td>\n",
       "      <td>0.528820</td>\n",
       "    </tr>\n",
       "    <tr>\n",
       "      <th>5</th>\n",
       "      <td>25</td>\n",
       "      <td>20</td>\n",
       "      <td>0.511653</td>\n",
       "    </tr>\n",
       "    <tr>\n",
       "      <th>6</th>\n",
       "      <td>25</td>\n",
       "      <td>21</td>\n",
       "      <td>0.514623</td>\n",
       "    </tr>\n",
       "    <tr>\n",
       "      <th>7</th>\n",
       "      <td>25</td>\n",
       "      <td>22</td>\n",
       "      <td>0.513804</td>\n",
       "    </tr>\n",
       "    <tr>\n",
       "      <th>8</th>\n",
       "      <td>25</td>\n",
       "      <td>23</td>\n",
       "      <td>0.511833</td>\n",
       "    </tr>\n",
       "    <tr>\n",
       "      <th>9</th>\n",
       "      <td>25</td>\n",
       "      <td>24</td>\n",
       "      <td>0.510544</td>\n",
       "    </tr>\n",
       "    <tr>\n",
       "      <th>10</th>\n",
       "      <td>30</td>\n",
       "      <td>20</td>\n",
       "      <td>0.528747</td>\n",
       "    </tr>\n",
       "    <tr>\n",
       "      <th>11</th>\n",
       "      <td>30</td>\n",
       "      <td>21</td>\n",
       "      <td>0.528674</td>\n",
       "    </tr>\n",
       "    <tr>\n",
       "      <th>12</th>\n",
       "      <td>30</td>\n",
       "      <td>22</td>\n",
       "      <td>0.528459</td>\n",
       "    </tr>\n",
       "    <tr>\n",
       "      <th>13</th>\n",
       "      <td>30</td>\n",
       "      <td>23</td>\n",
       "      <td>0.524800</td>\n",
       "    </tr>\n",
       "    <tr>\n",
       "      <th>14</th>\n",
       "      <td>30</td>\n",
       "      <td>24</td>\n",
       "      <td>0.524066</td>\n",
       "    </tr>\n",
       "  </tbody>\n",
       "</table>\n",
       "</div>"
      ],
      "text/plain": [
       "    max_dpeth  n_estimators       auc\n",
       "0          20            20  0.516566\n",
       "1          20            21  0.521614\n",
       "2          20            22  0.526149\n",
       "3          20            23  0.526466\n",
       "4          20            24  0.528820\n",
       "5          25            20  0.511653\n",
       "6          25            21  0.514623\n",
       "7          25            22  0.513804\n",
       "8          25            23  0.511833\n",
       "9          25            24  0.510544\n",
       "10         30            20  0.528747\n",
       "11         30            21  0.528674\n",
       "12         30            22  0.528459\n",
       "13         30            23  0.524800\n",
       "14         30            24  0.524066"
      ]
     },
     "metadata": {},
     "output_type": "display_data"
    }
   ],
   "source": [
    "depth = [20, 25, 30]\n",
    "scores_rf = []\n",
    "for d in depth:\n",
    "    for n in estimators:\n",
    "        rf = RandomForestClassifier(n_estimators=n, \n",
    "                                    max_depth=d,\n",
    "                                    random_state=1)\n",
    "        rf.fit(X_train, y_train)\n",
    "        y_pred = rf.predict_proba(X_val)[:, 1]\n",
    "        auc = roc_auc_score(y_val, y_pred)\n",
    "        scores_rf.append((d, n, auc))\n",
    "df_scores = pd.DataFrame(scores_rf, columns = ['max_dpeth', 'n_estimators', 'auc'])\n",
    "display(df_scores)"
   ]
  },
  {
   "cell_type": "markdown",
   "id": "8534a110-5b63-45f7-9eba-ec2f2ddc3ffd",
   "metadata": {},
   "source": [
    "`max_depth`: 20, `n_estimators`: 24"
   ]
  },
  {
   "cell_type": "markdown",
   "id": "a193504b-1f1e-44d0-9475-841f91db4124",
   "metadata": {},
   "source": [
    "- `min_sample_leaf`"
   ]
  },
  {
   "cell_type": "code",
   "execution_count": 136,
   "id": "7394573f-4eae-4b47-ae54-b18b4a5b1da9",
   "metadata": {},
   "outputs": [],
   "source": [
    "leaves = [5, 10, 15, 20, 25]"
   ]
  },
  {
   "cell_type": "code",
   "execution_count": 137,
   "id": "92e62e1d-9ca7-4f00-b738-4425d3c07dc6",
   "metadata": {},
   "outputs": [
    {
     "data": {
      "text/html": [
       "<div>\n",
       "<style scoped>\n",
       "    .dataframe tbody tr th:only-of-type {\n",
       "        vertical-align: middle;\n",
       "    }\n",
       "\n",
       "    .dataframe tbody tr th {\n",
       "        vertical-align: top;\n",
       "    }\n",
       "\n",
       "    .dataframe thead th {\n",
       "        text-align: right;\n",
       "    }\n",
       "</style>\n",
       "<table border=\"1\" class=\"dataframe\">\n",
       "  <thead>\n",
       "    <tr style=\"text-align: right;\">\n",
       "      <th></th>\n",
       "      <th>min_samples_leaf</th>\n",
       "      <th>n_estimators</th>\n",
       "      <th>auc</th>\n",
       "    </tr>\n",
       "  </thead>\n",
       "  <tbody>\n",
       "    <tr>\n",
       "      <th>0</th>\n",
       "      <td>5</td>\n",
       "      <td>20</td>\n",
       "      <td>0.501702</td>\n",
       "    </tr>\n",
       "    <tr>\n",
       "      <th>1</th>\n",
       "      <td>5</td>\n",
       "      <td>21</td>\n",
       "      <td>0.505697</td>\n",
       "    </tr>\n",
       "    <tr>\n",
       "      <th>2</th>\n",
       "      <td>5</td>\n",
       "      <td>22</td>\n",
       "      <td>0.504450</td>\n",
       "    </tr>\n",
       "    <tr>\n",
       "      <th>3</th>\n",
       "      <td>5</td>\n",
       "      <td>23</td>\n",
       "      <td>0.503710</td>\n",
       "    </tr>\n",
       "    <tr>\n",
       "      <th>4</th>\n",
       "      <td>5</td>\n",
       "      <td>24</td>\n",
       "      <td>0.506887</td>\n",
       "    </tr>\n",
       "    <tr>\n",
       "      <th>5</th>\n",
       "      <td>10</td>\n",
       "      <td>20</td>\n",
       "      <td>0.516546</td>\n",
       "    </tr>\n",
       "    <tr>\n",
       "      <th>6</th>\n",
       "      <td>10</td>\n",
       "      <td>21</td>\n",
       "      <td>0.509847</td>\n",
       "    </tr>\n",
       "    <tr>\n",
       "      <th>7</th>\n",
       "      <td>10</td>\n",
       "      <td>22</td>\n",
       "      <td>0.511436</td>\n",
       "    </tr>\n",
       "    <tr>\n",
       "      <th>8</th>\n",
       "      <td>10</td>\n",
       "      <td>23</td>\n",
       "      <td>0.509540</td>\n",
       "    </tr>\n",
       "    <tr>\n",
       "      <th>9</th>\n",
       "      <td>10</td>\n",
       "      <td>24</td>\n",
       "      <td>0.506163</td>\n",
       "    </tr>\n",
       "    <tr>\n",
       "      <th>10</th>\n",
       "      <td>15</td>\n",
       "      <td>20</td>\n",
       "      <td>0.514562</td>\n",
       "    </tr>\n",
       "    <tr>\n",
       "      <th>11</th>\n",
       "      <td>15</td>\n",
       "      <td>21</td>\n",
       "      <td>0.513871</td>\n",
       "    </tr>\n",
       "    <tr>\n",
       "      <th>12</th>\n",
       "      <td>15</td>\n",
       "      <td>22</td>\n",
       "      <td>0.509898</td>\n",
       "    </tr>\n",
       "    <tr>\n",
       "      <th>13</th>\n",
       "      <td>15</td>\n",
       "      <td>23</td>\n",
       "      <td>0.506242</td>\n",
       "    </tr>\n",
       "    <tr>\n",
       "      <th>14</th>\n",
       "      <td>15</td>\n",
       "      <td>24</td>\n",
       "      <td>0.501060</td>\n",
       "    </tr>\n",
       "    <tr>\n",
       "      <th>15</th>\n",
       "      <td>20</td>\n",
       "      <td>20</td>\n",
       "      <td>0.516293</td>\n",
       "    </tr>\n",
       "    <tr>\n",
       "      <th>16</th>\n",
       "      <td>20</td>\n",
       "      <td>21</td>\n",
       "      <td>0.512701</td>\n",
       "    </tr>\n",
       "    <tr>\n",
       "      <th>17</th>\n",
       "      <td>20</td>\n",
       "      <td>22</td>\n",
       "      <td>0.511017</td>\n",
       "    </tr>\n",
       "    <tr>\n",
       "      <th>18</th>\n",
       "      <td>20</td>\n",
       "      <td>23</td>\n",
       "      <td>0.508742</td>\n",
       "    </tr>\n",
       "    <tr>\n",
       "      <th>19</th>\n",
       "      <td>20</td>\n",
       "      <td>24</td>\n",
       "      <td>0.511580</td>\n",
       "    </tr>\n",
       "    <tr>\n",
       "      <th>20</th>\n",
       "      <td>25</td>\n",
       "      <td>20</td>\n",
       "      <td>0.496718</td>\n",
       "    </tr>\n",
       "    <tr>\n",
       "      <th>21</th>\n",
       "      <td>25</td>\n",
       "      <td>21</td>\n",
       "      <td>0.497675</td>\n",
       "    </tr>\n",
       "    <tr>\n",
       "      <th>22</th>\n",
       "      <td>25</td>\n",
       "      <td>22</td>\n",
       "      <td>0.497381</td>\n",
       "    </tr>\n",
       "    <tr>\n",
       "      <th>23</th>\n",
       "      <td>25</td>\n",
       "      <td>23</td>\n",
       "      <td>0.499000</td>\n",
       "    </tr>\n",
       "    <tr>\n",
       "      <th>24</th>\n",
       "      <td>25</td>\n",
       "      <td>24</td>\n",
       "      <td>0.498200</td>\n",
       "    </tr>\n",
       "  </tbody>\n",
       "</table>\n",
       "</div>"
      ],
      "text/plain": [
       "    min_samples_leaf  n_estimators       auc\n",
       "0                  5            20  0.501702\n",
       "1                  5            21  0.505697\n",
       "2                  5            22  0.504450\n",
       "3                  5            23  0.503710\n",
       "4                  5            24  0.506887\n",
       "5                 10            20  0.516546\n",
       "6                 10            21  0.509847\n",
       "7                 10            22  0.511436\n",
       "8                 10            23  0.509540\n",
       "9                 10            24  0.506163\n",
       "10                15            20  0.514562\n",
       "11                15            21  0.513871\n",
       "12                15            22  0.509898\n",
       "13                15            23  0.506242\n",
       "14                15            24  0.501060\n",
       "15                20            20  0.516293\n",
       "16                20            21  0.512701\n",
       "17                20            22  0.511017\n",
       "18                20            23  0.508742\n",
       "19                20            24  0.511580\n",
       "20                25            20  0.496718\n",
       "21                25            21  0.497675\n",
       "22                25            22  0.497381\n",
       "23                25            23  0.499000\n",
       "24                25            24  0.498200"
      ]
     },
     "metadata": {},
     "output_type": "display_data"
    }
   ],
   "source": [
    "scores_rf = []\n",
    "for s in leaves:\n",
    "    for n in estimators:\n",
    "        rf = RandomForestClassifier(n_estimators=n, \n",
    "                                    max_depth=20,\n",
    "                                    min_samples_leaf=s,\n",
    "                                    random_state=1)\n",
    "        rf.fit(X_train, y_train)\n",
    "        y_pred = rf.predict_proba(X_val)[:, 1]\n",
    "        auc = roc_auc_score(y_val, y_pred)\n",
    "        scores_rf.append((s, n, auc))\n",
    "df_scores = pd.DataFrame(scores_rf, columns = ['min_samples_leaf', 'n_estimators', 'auc'])\n",
    "display(df_scores)"
   ]
  },
  {
   "cell_type": "code",
   "execution_count": 138,
   "id": "f6e0e3a7-c22a-47c1-9ef0-23ebe54fdfe5",
   "metadata": {},
   "outputs": [
    {
     "data": {
      "text/html": [
       "<div>\n",
       "<style scoped>\n",
       "    .dataframe tbody tr th:only-of-type {\n",
       "        vertical-align: middle;\n",
       "    }\n",
       "\n",
       "    .dataframe tbody tr th {\n",
       "        vertical-align: top;\n",
       "    }\n",
       "\n",
       "    .dataframe thead th {\n",
       "        text-align: right;\n",
       "    }\n",
       "</style>\n",
       "<table border=\"1\" class=\"dataframe\">\n",
       "  <thead>\n",
       "    <tr style=\"text-align: right;\">\n",
       "      <th>n_estimators</th>\n",
       "      <th>20</th>\n",
       "      <th>21</th>\n",
       "      <th>22</th>\n",
       "      <th>23</th>\n",
       "      <th>24</th>\n",
       "    </tr>\n",
       "    <tr>\n",
       "      <th>min_samples_leaf</th>\n",
       "      <th></th>\n",
       "      <th></th>\n",
       "      <th></th>\n",
       "      <th></th>\n",
       "      <th></th>\n",
       "    </tr>\n",
       "  </thead>\n",
       "  <tbody>\n",
       "    <tr>\n",
       "      <th>1</th>\n",
       "      <td>0.516566</td>\n",
       "      <td>0.521614</td>\n",
       "      <td>0.526149</td>\n",
       "      <td>0.526466</td>\n",
       "      <td>0.528820</td>\n",
       "    </tr>\n",
       "    <tr>\n",
       "      <th>2</th>\n",
       "      <td>0.494174</td>\n",
       "      <td>0.492409</td>\n",
       "      <td>0.493523</td>\n",
       "      <td>0.492663</td>\n",
       "      <td>0.489308</td>\n",
       "    </tr>\n",
       "    <tr>\n",
       "      <th>3</th>\n",
       "      <td>0.497667</td>\n",
       "      <td>0.495505</td>\n",
       "      <td>0.494180</td>\n",
       "      <td>0.491675</td>\n",
       "      <td>0.491904</td>\n",
       "    </tr>\n",
       "    <tr>\n",
       "      <th>4</th>\n",
       "      <td>0.504459</td>\n",
       "      <td>0.497835</td>\n",
       "      <td>0.498618</td>\n",
       "      <td>0.496007</td>\n",
       "      <td>0.498646</td>\n",
       "    </tr>\n",
       "    <tr>\n",
       "      <th>5</th>\n",
       "      <td>0.501702</td>\n",
       "      <td>0.505697</td>\n",
       "      <td>0.504450</td>\n",
       "      <td>0.503710</td>\n",
       "      <td>0.506887</td>\n",
       "    </tr>\n",
       "  </tbody>\n",
       "</table>\n",
       "</div>"
      ],
      "text/plain": [
       "n_estimators            20        21        22        23        24\n",
       "min_samples_leaf                                                  \n",
       "1                 0.516566  0.521614  0.526149  0.526466  0.528820\n",
       "2                 0.494174  0.492409  0.493523  0.492663  0.489308\n",
       "3                 0.497667  0.495505  0.494180  0.491675  0.491904\n",
       "4                 0.504459  0.497835  0.498618  0.496007  0.498646\n",
       "5                 0.501702  0.505697  0.504450  0.503710  0.506887"
      ]
     },
     "metadata": {},
     "output_type": "display_data"
    }
   ],
   "source": [
    "leaves = [1, 2, 3, 4, 5]\n",
    "scores_rf = []\n",
    "for s in leaves:\n",
    "    for n in estimators:\n",
    "        rf = RandomForestClassifier(n_estimators=n, \n",
    "                                    max_depth=20,\n",
    "                                    min_samples_leaf=s,\n",
    "                                    random_state=1)\n",
    "        rf.fit(X_train, y_train)\n",
    "        y_pred = rf.predict_proba(X_val)[:, 1]\n",
    "        auc = roc_auc_score(y_val, y_pred)\n",
    "        scores_rf.append((s, n, auc))\n",
    "df_scores = pd.DataFrame(scores_rf, columns = ['min_samples_leaf', 'n_estimators', 'auc'])\n",
    "df_scores_pivot = df_scores.pivot(index='min_samples_leaf', \n",
    "                                  columns='n_estimators',\n",
    "                                  values='auc')\n",
    "display(df_scores_pivot)"
   ]
  },
  {
   "cell_type": "markdown",
   "id": "c30e191b-be5b-4180-808e-b6e6bd1e51c5",
   "metadata": {},
   "source": [
    "`min_samples_leaf`: 1"
   ]
  },
  {
   "cell_type": "markdown",
   "id": "d41ff00f-2d58-4eb3-b92a-989ae3c96e23",
   "metadata": {},
   "source": [
    "- `max_features`"
   ]
  },
  {
   "cell_type": "code",
   "execution_count": 147,
   "id": "df99481f-a124-434b-b4a6-3f6fcb9b285a",
   "metadata": {},
   "outputs": [],
   "source": [
    "num_features = list(range(5, len(dv.get_feature_names_out()) + 1, 5)) + [None]"
   ]
  },
  {
   "cell_type": "code",
   "execution_count": 148,
   "id": "b5b52469-94e1-4f76-9e1a-404fdc6d0601",
   "metadata": {},
   "outputs": [
    {
     "name": "stdout",
     "output_type": "stream",
     "text": [
      "# features: 5, auc: 0.471\n",
      "# features: 10, auc: 0.48\n",
      "# features: 15, auc: 0.493\n",
      "# features: 20, auc: 0.492\n",
      "# features: 25, auc: 0.504\n",
      "# features: 30, auc: 0.515\n",
      "# features: 35, auc: 0.51\n",
      "# features: 40, auc: 0.501\n",
      "# features: 45, auc: 0.503\n",
      "# features: 50, auc: 0.494\n",
      "# features: None, auc: 0.495\n"
     ]
    }
   ],
   "source": [
    "for f in num_features:\n",
    "    rf = RandomForestClassifier(n_estimators=24, \n",
    "                                max_depth=20,\n",
    "                                min_samples_leaf=1,\n",
    "                                max_features=f,\n",
    "                                random_state=1)\n",
    "    rf.fit(X_train, y_train)\n",
    "    y_pred = rf.predict_proba(X_val)[:, 1]\n",
    "    auc = roc_auc_score(y_val, y_pred)\n",
    "    print(f\"# features: {f}, auc: {round(auc, 3)}\")"
   ]
  },
  {
   "cell_type": "code",
   "execution_count": 149,
   "id": "fab33d33-5df3-4afe-833a-e8b2f82a7d61",
   "metadata": {},
   "outputs": [],
   "source": [
    "num_features = range(25, 35, 1)"
   ]
  },
  {
   "cell_type": "code",
   "execution_count": 150,
   "id": "27a8a498-5609-490b-a42f-5a88ae07b2ee",
   "metadata": {},
   "outputs": [
    {
     "name": "stdout",
     "output_type": "stream",
     "text": [
      "# features: 25, auc: 0.504\n",
      "# features: 26, auc: 0.496\n",
      "# features: 27, auc: 0.501\n",
      "# features: 28, auc: 0.508\n",
      "# features: 29, auc: 0.495\n",
      "# features: 30, auc: 0.515\n",
      "# features: 31, auc: 0.522\n",
      "# features: 32, auc: 0.534\n",
      "# features: 33, auc: 0.498\n",
      "# features: 34, auc: 0.506\n"
     ]
    }
   ],
   "source": [
    "for f in num_features:\n",
    "    rf = RandomForestClassifier(n_estimators=24, \n",
    "                                max_depth=20,\n",
    "                                min_samples_leaf=1,\n",
    "                                max_features=f,\n",
    "                                random_state=1)\n",
    "    rf.fit(X_train, y_train)\n",
    "    y_pred = rf.predict_proba(X_val)[:, 1]\n",
    "    auc = roc_auc_score(y_val, y_pred)\n",
    "    print(f\"# features: {f}, auc: {round(auc, 3)}\")"
   ]
  },
  {
   "cell_type": "markdown",
   "id": "08ad67ce-4ac4-4425-af6e-3debeb00960b",
   "metadata": {},
   "source": [
    "`max_features`: 32"
   ]
  },
  {
   "cell_type": "markdown",
   "id": "b85a17b8-a177-4b68-9ee3-ca46e2690520",
   "metadata": {},
   "source": [
    "Final Random Forest model:\n",
    "```python\n",
    "    rf = RandomForestClassifier(n_estimators=24, \n",
    "                                max_depth=20,\n",
    "                                min_samples_leaf=1,\n",
    "                                max_features=32,\n",
    "                                random_state=1)\n",
    "```"
   ]
  },
  {
   "cell_type": "markdown",
   "id": "b444bb8c-87ff-47e6-91af-e15dc8521487",
   "metadata": {},
   "source": [
    "## XGBoost"
   ]
  }
 ],
 "metadata": {
  "kernelspec": {
   "display_name": "Python 3 (ipykernel)",
   "language": "python",
   "name": "python3"
  },
  "language_info": {
   "codemirror_mode": {
    "name": "ipython",
    "version": 3
   },
   "file_extension": ".py",
   "mimetype": "text/x-python",
   "name": "python",
   "nbconvert_exporter": "python",
   "pygments_lexer": "ipython3",
   "version": "3.11.5"
  }
 },
 "nbformat": 4,
 "nbformat_minor": 5
}

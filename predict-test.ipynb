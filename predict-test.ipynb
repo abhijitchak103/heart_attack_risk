{
 "cells": [
  {
   "cell_type": "markdown",
   "id": "56d3cbd8-05aa-404e-be7d-7651365c2dd9",
   "metadata": {},
   "source": [
    "## Web App Test File"
   ]
  },
  {
   "cell_type": "code",
   "execution_count": 1,
   "id": "010103fa-3055-40ee-8a71-a01d18026fa8",
   "metadata": {},
   "outputs": [],
   "source": [
    "import requests"
   ]
  },
  {
   "cell_type": "code",
   "execution_count": 2,
   "id": "fac9d0fd-b1b6-419a-ba5c-768d80149ea0",
   "metadata": {},
   "outputs": [],
   "source": [
    "url = 'http://0.0.0.0:8080/predict'"
   ]
  },
  {
   "cell_type": "code",
   "execution_count": 28,
   "id": "2e1aa91b-d6ae-4c22-a87d-1c9649349f85",
   "metadata": {},
   "outputs": [],
   "source": [
    "patient = {\n",
    "    \"gender\": \"male\", \n",
    "    \"diabetes\": \"yes\", \n",
    "    \"family_history\": \"yes\", \n",
    "    \"smoking\": \"yes\", \n",
    "    \"obesity\": \"yes\", \n",
    "    \"alcohol_consumption\": \"yes\", \n",
    "    \"diet\": \"unhealthy\", \n",
    "    \"previous_heart_problems\": \"yes\", \n",
    "    \"medication_use\": \"yes\", \n",
    "    \"country\": \"united_states\", \n",
    "    \"age\": 75, \n",
    "    \"cholesterol\": 360, \n",
    "    \"heart_rate\": 85, \n",
    "    \"exercise_hours_per_week\": 8, \n",
    "    \"stress_level\": 10, \n",
    "    \"sedentary_hours_per_day\": 4.987731820348275, \n",
    "    \"income\": 181290, \n",
    "    \"bmi\": 38, \n",
    "    \"triglycerides\": 369, \n",
    "    \"physical_activity_days_per_week\": 2, \n",
    "    \"sleep_hours_per_day\": 3, \n",
    "    \"systolic_bp\": 200, \n",
    "    \"diastolic_bp\": 130\n",
    "}\n"
   ]
  },
  {
   "cell_type": "code",
   "execution_count": 29,
   "id": "e835b339-1e35-45a0-969f-6bd98b5c6127",
   "metadata": {},
   "outputs": [
    {
     "data": {
      "text/plain": [
       "{'attack risk': False, 'risk_probability': 0.405}"
      ]
     },
     "execution_count": 29,
     "metadata": {},
     "output_type": "execute_result"
    }
   ],
   "source": [
    "requests.post(url, json=patient).json()"
   ]
  },
  {
   "cell_type": "code",
   "execution_count": null,
   "id": "3189e85d-ddb7-47c5-870b-1aef6293c9b5",
   "metadata": {},
   "outputs": [],
   "source": []
  }
 ],
 "metadata": {
  "kernelspec": {
   "display_name": "Python 3 (ipykernel)",
   "language": "python",
   "name": "python3"
  },
  "language_info": {
   "codemirror_mode": {
    "name": "ipython",
    "version": 3
   },
   "file_extension": ".py",
   "mimetype": "text/x-python",
   "name": "python",
   "nbconvert_exporter": "python",
   "pygments_lexer": "ipython3",
   "version": "3.11.5"
  }
 },
 "nbformat": 4,
 "nbformat_minor": 5
}
